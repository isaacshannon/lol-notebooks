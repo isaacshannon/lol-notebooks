{
 "cells": [
  {
   "cell_type": "code",
   "execution_count": 174,
   "metadata": {},
   "outputs": [],
   "source": [
    "from PIL import Image, ImageDraw, ImageOps, ImageFilter\n",
    "import os\n",
    "from matplotlib.pyplot import imshow\n",
    "import random"
   ]
  },
  {
   "cell_type": "code",
   "execution_count": 175,
   "metadata": {},
   "outputs": [],
   "source": [
    "raw_dir = \"./character-icons/raw\"\n",
    "raw_images = os.listdir(raw_dir)"
   ]
  },
  {
   "cell_type": "code",
   "execution_count": 176,
   "metadata": {},
   "outputs": [],
   "source": [
    "def empty_dir(folder):\n",
    "    for the_file in os.listdir(folder):\n",
    "        file_path = os.path.join(folder, the_file)\n",
    "        try:\n",
    "            if os.path.isfile(file_path):\n",
    "                os.unlink(file_path)\n",
    "        except Exception as e:\n",
    "            print(e)"
   ]
  },
  {
   "cell_type": "code",
   "execution_count": 177,
   "metadata": {},
   "outputs": [],
   "source": [
    "empty_dir(\"./character-icons/generated-red\")\n",
    "empty_dir(\"./character-icons/generated-blue\")"
   ]
  },
  {
   "cell_type": "markdown",
   "metadata": {},
   "source": [
    "# Generate minimap icons"
   ]
  },
  {
   "cell_type": "code",
   "execution_count": 178,
   "metadata": {},
   "outputs": [],
   "source": [
    "def mini_icon(file):\n",
    "    im = Image.open(f\"{raw_dir}/{file}\")\n",
    "#     im = im.resize((14,14), resample=Image.BILINEAR)\n",
    "    mask = Image.open('./character-icons/mask-lg.png').convert('L')\n",
    "    output = ImageOps.fit(im, mask.size, centering=(0.5, 0.5))\n",
    "    output.putalpha(mask)\n",
    "\n",
    "    red_icon = Image.open('./character-icons/bg-red-lg.png')\n",
    "    red_icon.paste(output, (0,0), mask=output)\n",
    "    \n",
    "    blue_icon = Image.open('./character-icons/bg-blue-lg.png')\n",
    "    blue_icon.paste(output, (0,0), mask=output)\n",
    "    return red_icon.resize((14,14), resample=Image.BILINEAR), blue_icon.resize((14,14), resample=Image.BILINEAR)"
   ]
  },
  {
   "cell_type": "code",
   "execution_count": 179,
   "metadata": {},
   "outputs": [
    {
     "data": {
      "text/plain": [
       "<matplotlib.image.AxesImage at 0x7fd579e1a390>"
      ]
     },
     "execution_count": 179,
     "metadata": {},
     "output_type": "execute_result"
    },
    {
     "data": {
      "image/png": "[encoded data removed]",
      "text/plain": [
       "<Figure size 432x288 with 1 Axes>"
      ]
     },
     "metadata": {
      "needs_background": "light"
     },
     "output_type": "display_data"
    }
   ],
   "source": [
    "res = mini_icon(\"Ahri.png\")\n",
    "imshow(res[1])"
   ]
  },
  {
   "cell_type": "code",
   "execution_count": 180,
   "metadata": {},
   "outputs": [],
   "source": [
    "for img in raw_images:\n",
    "    res = mini_icon(img)\n",
    "    res[0].save(f'./character-icons/generated-red/red-{img}')\n",
    "    res[1].save(f'./character-icons/generated-blue/blue-{img}')"
   ]
  },
  {
   "cell_type": "markdown",
   "metadata": {},
   "source": [
    "# Generate 30x30 images with known team  icons"
   ]
  },
  {
   "cell_type": "code",
   "execution_count": 181,
   "metadata": {},
   "outputs": [],
   "source": [
    "terrain_dir = \"./locator/newdata/train/terrain\"\n",
    "terrain_files = os.listdir(terrain_dir)"
   ]
  },
  {
   "cell_type": "markdown",
   "metadata": {},
   "source": [
    "## Generate splits with all heroes"
   ]
  },
  {
   "cell_type": "code",
   "execution_count": 182,
   "metadata": {},
   "outputs": [],
   "source": [
    "def mini_split(char_dir, characters, terrains):\n",
    "    map_img = Image.open(f\"{terrain_dir}/{random.choice(terrains)}\")\n",
    "    char_img = Image.open(f\"{char_dir}/{random.choice(characters)}\")\n",
    "    x = random.randint(4, 12)\n",
    "    y = random.randint(4, 12)\n",
    "    map_img.paste(char_img, (x, y), mask=char_img)\n",
    "    return map_img\n",
    "\n",
    "\n",
    "def mini_split_blue_red(char_dir, characters, terrains):\n",
    "    map_img = Image.open(f\"{terrain_dir}/{random.choice(terrains)}\")\n",
    "    has_red = False\n",
    "    has_blue = False\n",
    "    for i in range(0, random.randint(2, 3)):\n",
    "        if i % 2 == 0:\n",
    "           d =  \"./character-icons/generated-blue\"\n",
    "        else:\n",
    "           d = \"./character-icons/generated-red\"\n",
    "    \n",
    "        characters = os.listdir(d)\n",
    "        char_img = Image.open(f\"{d}/{random.choice(characters)}\")\n",
    "        x = random.randint(0, 20)\n",
    "        y = random.randint(0, 20)\n",
    "        map_img.paste(char_img, (x, y), mask=char_img)\n",
    "    return map_img"
   ]
  },
  {
   "cell_type": "code",
   "execution_count": 183,
   "metadata": {},
   "outputs": [],
   "source": [
    "num = 5000\n",
    "\n",
    "char_dir = \"./character-icons/generated-red\"\n",
    "for i in range(num):\n",
    "    res = mini_split(char_dir, os.listdir(char_dir), terrain_files)\n",
    "    res.save(f\"./character-icons/split-red/gen-{i}.png\")  \n",
    "    \n",
    "char_dir = \"./character-icons/generated-blue\"\n",
    "for i in range(num):\n",
    "    res = mini_split(char_dir, os.listdir(char_dir), terrain_files)\n",
    "    res.save(f\"./character-icons/split-blue/gen-{i}.png\") \n",
    "\n",
    "for i in range(num):\n",
    "    res = mini_split_blue_red(char_dir, os.listdir(char_dir), terrain_files)\n",
    "    res.save(f\"./character-icons/split-blue-red/gen-{i}.png\")"
   ]
  },
  {
   "cell_type": "markdown",
   "metadata": {},
   "source": [
    "## Generate splits for hard to identify heroes"
   ]
  },
  {
   "cell_type": "code",
   "execution_count": 184,
   "metadata": {},
   "outputs": [
    {
     "data": {
      "image/png": "[encoded data removed]",
      "text/plain": [
       "<Figure size 432x288 with 1 Axes>"
      ]
     },
     "metadata": {
      "needs_background": "light"
     },
     "output_type": "display_data"
    }
   ],
   "source": [
    "difficult_chars = [\n",
    "    (\"generated-blue\", \"split-blue\", \"blue-Pyke.png\"),\n",
    "]\n",
    "num = 100\n",
    "def char_split(char_dir, character, terrains):\n",
    "    map_img = Image.open(f\"{terrain_dir}/{random.choice(terrains)}\")\n",
    "    char_img = Image.open(f\"./character-icons/{char_dir}/{character}\")\n",
    "    x = random.randint(4,12)\n",
    "    y = random.randint(4,12)\n",
    "    map_img.paste(char_img, (x,y), mask=char_img)\n",
    "    return map_img\n",
    "    \n",
    "char_dir = \"./character-icons/generated-blue\"\n",
    "for c in difficult_chars:\n",
    "    for i in range(num):\n",
    "        res = char_split(c[0], c[2], terrain_files)\n",
    "        imshow(res)\n",
    "        res.save(f\"./character-icons/{c[1]}/gen-diff-{i}.png\") \n"
   ]
  },
  {
   "cell_type": "markdown",
   "metadata": {},
   "source": [
    "## Move files to the actual train directory"
   ]
  },
  {
   "cell_type": "code",
   "execution_count": 185,
   "metadata": {},
   "outputs": [],
   "source": [
    "for img in os.listdir(\"./character-icons/split-red\"):\n",
    "    os.rename(f\"./character-icons/split-red/{img}\", f\"./locator/newdata/train/red/{img}\")\n",
    "for img in os.listdir(\"./character-icons/split-blue\"):\n",
    "    os.rename(f\"./character-icons/split-blue/{img}\", f\"./locator/newdata/train/blue/{img}\")\n",
    "for img in os.listdir(\"./character-icons/split-blue-red\"):\n",
    "    os.rename(f\"./character-icons/split-blue-red/{img}\", f\"./locator/newdata/train/blue-red/{img}\")"
   ]
  },
  {
   "cell_type": "markdown",
   "metadata": {},
   "source": [
    "## Remove stale valid images from the validation directory"
   ]
  },
  {
   "cell_type": "code",
   "execution_count": 186,
   "metadata": {},
   "outputs": [],
   "source": [
    "for img in os.listdir(\"./locator/newdata/valid/red\"):\n",
    "    if \"gen\" in img:\n",
    "        os.remove(f\"./locator/newdata/valid/red/{img}\")\n",
    "\n",
    "for img in os.listdir(\"./locator/newdata/valid/blue\"):\n",
    "    if \"gen\" in img:\n",
    "        os.remove(f\"./locator/newdata/valid/blue/{img}\")\n",
    "\n",
    "for img in os.listdir(\"./locator/newdata/valid/blue-red\"):\n",
    "    if \"gen\" in img:\n",
    "        os.remove(f\"./locator/newdata/valid/blue-red/{img}\")"
   ]
  },
  {
   "cell_type": "markdown",
   "metadata": {},
   "source": [
    "## Move valid images back to train"
   ]
  },
  {
   "cell_type": "code",
   "execution_count": 187,
   "metadata": {},
   "outputs": [],
   "source": [
    "for img in os.listdir(\"./locator/newdata/valid/red\"):\n",
    "    os.rename(f\"./locator/newdata/valid/red/{img}\", f\"./locator/newdata/train/red/{img}\")\n",
    "for img in os.listdir(\"./locator/newdata/valid/blue\"):\n",
    "    os.rename(f\"./locator/newdata/valid/blue/{img}\", f\"./locator/newdata/train/blue/{img}\")\n",
    "for img in os.listdir(\"./locator/newdata/valid/blue-red\"):\n",
    "    os.rename(f\"./locator/newdata/valid/blue-red/{img}\", f\"./locator/newdata/train/blue-red/{img}\")"
   ]
  },
  {
   "cell_type": "code",
   "execution_count": null,
   "metadata": {},
   "outputs": [],
   "source": []
  },
  {
   "cell_type": "code",
   "execution_count": null,
   "metadata": {},
   "outputs": [],
   "source": []
  }
 ],
 "metadata": {
  "kernelspec": {
   "display_name": "Python 3",
   "language": "python",
   "name": "python3"
  },
  "language_info": {
   "codemirror_mode": {
    "name": "ipython",
    "version": 3
   },
   "file_extension": ".py",
   "mimetype": "text/x-python",
   "name": "python",
   "nbconvert_exporter": "python",
   "pygments_lexer": "ipython3",
   "version": "3.7.5"
  },
  "toc": {
   "base_numbering": 1,
   "nav_menu": {},
   "number_sections": true,
   "sideBar": true,
   "skip_h1_title": false,
   "title_cell": "Table of Contents",
   "title_sidebar": "Contents",
   "toc_cell": false,
   "toc_position": {},
   "toc_section_display": true,
   "toc_window_display": false
  }
 },
 "nbformat": 4,
 "nbformat_minor": 2
}
