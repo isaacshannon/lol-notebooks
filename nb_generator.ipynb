{
 "cells": [
  {
   "cell_type": "code",
   "execution_count": 67,
   "metadata": {},
   "outputs": [],
   "source": [
    "from PIL import Image, ImageDraw, ImageOps\n",
    "import os\n",
    "from matplotlib.pyplot import imshow\n",
    "import random"
   ]
  },
  {
   "cell_type": "code",
   "execution_count": 68,
   "metadata": {},
   "outputs": [],
   "source": [
    "raw_dir = \"./character-icons/raw\"\n",
    "raw_images = os.listdir(raw_dir)"
   ]
  },
  {
   "cell_type": "markdown",
   "metadata": {},
   "source": [
    "# Generate minimap icons"
   ]
  },
  {
   "cell_type": "code",
   "execution_count": 79,
   "metadata": {},
   "outputs": [],
   "source": [
    "def mini_icon(file):\n",
    "    im = Image.open(f\"{raw_dir}/{file}\")\n",
    "    im = im.resize((14,14), resample=Image.BILINEAR)\n",
    "    mask = Image.open('./character-icons/mask.png').convert('L')\n",
    "    output = ImageOps.fit(im, mask.size, centering=(0.5, 0.5))\n",
    "    output.putalpha(mask)\n",
    "\n",
    "    red_icon = Image.open('./character-icons/bg-red.png')\n",
    "    red_icon.paste(output, (0,0), mask=output)\n",
    "    red_icon.save(f'./character-icons/generated-red/red-{file}')\n",
    "    \n",
    "    blue_icon = Image.open('./character-icons/bg-blue.png')\n",
    "    blue_icon.paste(output, (0,0), mask=output)\n",
    "    blue_icon.save(f'./character-icons/generated-blue/blue-{file}')\n",
    "\n",
    "for img in raw_images:\n",
    "    mini_icon(img)"
   ]
  },
  {
   "cell_type": "markdown",
   "metadata": {},
   "source": [
    "# Generate 30x30 images with known team  icons"
   ]
  },
  {
   "cell_type": "code",
   "execution_count": 80,
   "metadata": {},
   "outputs": [],
   "source": [
    "terrain_dir = \"./locator/newdata/train/terrain\"\n",
    "terrain_files = os.listdir(terrain_dir)"
   ]
  },
  {
   "cell_type": "code",
   "execution_count": 102,
   "metadata": {},
   "outputs": [],
   "source": [
    "num = 5000\n",
    "def mini_split(char_dir, characters, terrains):\n",
    "    map_img = Image.open(f\"{terrain_dir}/{random.choice(terrains)}\")\n",
    "    char_img = Image.open(f\"{char_dir}/{random.choice(characters)}\")\n",
    "    x = random.randint(4,12)\n",
    "    y = random.randint(4,12)\n",
    "    map_img.paste(char_img, (x,y), mask=char_img)\n",
    "    return map_img\n",
    "\n",
    "char_dir = \"./character-icons/generated-red\"\n",
    "for i in range(num):\n",
    "    res = mini_split(char_dir, os.listdir(char_dir), terrain_files)\n",
    "    res.save(f\"./character-icons/split-red/gen-{i}.png\")  \n",
    "    \n",
    "char_dir = \"./character-icons/generated-blue\"\n",
    "for i in range(num):\n",
    "    res = mini_split(char_dir, os.listdir(char_dir), terrain_files)\n",
    "    res.save(f\"./character-icons/split-blue/gen-{i}.png\") \n",
    "\n",
    "def mini_split_blue_red(char_dir, characters, terrains):\n",
    "    map_img = Image.open(f\"{terrain_dir}/{random.choice(terrains)}\")\n",
    "    for i in range(0,random.randint(1,3)):\n",
    "        characters = os.listdir(\"./character-icons/generated-blue\")\n",
    "        char_img = Image.open(f\"./character-icons/generated-blue/{random.choice(characters)}\")\n",
    "        x = random.randint(4,12)\n",
    "        y = random.randint(4,12)\n",
    "        map_img.paste(char_img, (x,y), mask=char_img)\n",
    "    characters = os.listdir(\"./character-icons/generated-red\")    \n",
    "    for i in range(0,random.randint(1,3)):\n",
    "        char_img = Image.open(f\"./character-icons/generated-red/{random.choice(characters)}\")\n",
    "        x = random.randint(4,12)\n",
    "        y = random.randint(4,12)\n",
    "        map_img.paste(char_img, (x,y), mask=char_img)\n",
    "    return map_img\n",
    "\n",
    "for i in range(num):\n",
    "    res = mini_split_blue_red(char_dir, os.listdir(char_dir), terrain_files)\n",
    "    res.save(f\"./character-icons/split-blue-red/gen-{i}.png\")"
   ]
  },
  {
   "cell_type": "code",
   "execution_count": 105,
   "metadata": {},
   "outputs": [],
   "source": [
    "for img in os.listdir(\"./character-icons/split-red\"):\n",
    "    os.rename(f\"./character-icons/split-red/{img}\", f\"./locator/newdata/train/red/{img}\")\n",
    "for img in os.listdir(\"./character-icons/split-blue\"):\n",
    "    os.rename(f\"./character-icons/split-blue/{img}\", f\"./locator/newdata/train/blue/{img}\")\n",
    "for img in os.listdir(\"./character-icons/split-blue-red\"):\n",
    "    os.rename(f\"./character-icons/split-blue-red/{img}\", f\"./locator/newdata/train/blue-red/{img}\")"
   ]
  },
  {
   "cell_type": "code",
   "execution_count": null,
   "metadata": {},
   "outputs": [],
   "source": []
  }
 ],
 "metadata": {
  "kernelspec": {
   "display_name": "Python 3",
   "language": "python",
   "name": "python3"
  },
  "language_info": {
   "codemirror_mode": {
    "name": "ipython",
    "version": 3
   },
   "file_extension": ".py",
   "mimetype": "text/x-python",
   "name": "python",
   "nbconvert_exporter": "python",
   "pygments_lexer": "ipython3",
   "version": "3.7.5"
  },
  "toc": {
   "base_numbering": 1,
   "nav_menu": {},
   "number_sections": true,
   "sideBar": true,
   "skip_h1_title": false,
   "title_cell": "Table of Contents",
   "title_sidebar": "Contents",
   "toc_cell": false,
   "toc_position": {},
   "toc_section_display": true,
   "toc_window_display": false
  }
 },
 "nbformat": 4,
 "nbformat_minor": 2
}
