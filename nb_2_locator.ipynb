{
 "cells": [
  {
   "cell_type": "code",
   "execution_count": 2,
   "metadata": {
    "_cell_guid": "b1076dfc-b9ad-4769-8c92-a6c4dae69d19",
    "_uuid": "8f2839f25d086af736a60e9eeb907d3b93b6e0e5"
   },
   "outputs": [],
   "source": [
    "from tqdm.notebook import tqdm\n",
    "from PIL import ImageDraw, ImageOps, ImageFilter\n",
    "import PIL\n",
    "PIL.PILLOW_VERSION = PIL.__version__\n",
    "import os\n",
    "from shutil import copyfile, rmtree\n",
    "from IPython.display import Image \n",
    "\n",
    "import fastai\n",
    "from fastai.vision import *\n",
    "from fastai.callbacks import *\n",
    "from fastai.utils.mem import *\n",
    "\n",
    "from torchvision.models import vgg16_bn\n",
    "\n",
    "import matplotlib.pyplot as plt\n",
    "import matplotlib.image as mpimg\n",
    "from matplotlib.pyplot import imshow\n",
    "import random\n",
    "from shutil import copyfile\n",
    "\n",
    "import warnings\n",
    "warnings.simplefilter('ignore')\n",
    "\n",
    "\n",
    "%matplotlib inline"
   ]
  },
  {
   "cell_type": "code",
   "execution_count": 2,
   "metadata": {},
   "outputs": [],
   "source": [
    "data_dir = \"./locator\""
   ]
  },
  {
   "cell_type": "code",
   "execution_count": 3,
   "metadata": {},
   "outputs": [
    {
     "data": {
      "text/plain": [
       "0"
      ]
     },
     "execution_count": 3,
     "metadata": {},
     "output_type": "execute_result"
    }
   ],
   "source": [
    "torch.cuda.current_device()"
   ]
  },
  {
   "cell_type": "code",
   "execution_count": 4,
   "metadata": {},
   "outputs": [],
   "source": [
    "colour_enhance = 3"
   ]
  },
  {
   "cell_type": "markdown",
   "metadata": {},
   "source": [
    "This notebook trains a model that identifies if a 30x30px image of the map contains a hero."
   ]
  },
  {
   "cell_type": "markdown",
   "metadata": {},
   "source": [
    "# Validation & Training Sets"
   ]
  },
  {
   "cell_type": "markdown",
   "metadata": {},
   "source": [
    "Move images from the src directories into the train/validation directories"
   ]
  },
  {
   "cell_type": "code",
   "execution_count": 3,
   "metadata": {},
   "outputs": [],
   "source": [
    "def colour_filter(img):\n",
    "    converter = PIL.ImageEnhance.Color(img)\n",
    "    img = converter.enhance(colour_enhance)\n",
    "    overlay = PIL.Image.new('RGBA', img.size, (0, 0, 0, 0))\n",
    "    draw = PIL.ImageDraw.Draw(overlay)\n",
    "    fill = (255,255,255,128)\n",
    "    draw.rectangle((0,0,7,30), fill=fill)\n",
    "    draw.rectangle((0,23,30,30), fill=fill)\n",
    "    draw.rectangle((23,30,30,0), fill=fill)\n",
    "    draw.rectangle((30,0,0,7), fill=fill)\n",
    "    out = PIL.Image.alpha_composite(img, overlay)\n",
    "    \n",
    "    return out\n",
    "\n",
    "def colour_blast(src, dst):\n",
    "    img = PIL.Image.open(src).convert(\"RGBA\")\n",
    "    img = colour_filter(img)\n",
    "    img = img.resize((90,90))\n",
    "#     plt.imshow(img)\n",
    "    \n",
    "    img.save(dst)\n",
    "    \n",
    "\n",
    "def empty_dir(folder):\n",
    "    for the_file in os.listdir(folder):\n",
    "        file_path = os.path.join(folder, the_file)\n",
    "        try:\n",
    "            if os.path.isfile(file_path):\n",
    "                os.unlink(file_path)\n",
    "        except Exception as e:\n",
    "            print(e)"
   ]
  },
  {
   "cell_type": "code",
   "execution_count": 6,
   "metadata": {},
   "outputs": [],
   "source": [
    "# files = os.listdir(\"./locator/data/blue\")\n",
    "# colour_blast(\"./locator/data/blue/\"+files[0],\"\")"
   ]
  },
  {
   "cell_type": "markdown",
   "metadata": {},
   "source": [
    "## Setup Sorted Data"
   ]
  },
  {
   "cell_type": "code",
   "execution_count": 7,
   "metadata": {},
   "outputs": [
    {
     "data": {
      "text/html": [
       "<div>\n",
       "<style scoped>\n",
       "    .dataframe tbody tr th:only-of-type {\n",
       "        vertical-align: middle;\n",
       "    }\n",
       "\n",
       "    .dataframe tbody tr th {\n",
       "        vertical-align: top;\n",
       "    }\n",
       "\n",
       "    .dataframe thead th {\n",
       "        text-align: right;\n",
       "    }\n",
       "</style>\n",
       "<table border=\"1\" class=\"dataframe\">\n",
       "  <thead>\n",
       "    <tr style=\"text-align: right;\">\n",
       "      <th></th>\n",
       "      <th>image_name</th>\n",
       "      <th>tags</th>\n",
       "    </tr>\n",
       "  </thead>\n",
       "  <tbody>\n",
       "    <tr>\n",
       "      <th>0</th>\n",
       "      <td>gen-red-4743</td>\n",
       "      <td>red player</td>\n",
       "    </tr>\n",
       "    <tr>\n",
       "      <th>1</th>\n",
       "      <td>gen-red-2067</td>\n",
       "      <td>red player</td>\n",
       "    </tr>\n",
       "    <tr>\n",
       "      <th>2</th>\n",
       "      <td>gen-red-5138</td>\n",
       "      <td>red player</td>\n",
       "    </tr>\n",
       "    <tr>\n",
       "      <th>3</th>\n",
       "      <td>gen-red-6840</td>\n",
       "      <td>red player</td>\n",
       "    </tr>\n",
       "    <tr>\n",
       "      <th>4</th>\n",
       "      <td>gen-red-876</td>\n",
       "      <td>red player</td>\n",
       "    </tr>\n",
       "    <tr>\n",
       "      <th>...</th>\n",
       "      <td>...</td>\n",
       "      <td>...</td>\n",
       "    </tr>\n",
       "    <tr>\n",
       "      <th>28308</th>\n",
       "      <td>terrain-2ca1aa5d-8552-4749-8594-42f1a47e6820</td>\n",
       "      <td>terrain</td>\n",
       "    </tr>\n",
       "    <tr>\n",
       "      <th>28309</th>\n",
       "      <td>terrain-95-105-cg_mmm_worlds_2019_0000001174</td>\n",
       "      <td>terrain</td>\n",
       "    </tr>\n",
       "    <tr>\n",
       "      <th>28310</th>\n",
       "      <td>terrain-32-28-fnc_rng_1_worlds_oct_13_2019_000...</td>\n",
       "      <td>terrain</td>\n",
       "    </tr>\n",
       "    <tr>\n",
       "      <th>28311</th>\n",
       "      <td>terrain-31-37-fnc_rng_1_worlds_oct_13_2019_000...</td>\n",
       "      <td>terrain</td>\n",
       "    </tr>\n",
       "    <tr>\n",
       "      <th>28312</th>\n",
       "      <td>terrain-70-54-c9_grf_1_worlds_oct_18_2019_0000...</td>\n",
       "      <td>terrain</td>\n",
       "    </tr>\n",
       "  </tbody>\n",
       "</table>\n",
       "<p>28313 rows × 2 columns</p>\n",
       "</div>"
      ],
      "text/plain": [
       "                                              image_name        tags\n",
       "0                                           gen-red-4743  red player\n",
       "1                                           gen-red-2067  red player\n",
       "2                                           gen-red-5138  red player\n",
       "3                                           gen-red-6840  red player\n",
       "4                                            gen-red-876  red player\n",
       "...                                                  ...         ...\n",
       "28308       terrain-2ca1aa5d-8552-4749-8594-42f1a47e6820     terrain\n",
       "28309       terrain-95-105-cg_mmm_worlds_2019_0000001174     terrain\n",
       "28310  terrain-32-28-fnc_rng_1_worlds_oct_13_2019_000...     terrain\n",
       "28311  terrain-31-37-fnc_rng_1_worlds_oct_13_2019_000...     terrain\n",
       "28312  terrain-70-54-c9_grf_1_worlds_oct_18_2019_0000...     terrain\n",
       "\n",
       "[28313 rows x 2 columns]"
      ]
     },
     "execution_count": 7,
     "metadata": {},
     "output_type": "execute_result"
    }
   ],
   "source": [
    "# classes = [\"red\", \"blue\", \"purple\", \"terrain\"]\n",
    "classes = [\"red\", \"blue\", \"terrain\"]\n",
    "dst_all = \"./locator/data/final/all/\"\n",
    "data =[]\n",
    "for c in classes:\n",
    "    tags = c\n",
    "    if c == \"red\" or c == \"blue\":\n",
    "        tags = tags + \" player\"\n",
    "    \n",
    "    dst_valid = f\"./locator/data/final/valid/{c}/\"\n",
    "    dst_train = f\"./locator/data/final/train/{c}/\"\n",
    "    \n",
    "    for f in os.listdir(dst_train):\n",
    "        os.remove(dst_train+f)\n",
    "    for f in os.listdir(dst_valid):\n",
    "        os.remove(dst_valid+f)\n",
    "                \n",
    "    for f in os.listdir(f\"./character-icons/split-{c}/\"):\n",
    "        name = \"gen-\"+c+\"-\"+f\n",
    "        colour_blast(f\"./character-icons/split-{c}/{f}\", dst_all+name)\n",
    "        data.append((name.replace(\".png\", \"\"), tags))\n",
    "    \n",
    "    for f in os.listdir(f\"./locator/data/{c}/\"):\n",
    "        name = c+\"-\"+f\n",
    "        colour_blast(f\"./locator/data/{c}/{f}\", dst_all+name)\n",
    "        data.append((name.replace(\".png\", \"\"), tags))\n",
    "        \n",
    "df = pd.DataFrame(data, columns = ['image_name', 'tags'])\n",
    "df"
   ]
  },
  {
   "cell_type": "markdown",
   "metadata": {},
   "source": [
    "# Create Data Batch"
   ]
  },
  {
   "cell_type": "markdown",
   "metadata": {},
   "source": [
    "Collect the 30x30 images which were split from in-game mini-maps. The model predicts if a player is present in the center 10x10 pixels, the extra image around the center 10x10 gives more context for the model's prediction. "
   ]
  },
  {
   "cell_type": "code",
   "execution_count": 9,
   "metadata": {},
   "outputs": [
    {
     "data": {
      "image/png": "[encoded data removed]",
      "text/plain": [
       "<Figure size 576x576 with 4 Axes>"
      ]
     },
     "metadata": {
      "needs_background": "light"
     },
     "output_type": "display_data"
    }
   ],
   "source": [
    "res = []\n",
    "res.append(rand_zoom(scale=(1.,1.2), p=0.75))\n",
    "res.append(brightness(change=(0.5*(1-0.4), 0.5*(1+0.4)), p=0.75))\n",
    "res.append(contrast(scale=(1-0.2, 1/(1-0.2)), p=0.75))\n",
    "# res.append(cutout(n_holes=(2,10), length=(1, 2), p=1.))\n",
    "\n",
    "tfms = (res, [])\n",
    "\n",
    "src = (ImageList.from_df(df, dst_all, suffix=\".png\", cols=0)\n",
    "#                 .split_by_idx(range(0,len(df)//5))\n",
    "                   .split_by_rand_pct(valid_pct=0.2)\n",
    "                    .label_from_df(label_delim=' ', cols=1))\n",
    "\n",
    "data = ImageDataBunch.create_from_ll(src, ds_tfms=tfms, size=90, bs=256)\n",
    "\n",
    "data.show_batch(rows=2)"
   ]
  },
  {
   "cell_type": "markdown",
   "metadata": {},
   "source": [
    "# Train the Model"
   ]
  },
  {
   "cell_type": "markdown",
   "metadata": {},
   "source": [
    "We train several models, and keep the one with the highest performance. It is still unknown why some models are better, but one explanation from the fastai course may be the initialization of parameters."
   ]
  },
  {
   "cell_type": "markdown",
   "metadata": {},
   "source": [
    "## Model Training"
   ]
  },
  {
   "cell_type": "code",
   "execution_count": 10,
   "metadata": {},
   "outputs": [
    {
     "data": {
      "text/html": [
       "<table border=\"1\" class=\"dataframe\">\n",
       "  <thead>\n",
       "    <tr style=\"text-align: left;\">\n",
       "      <th>epoch</th>\n",
       "      <th>train_loss</th>\n",
       "      <th>valid_loss</th>\n",
       "      <th>accuracy_thresh</th>\n",
       "      <th>time</th>\n",
       "    </tr>\n",
       "  </thead>\n",
       "  <tbody>\n",
       "    <tr>\n",
       "      <td>0</td>\n",
       "      <td>0.149677</td>\n",
       "      <td>0.079235</td>\n",
       "      <td>0.970152</td>\n",
       "      <td>00:21</td>\n",
       "    </tr>\n",
       "  </tbody>\n",
       "</table>"
      ],
      "text/plain": [
       "<IPython.core.display.HTML object>"
      ]
     },
     "metadata": {},
     "output_type": "display_data"
    },
    {
     "name": "stdout",
     "output_type": "stream",
     "text": [
      "Better model found at epoch 0 with valid_loss value: 0.0792345330119133.\n"
     ]
    },
    {
     "data": {
      "text/html": [
       "<table border=\"1\" class=\"dataframe\">\n",
       "  <thead>\n",
       "    <tr style=\"text-align: left;\">\n",
       "      <th>epoch</th>\n",
       "      <th>train_loss</th>\n",
       "      <th>valid_loss</th>\n",
       "      <th>accuracy_thresh</th>\n",
       "      <th>time</th>\n",
       "    </tr>\n",
       "  </thead>\n",
       "  <tbody>\n",
       "    <tr>\n",
       "      <td>0</td>\n",
       "      <td>0.075230</td>\n",
       "      <td>0.087788</td>\n",
       "      <td>0.968430</td>\n",
       "      <td>00:24</td>\n",
       "    </tr>\n",
       "    <tr>\n",
       "      <td>1</td>\n",
       "      <td>0.054138</td>\n",
       "      <td>0.053878</td>\n",
       "      <td>0.980572</td>\n",
       "      <td>00:24</td>\n",
       "    </tr>\n",
       "    <tr>\n",
       "      <td>2</td>\n",
       "      <td>0.032353</td>\n",
       "      <td>0.051630</td>\n",
       "      <td>0.982559</td>\n",
       "      <td>00:24</td>\n",
       "    </tr>\n",
       "  </tbody>\n",
       "</table>"
      ],
      "text/plain": [
       "<IPython.core.display.HTML object>"
      ]
     },
     "metadata": {},
     "output_type": "display_data"
    },
    {
     "name": "stdout",
     "output_type": "stream",
     "text": [
      "Better model found at epoch 0 with valid_loss value: 0.08778751641511917.\n",
      "Better model found at epoch 1 with valid_loss value: 0.053877923637628555.\n",
      "Better model found at epoch 2 with valid_loss value: 0.05163005739450455.\n"
     ]
    }
   ],
   "source": [
    "learn = None\n",
    "gc.collect()\n",
    "\n",
    "thresh = 0.4\n",
    "acc_02 = partial(accuracy_thresh, thresh=thresh)\n",
    "learn = create_cnn(data, models.resnet34, metrics=[acc_02])\n",
    "learn.callbacks = [SaveModelCallback(learn, every='improvement', mode='min', name='best')]\n",
    "\n",
    "lr = 0.015\n",
    "learn.fit_one_cycle(1, lr)\n",
    "learn.unfreeze()\n",
    "learn.fit_one_cycle(3, slice(1e-5, lr/5))"
   ]
  },
  {
   "cell_type": "markdown",
   "metadata": {},
   "source": [
    "## Full Minimap Test"
   ]
  },
  {
   "cell_type": "markdown",
   "metadata": {},
   "source": [
    "Display the model's predictions for an entire minimap."
   ]
  },
  {
   "cell_type": "code",
   "execution_count": 11,
   "metadata": {},
   "outputs": [],
   "source": [
    "grid_size = 15\n",
    "\n",
    "def draw_grid(draw, labels):\n",
    "    fill = (255, 255, 255, 96)\n",
    "    for l in labels:\n",
    "        x = l[0] * grid_size\n",
    "        y = l[1] * grid_size\n",
    "        if l[2] == \"red\":\n",
    "            fill = (255, 0, 0, 96)\n",
    "        if l[2] == \"blue\":\n",
    "            fill = (0, 0, 255, 96)\n",
    "        if l[2] == \"purple\":\n",
    "            fill = (255, 0, 255, 96)\n",
    "        draw.rectangle((x-7, y-7, x + 8, y + 8), fill=fill)\n",
    "\n",
    "\n",
    "def draw_preds(filename, grids):\n",
    "    img = PIL.Image.open(filename).convert(\"RGBA\")\n",
    "\n",
    "    overlay = PIL.Image.new('RGBA', img.size, (255, 255, 255, 0))\n",
    "    draw = ImageDraw.Draw(overlay)\n",
    "    draw_grid(draw, grids)\n",
    "    out = PIL.Image.alpha_composite(img, overlay)\n",
    "    fig, ax = plt.subplots(1,2)\n",
    "    ax[0].imshow(img);\n",
    "    ax[1].imshow(out);\n",
    "#     imshow(np.asarray(out))\n",
    "\n",
    "\n",
    "def get_predictions(img_dir, learner, predictions):\n",
    "    # Predict the grid image types\n",
    "    test = ImageList.from_folder(img_dir)\n",
    "    learner.data.add_test(test)\n",
    "    preds = learner.get_preds(ds_type=DatasetType.Test)\n",
    "    num_preds = len(preds)\n",
    "    z = 0\n",
    "\n",
    "    # Identify the grids which are player squares\n",
    "    for i in range(len(preds[0])):\n",
    "        p = preds[0][i].tolist()\n",
    "        pred_map = {}\n",
    "        for j in range(len(p)):\n",
    "            pred_map[learn.data.classes[j]] = p[j]\n",
    "        if pred_map[\"player\"] < pred_map[\"terrain\"] or pred_map[\"terrain\"] > 0.3:\n",
    "            continue\n",
    "        if pred_map[\"red\"] < pred_map[\"terrain\"] and pred_map[\"blue\"] < pred_map[\"terrain\"]:\n",
    "            continue\n",
    "        if pred_map[\"red\"] > pred_map[\"blue\"]:\n",
    "            category = \"red\"\n",
    "        else:\n",
    "            category = \"blue\"\n",
    "        \n",
    "        img = test.items[i]\n",
    "        fname = img.stem\n",
    "        num = int(fname.split(\"-\")[1])\n",
    "        name = fname.split(\"-\")[0]\n",
    "        x = int(round(num//1000))\n",
    "        y = int(round(num % 1000))\n",
    "        predictions[name].append((x, y, category))\n",
    "        \n",
    "    return predictions\n",
    "\n",
    "\n",
    "def get_grids(learner, filenames):\n",
    "    num_files = len(filenames)\n",
    "    predictions = {}\n",
    "    # Split the image into grids and save the components to the tmp directory.\n",
    "    tmp_dir = data_dir+\"/tmp\"\n",
    "    empty_dir(tmp_dir)\n",
    "    numfiles = len(filenames)\n",
    "    for l in range(numfiles):\n",
    "        f = filenames[l]\n",
    "        im = PIL.Image.open(f).convert(\"RGBA\")\n",
    "        converter = PIL.ImageEnhance.Color(im)\n",
    "        im = converter.enhance(colour_enhance)\n",
    "        imgwidth, imgheight = im.size\n",
    "        base = os.path.basename(f)\n",
    "        fname = os.path.splitext(base)[0]\n",
    "        predictions[fname] = []\n",
    "        for i in range(0, imgheight, grid_size):\n",
    "            for j in range(0, imgwidth, grid_size):\n",
    "                box = (j-15, i-15, j + 15, i + 15)\n",
    "                a = im.crop(box)\n",
    "                a = colour_filter(a)\n",
    "                a.save(data_dir+f\"/tmp/{fname}-{j*1000//grid_size+i//grid_size}.png\")\n",
    "    \n",
    "    tmp_dir = data_dir + \"/tmp\"\n",
    "    predictions = get_predictions(tmp_dir, learner, predictions)\n",
    "    empty_dir(tmp_dir)\n",
    "    return predictions"
   ]
  },
  {
   "cell_type": "code",
   "execution_count": 12,
   "metadata": {},
   "outputs": [],
   "source": [
    "i = 0"
   ]
  },
  {
   "cell_type": "code",
   "execution_count": 62,
   "metadata": {},
   "outputs": [
    {
     "data": {
      "text/html": [],
      "text/plain": [
       "<IPython.core.display.HTML object>"
      ]
     },
     "metadata": {},
     "output_type": "display_data"
    },
    {
     "data": {
      "image/png": "[encoded data removed]",
      "text/plain": [
       "<Figure size 432x288 with 2 Axes>"
      ]
     },
     "metadata": {
      "needs_background": "light"
     },
     "output_type": "display_data"
    }
   ],
   "source": [
    "games = os.listdir(\"./games\")\n",
    "game = random.choice(games)\n",
    "game_dir = f\"./games/{game}/full/\"\n",
    "images = os.listdir(game_dir)\n",
    "image = random.choice(images)\n",
    "\n",
    "filenames = [f\"games/{game}/full/{image}\"]\n",
    "grids = get_grids(learn, filenames)\n",
    "base = os.path.basename(filenames[0])\n",
    "fname = os.path.splitext(base)[0]\n",
    "draw_preds(filenames[0], grids[fname])"
   ]
  },
  {
   "cell_type": "code",
   "execution_count": 63,
   "metadata": {},
   "outputs": [],
   "source": [
    "model_path = 'models/'\n",
    "learn.export(model_path+\"locator.pth\")"
   ]
  },
  {
   "cell_type": "code",
   "execution_count": 64,
   "metadata": {},
   "outputs": [
    {
     "name": "stdout",
     "output_type": "stream",
     "text": [
      "locator/data/final/all\n"
     ]
    }
   ],
   "source": [
    "print(learn.data.path)"
   ]
  },
  {
   "cell_type": "markdown",
   "metadata": {},
   "source": [
    "## Create Full Map Coordinates"
   ]
  },
  {
   "cell_type": "markdown",
   "metadata": {},
   "source": [
    "Use the model we trained to predict the coordinates of each player in the maps. This csv will be used as the target in the final map prediction model."
   ]
  },
  {
   "cell_type": "code",
   "execution_count": 66,
   "metadata": {},
   "outputs": [],
   "source": [
    "# for game in os.listdir(\"./games\"):\n",
    "#     try:\n",
    "#         os.remove(f\"./games/{game}/full/full_{game}.csv\")\n",
    "#     except FileNotFoundError:\n",
    "#         print(\"No Full CSV: \" + game)\n",
    "#     try:\n",
    "#         os.remove(f\"./games/{game}/team/team_{game}.csv\")\n",
    "#     except FileNotFoundError:\n",
    "#         print(\"No Team CSV: \" + game)"
   ]
  },
  {
   "cell_type": "code",
   "execution_count": 69,
   "metadata": {},
   "outputs": [],
   "source": [
    "def predict_positions(subdir):\n",
    "    z = 0\n",
    "    for game in tqdm(os.listdir(\"./games\")):\n",
    "        z += 1\n",
    "        try:\n",
    "            game_dir = f\"./games/{game}/{subdir}\"\n",
    "            maps = os.listdir(game_dir)\n",
    "        except:\n",
    "            print(game + \"is not a game directory\")\n",
    "            continue\n",
    "        \n",
    "        if f\"{subdir}_{game}.csv\" in maps:\n",
    "            print(str(z) + game + \" positions already detected\")\n",
    "            continue\n",
    "            \n",
    "        maps = [m for m in maps if \".png\" in m]\n",
    "        maps = [f\"{game_dir}/{m}\" for m in maps]\n",
    "        if len(maps) < 200:\n",
    "                print(game + \"is not a game directory\")\n",
    "                continue\n",
    "        \n",
    "        grids = get_grids(learn, maps)\n",
    "\n",
    "        fnames = []\n",
    "        tags = []\n",
    "        for k, v in grids.items():\n",
    "            v = [f\"{g[0]};{g[1]};{g[2]}\" for g in v]\n",
    "            v.sort()\n",
    "            v = \" \".join(v)\n",
    "            fnames.append(k)\n",
    "            tags.append(v)\n",
    "\n",
    "        df = pd.DataFrame({'image_name': fnames, 'tags': tags},\n",
    "                          columns=['image_name', 'tags'])\n",
    "        convert_dict = {'image_name': str, 'tags': str}\n",
    "        df = df.astype(convert_dict)\n",
    "        df.replace('', np.nan, inplace=True) # Remove the mini-maps with no players.\n",
    "        df.dropna(subset=['tags'], inplace=True)\n",
    "        df.to_csv(f\"{game_dir}/{subdir}_{game}.csv\", index=False)\n",
    "        print(\"Finished: \" + game)\n",
    "        \n",
    "    "
   ]
  },
  {
   "cell_type": "code",
   "execution_count": 70,
   "metadata": {},
   "outputs": [
    {
     "data": {
      "application/vnd.jupyter.widget-view+json": {
       "model_id": "c6a9ab0e14c446ccaaf2e7524ed4701e",
       "version_major": 2,
       "version_minor": 0
      },
      "text/plain": [
       "HBox(children=(FloatProgress(value=0.0, max=149.0), HTML(value='')))"
      ]
     },
     "metadata": {},
     "output_type": "display_data"
    },
    {
     "name": "stdout",
     "output_type": "stream",
     "text": [
      "1ahq_ig_1_worlds_oct_12_2019 positions already detected\n"
     ]
    },
    {
     "data": {
      "text/html": [],
      "text/plain": [
       "<IPython.core.display.HTML object>"
      ]
     },
     "metadata": {},
     "output_type": "display_data"
    },
    {
     "name": "stdout",
     "output_type": "stream",
     "text": [
      "Finished: lcs_2020_jan25_clg_dig\n",
      "3lec_2020_og_so4 positions already detected\n",
      "4c9_hka_1_worlds_oct_13_2019 positions already detected\n",
      "5gam_spy_1_worlds_oct_12_2019 positions already detected\n"
     ]
    },
    {
     "data": {
      "text/html": [],
      "text/plain": [
       "<IPython.core.display.HTML object>"
      ]
     },
     "metadata": {},
     "output_type": "display_data"
    },
    {
     "name": "stdout",
     "output_type": "stream",
     "text": [
      "Finished: lec_2020_feb22_sk_vit\n",
      "7ahq_dwg_1_worlds_oct_13_2019 positions already detected\n",
      "8ig_tl_1_worlds_oct_12_2019 positions already detected\n",
      "9c9_grf_1_worlds_oct_15_2019 positions already detected\n"
     ]
    },
    {
     "data": {
      "text/html": [],
      "text/plain": [
       "<IPython.core.display.HTML object>"
      ]
     },
     "metadata": {},
     "output_type": "display_data"
    },
    {
     "name": "stdout",
     "output_type": "stream",
     "text": [
      "Finished: lcs_2020_jan25_c9_tl\n",
      "11lec_2020_mad_vit positions already detected\n",
      "12g2_hka_1_worlds_oct_18_2019 positions already detected\n"
     ]
    },
    {
     "data": {
      "text/html": [],
      "text/plain": [
       "<IPython.core.display.HTML object>"
      ]
     },
     "metadata": {},
     "output_type": "display_data"
    },
    {
     "name": "stdout",
     "output_type": "stream",
     "text": [
      "Finished: lec_2020_feb7_msf_so4\n"
     ]
    },
    {
     "data": {
      "text/html": [],
      "text/plain": [
       "<IPython.core.display.HTML object>"
      ]
     },
     "metadata": {},
     "output_type": "display_data"
    },
    {
     "name": "stdout",
     "output_type": "stream",
     "text": [
      "Finished: lec_2020_feb14_rge_so4\n",
      "15dfm_spy_worlds_2019 positions already detected\n",
      "16hka_isg_3_2019 positions already detected\n",
      "17rng_skt_1_worlds_oct_13_2019 positions already detected\n",
      "18mmm_uol_worlds_2019 positions already detected\n"
     ]
    },
    {
     "data": {
      "text/html": [],
      "text/plain": [
       "<IPython.core.display.HTML object>"
      ]
     },
     "metadata": {},
     "output_type": "display_data"
    },
    {
     "name": "stdout",
     "output_type": "stream",
     "text": [
      "Finished: lec_2020_feb14_fnc_vit\n"
     ]
    },
    {
     "data": {
      "text/html": [],
      "text/plain": [
       "<IPython.core.display.HTML object>"
      ]
     },
     "metadata": {},
     "output_type": "display_data"
    },
    {
     "name": "stdout",
     "output_type": "stream",
     "text": [
      "Finished: lec_2020_feb8_fnc_og\n",
      "21lec_2020_g2_vit positions already detected\n",
      "22grf_hka_1_worlds_oct_18_2019 positions already detected\n"
     ]
    },
    {
     "data": {
      "text/html": [],
      "text/plain": [
       "<IPython.core.display.HTML object>"
      ]
     },
     "metadata": {},
     "output_type": "display_data"
    },
    {
     "name": "stdout",
     "output_type": "stream",
     "text": [
      "Finished: lec_2020_feb21_g2_xl\n"
     ]
    },
    {
     "data": {
      "text/html": [],
      "text/plain": [
       "<IPython.core.display.HTML object>"
      ]
     },
     "metadata": {},
     "output_type": "display_data"
    },
    {
     "name": "stdout",
     "output_type": "stream",
     "text": [
      "Finished: lec_2020_feb29_g2_vit\n",
      "25fla_ryl_worlds_2019 positions already detected\n",
      "26ahq_dwg_1_worlds_oct_20_2019 positions already detected\n",
      "27fpx_jt_1_worlds_oct_12_2019 positions already detected\n"
     ]
    },
    {
     "data": {
      "text/html": [],
      "text/plain": [
       "<IPython.core.display.HTML object>"
      ]
     },
     "metadata": {},
     "output_type": "display_data"
    },
    {
     "name": "stdout",
     "output_type": "stream",
     "text": [
      "Finished: lec_2020_feb14_sk_xl\n",
      "29hka_isg_1_2019 positions already detected\n",
      "30lk_mg_2_worlds_2019 positions already detected\n",
      "31lec_2020_fnc_msf positions already detected\n",
      "32dwg_ryl_worlds_2019 positions already detected\n"
     ]
    },
    {
     "data": {
      "text/html": [],
      "text/plain": [
       "<IPython.core.display.HTML object>"
      ]
     },
     "metadata": {},
     "output_type": "display_data"
    },
    {
     "name": "stdout",
     "output_type": "stream",
     "text": [
      "Finished: lec_2020_feb15_rge_sk\n",
      "34c9_hka_1_worlds_oct_18_2019 positions already detected\n"
     ]
    },
    {
     "data": {
      "text/html": [],
      "text/plain": [
       "<IPython.core.display.HTML object>"
      ]
     },
     "metadata": {},
     "output_type": "display_data"
    },
    {
     "name": "stdout",
     "output_type": "stream",
     "text": [
      "Finished: lec_2020_feb8_vit_xl\n"
     ]
    },
    {
     "data": {
      "text/html": [],
      "text/plain": [
       "<IPython.core.display.HTML object>"
      ]
     },
     "metadata": {},
     "output_type": "display_data"
    },
    {
     "name": "stdout",
     "output_type": "stream",
     "text": [
      "Finished: lec_2020_mar7_so4_sk\n"
     ]
    },
    {
     "data": {
      "text/html": [],
      "text/plain": [
       "<IPython.core.display.HTML object>"
      ]
     },
     "metadata": {},
     "output_type": "display_data"
    },
    {
     "name": "stdout",
     "output_type": "stream",
     "text": [
      "Finished: lec_2020_feb29_msf_sk\n"
     ]
    },
    {
     "data": {
      "text/html": [],
      "text/plain": [
       "<IPython.core.display.HTML object>"
      ]
     },
     "metadata": {},
     "output_type": "display_data"
    },
    {
     "name": "stdout",
     "output_type": "stream",
     "text": [
      "Finished: lec_2020_feb7_og_vit\n"
     ]
    },
    {
     "data": {
      "text/html": [],
      "text/plain": [
       "<IPython.core.display.HTML object>"
      ]
     },
     "metadata": {},
     "output_type": "display_data"
    },
    {
     "name": "stdout",
     "output_type": "stream",
     "text": [
      "Finished: lec_2020_feb28_fnc_msf\n",
      "40hka_lk_2_worlds_2019 positions already detected\n"
     ]
    },
    {
     "data": {
      "text/html": [],
      "text/plain": [
       "<IPython.core.display.HTML object>"
      ]
     },
     "metadata": {},
     "output_type": "display_data"
    },
    {
     "name": "stdout",
     "output_type": "stream",
     "text": [
      "Finished: lec_2020_mar6_rge_vit\n",
      "42lec_2021_g2_mad positions already detected\n",
      "43ahq_ig_1_worlds_oct_20_2019 positions already detected\n"
     ]
    },
    {
     "data": {
      "text/html": [],
      "text/plain": [
       "<IPython.core.display.HTML object>"
      ]
     },
     "metadata": {},
     "output_type": "display_data"
    },
    {
     "name": "stdout",
     "output_type": "stream",
     "text": [
      "Finished: lec_2020_feb7_g2_rge\n",
      "45lk_mg_worlds_2019 positions already detected\n",
      "46hka_lk_worlds_2019 positions already detected\n"
     ]
    },
    {
     "data": {
      "text/html": [],
      "text/plain": [
       "<IPython.core.display.HTML object>"
      ]
     },
     "metadata": {},
     "output_type": "display_data"
    },
    {
     "name": "stdout",
     "output_type": "stream",
     "text": [
      "Finished: lec_2020_feb8_sacre_s04\n"
     ]
    },
    {
     "data": {
      "text/html": [],
      "text/plain": [
       "<IPython.core.display.HTML object>"
      ]
     },
     "metadata": {},
     "output_type": "display_data"
    },
    {
     "name": "stdout",
     "output_type": "stream",
     "text": [
      "Finished: lec_2020_feb7_fnc_xl\n"
     ]
    },
    {
     "data": {
      "text/html": [],
      "text/plain": [
       "<IPython.core.display.HTML object>"
      ]
     },
     "metadata": {},
     "output_type": "display_data"
    },
    {
     "name": "stdout",
     "output_type": "stream",
     "text": [
      "Finished: lec_2020_feb28_og_so4\n",
      "50dwg_tl_1_worlds_oct_20_2019 positions already detected\n",
      "51cg_skt_1_worlds_oct_19_2019 positions already detected\n",
      "52lec_2020_mad_xl positions already detected\n",
      "53fpx_gam_1_worlds_oct_15_2019 positions already detected\n",
      "54dwg_lk_worlds_2019 positions already detected\n",
      "55lec_2020_msf_reg positions already detected\n",
      "56spy_uol_3_2019 positions already detected\n"
     ]
    },
    {
     "data": {
      "text/html": [],
      "text/plain": [
       "<IPython.core.display.HTML object>"
      ]
     },
     "metadata": {},
     "output_type": "display_data"
    },
    {
     "name": "stdout",
     "output_type": "stream",
     "text": [
      "Finished: lec_2020_feb28_g2_sk\n",
      "58jt_spy_1_worlds_oct_15_2019 positions already detected\n",
      "59lec_2020_g2_sk positions already detected\n",
      "60ahq_tl_1_worlds_oct_20_2019 positions already detected\n",
      "61lec_2020_so4_xl positions already detected\n"
     ]
    },
    {
     "data": {
      "text/html": [],
      "text/plain": [
       "<IPython.core.display.HTML object>"
      ]
     },
     "metadata": {},
     "output_type": "display_data"
    },
    {
     "name": "stdout",
     "output_type": "stream",
     "text": [
      "Finished: lec_2020_feb29_fnc_so4\n"
     ]
    },
    {
     "data": {
      "text/html": [],
      "text/plain": [
       "<IPython.core.display.HTML object>"
      ]
     },
     "metadata": {},
     "output_type": "display_data"
    },
    {
     "name": "stdout",
     "output_type": "stream",
     "text": [
      "Finished: lec_2020_feb1_mad_so4\n",
      "64spy_uol_2_2019 positions already detected\n"
     ]
    },
    {
     "data": {
      "text/html": [],
      "text/plain": [
       "<IPython.core.display.HTML object>"
      ]
     },
     "metadata": {},
     "output_type": "display_data"
    },
    {
     "name": "stdout",
     "output_type": "stream",
     "text": [
      "Finished: lec_2020_feb15_fnc_mad\n",
      "66spy_uol_6_2019 positions already detected\n",
      "67cg_ryl_3_worlds_2019 positions already detected\n"
     ]
    },
    {
     "data": {
      "text/html": [],
      "text/plain": [
       "<IPython.core.display.HTML object>"
      ]
     },
     "metadata": {},
     "output_type": "display_data"
    },
    {
     "name": "stdout",
     "output_type": "stream",
     "text": [
      "Finished: lec_2020_mar6_mad_so4\n",
      "69fnc_skt_1_worlds_oct_19_2019 positions already detected\n",
      "70hka_isg_4_2019 positions already detected\n",
      "71ig_tl_1_worlds_oct_20_2019 positions already detected\n"
     ]
    },
    {
     "data": {
      "text/html": [],
      "text/plain": [
       "<IPython.core.display.HTML object>"
      ]
     },
     "metadata": {},
     "output_type": "display_data"
    },
    {
     "name": "stdout",
     "output_type": "stream",
     "text": [
      "Finished: lec_2020_feb15_og_xl\n",
      "73g2_grf_2_worlds_oct_18_2019 positions already detected\n",
      "74cg_fnc_1_worlds_oct_13_2019 positions already detected\n",
      "75fnc_rng_1_worlds_oct_13_2019 positions already detected\n",
      "76dwg_fla_worlds_2019 positions already detected\n"
     ]
    },
    {
     "data": {
      "text/html": [],
      "text/plain": [
       "<IPython.core.display.HTML object>"
      ]
     },
     "metadata": {},
     "output_type": "display_data"
    },
    {
     "name": "stdout",
     "output_type": "stream",
     "text": [
      "Finished: lec_2020_feb14_g2_msf\n",
      "78cg_fnc_2_worlds_oct_19_2019 positions already detected\n"
     ]
    },
    {
     "data": {
      "text/html": [],
      "text/plain": [
       "<IPython.core.display.HTML object>"
      ]
     },
     "metadata": {},
     "output_type": "display_data"
    },
    {
     "name": "stdout",
     "output_type": "stream",
     "text": [
      "Finished: lec_2020_feb8_mad_rge\n"
     ]
    },
    {
     "data": {
      "text/html": [],
      "text/plain": [
       "<IPython.core.display.HTML object>"
      ]
     },
     "metadata": {},
     "output_type": "display_data"
    },
    {
     "name": "stdout",
     "output_type": "stream",
     "text": [
      "Finished: lec_2020_feb21_fnc_rge\n",
      "81lec_2020_fnc_og positions already detected\n"
     ]
    },
    {
     "data": {
      "text/html": [],
      "text/plain": [
       "<IPython.core.display.HTML object>"
      ]
     },
     "metadata": {},
     "output_type": "display_data"
    },
    {
     "name": "stdout",
     "output_type": "stream",
     "text": [
      "Finished: lec_2020_mar7_fnc_g2\n",
      "83fla_ryl_3_worlds_2019 positions already detected\n"
     ]
    },
    {
     "data": {
      "text/html": [],
      "text/plain": [
       "<IPython.core.display.HTML object>"
      ]
     },
     "metadata": {},
     "output_type": "display_data"
    },
    {
     "name": "stdout",
     "output_type": "stream",
     "text": [
      "Finished: lec_2020_mar6_fnc_sk\n"
     ]
    },
    {
     "data": {
      "text/html": [],
      "text/plain": [
       "<IPython.core.display.HTML object>"
      ]
     },
     "metadata": {},
     "output_type": "display_data"
    },
    {
     "name": "stdout",
     "output_type": "stream",
     "text": [
      "Finished: lec_2020_feb8_msf_og\n"
     ]
    },
    {
     "data": {
      "text/html": [],
      "text/plain": [
       "<IPython.core.display.HTML object>"
      ]
     },
     "metadata": {},
     "output_type": "display_data"
    },
    {
     "name": "stdout",
     "output_type": "stream",
     "text": [
      "Finished: lec_2020_feb15_msf_vit\n",
      "87fla_ryl_2_worlds_2019 positions already detected\n",
      "88lec_2020_msf_sk positions already detected\n"
     ]
    },
    {
     "data": {
      "text/html": [],
      "text/plain": [
       "<IPython.core.display.HTML object>"
      ]
     },
     "metadata": {},
     "output_type": "display_data"
    },
    {
     "name": "stdout",
     "output_type": "stream",
     "text": [
      "Finished: lec_2020_mar6_g2_og\n",
      "90jt_spy_1_worlds_oct_17_2019 positions already detected\n"
     ]
    },
    {
     "data": {
      "text/html": [],
      "text/plain": [
       "<IPython.core.display.HTML object>"
      ]
     },
     "metadata": {},
     "output_type": "display_data"
    },
    {
     "name": "stdout",
     "output_type": "stream",
     "text": [
      "Finished: lec_2020_feb29_mad_xl\n"
     ]
    },
    {
     "data": {
      "text/html": [],
      "text/plain": [
       "<IPython.core.display.HTML object>"
      ]
     },
     "metadata": {},
     "output_type": "display_data"
    },
    {
     "name": "stdout",
     "output_type": "stream",
     "text": [
      "Finished: lec_2020_feb1_rge_vit\n",
      "93fpx_gam_1_worlds_oct_17_2019 positions already detected\n",
      "94dwg_lk_4_worlds_2019 positions already detected\n"
     ]
    },
    {
     "data": {
      "text/html": [],
      "text/plain": [
       "<IPython.core.display.HTML object>"
      ]
     },
     "metadata": {},
     "output_type": "display_data"
    },
    {
     "name": "stdout",
     "output_type": "stream",
     "text": [
      "Finished: lec_2020_feb1_g2_og\n",
      "96c9_grf_1_worlds_oct_18_2019 positions already detected\n",
      "97fpx_spy_1_worlds_oct_17_2019 positions already detected\n"
     ]
    },
    {
     "data": {
      "text/html": [],
      "text/plain": [
       "<IPython.core.display.HTML object>"
      ]
     },
     "metadata": {},
     "output_type": "display_data"
    },
    {
     "name": "stdout",
     "output_type": "stream",
     "text": [
      "Finished: lec_2020_feb22_fnc_og\n",
      "99dwg_tl_1_worlds_oct_12_2019 positions already detected\n"
     ]
    },
    {
     "data": {
      "text/html": [],
      "text/plain": [
       "<IPython.core.display.HTML object>"
      ]
     },
     "metadata": {},
     "output_type": "display_data"
    },
    {
     "name": "stdout",
     "output_type": "stream",
     "text": [
      "Finished: lcs_2020_jan25_fly_imt\n",
      "101cg_ryl_1_worlds_2019 positions already detected\n"
     ]
    },
    {
     "data": {
      "text/html": [],
      "text/plain": [
       "<IPython.core.display.HTML object>"
      ]
     },
     "metadata": {},
     "output_type": "display_data"
    },
    {
     "name": "stdout",
     "output_type": "stream",
     "text": [
      "Finished: lec_2020_feb7_mad_sk\n"
     ]
    },
    {
     "data": {
      "text/html": [],
      "text/plain": [
       "<IPython.core.display.HTML object>"
      ]
     },
     "metadata": {},
     "output_type": "display_data"
    },
    {
     "name": "stdout",
     "output_type": "stream",
     "text": [
      "Finished: lec_2020_mar7_og_msf\n",
      "104gam_spy_1_worlds_oct_17_2019 positions already detected\n"
     ]
    },
    {
     "data": {
      "text/html": [],
      "text/plain": [
       "<IPython.core.display.HTML object>"
      ]
     },
     "metadata": {},
     "output_type": "display_data"
    },
    {
     "name": "stdout",
     "output_type": "stream",
     "text": [
      "Finished: lcs_2020_jan25_100_gg\n",
      "106rng_skt_2_worlds_oct_19_2019 positions already detected\n",
      "107cg_ryl_2_worlds_2019 positions already detected\n",
      "team_location.csvis not a game directory\n",
      "109spy_uol_5_2019 positions already detected\n",
      "110fnc_skt_1_worlds_oct_12_2019 positions already detected\n"
     ]
    },
    {
     "data": {
      "text/html": [],
      "text/plain": [
       "<IPython.core.display.HTML object>"
      ]
     },
     "metadata": {},
     "output_type": "display_data"
    },
    {
     "name": "stdout",
     "output_type": "stream",
     "text": [
      "Finished: lec_2020_mar7_vit_xl\n"
     ]
    },
    {
     "data": {
      "text/html": [],
      "text/plain": [
       "<IPython.core.display.HTML object>"
      ]
     },
     "metadata": {},
     "output_type": "display_data"
    },
    {
     "name": "stdout",
     "output_type": "stream",
     "text": [
      "Finished: lec_2020_mar6_xl_msf\n"
     ]
    },
    {
     "data": {
      "text/html": [],
      "text/plain": [
       "<IPython.core.display.HTML object>"
      ]
     },
     "metadata": {},
     "output_type": "display_data"
    },
    {
     "name": "stdout",
     "output_type": "stream",
     "text": [
      "Finished: lec_2020_feb22_g2_mad\n",
      "114cg_rng_1_worlds_oct_19_2019 positions already detected\n"
     ]
    },
    {
     "data": {
      "text/html": [],
      "text/plain": [
       "<IPython.core.display.HTML object>"
      ]
     },
     "metadata": {},
     "output_type": "display_data"
    },
    {
     "name": "stdout",
     "output_type": "stream",
     "text": [
      "Finished: lec_2020_feb21_og_sk\n"
     ]
    },
    {
     "data": {
      "text/html": [],
      "text/plain": [
       "<IPython.core.display.HTML object>"
      ]
     },
     "metadata": {},
     "output_type": "display_data"
    },
    {
     "name": "stdout",
     "output_type": "stream",
     "text": [
      "Finished: lec_2020_feb29_og_rge\n",
      "117dwg_ig_1_worlds_oct_20_2019 positions already detected\n",
      "118spy_fpx_1_worlds_oct_17_2019 positions already detected\n"
     ]
    },
    {
     "data": {
      "text/html": [],
      "text/plain": [
       "<IPython.core.display.HTML object>"
      ]
     },
     "metadata": {},
     "output_type": "display_data"
    },
    {
     "name": "stdout",
     "output_type": "stream",
     "text": [
      "Finished: lec_2020_feb14_og_mad\n",
      "120cg_mmm_worlds_2019 positions already detected\n",
      "121hka_isg_2_2019 positions already detected\n",
      "122hka_mg_worlds_2019 positions already detected\n"
     ]
    },
    {
     "data": {
      "text/html": [],
      "text/plain": [
       "<IPython.core.display.HTML object>"
      ]
     },
     "metadata": {},
     "output_type": "display_data"
    },
    {
     "name": "stdout",
     "output_type": "stream",
     "text": [
      "Finished: lec_2020_mar7_mad_rge\n",
      "124dwg_lk_3_worlds_2019 positions already detected\n",
      "125cg_skt_1_worlds_oct_15_2019 positions already detected\n"
     ]
    },
    {
     "data": {
      "text/html": [],
      "text/plain": [
       "<IPython.core.display.HTML object>"
      ]
     },
     "metadata": {},
     "output_type": "display_data"
    },
    {
     "name": "stdout",
     "output_type": "stream",
     "text": [
      "Finished: lec_2020_feb28_rge_xl\n",
      "127spy_uol_4_2019 positions already detected\n",
      "128dwg_lk_2_worlds_2019 positions already detected\n",
      "129isg_spy_worlds_2019 positions already detected\n",
      "130gam_jt_1_worlds_oct_17_2019 positions already detected\n",
      "131lec_2020_rge_xl positions already detected\n"
     ]
    },
    {
     "data": {
      "text/html": [],
      "text/plain": [
       "<IPython.core.display.HTML object>"
      ]
     },
     "metadata": {},
     "output_type": "display_data"
    },
    {
     "name": "stdout",
     "output_type": "stream",
     "text": [
      "Finished: lcs_2020_jan26_dig_eg\n",
      "133fpx_jt_1_worlds_oct_17_2019 positions already detected\n",
      "134grf_g2_1_worlds_oct_13_2019 positions already detected\n"
     ]
    },
    {
     "data": {
      "text/html": [],
      "text/plain": [
       "<IPython.core.display.HTML object>"
      ]
     },
     "metadata": {},
     "output_type": "display_data"
    },
    {
     "name": "stdout",
     "output_type": "stream",
     "text": [
      "Finished: lec_2020_feb1_fnc_sk\n"
     ]
    },
    {
     "data": {
      "text/html": [],
      "text/plain": [
       "<IPython.core.display.HTML object>"
      ]
     },
     "metadata": {},
     "output_type": "display_data"
    },
    {
     "name": "stdout",
     "output_type": "stream",
     "text": [
      "Finished: lec_2020_feb15_g2_so4\n",
      "137fnc_rng_1_worlds_oct_19_2019 positions already detected\n"
     ]
    },
    {
     "data": {
      "text/html": [],
      "text/plain": [
       "<IPython.core.display.HTML object>"
      ]
     },
     "metadata": {},
     "output_type": "display_data"
    },
    {
     "name": "stdout",
     "output_type": "stream",
     "text": [
      "Finished: lec_2020_feb21_so4_vit\n"
     ]
    },
    {
     "data": {
      "text/html": [],
      "text/plain": [
       "<IPython.core.display.HTML object>"
      ]
     },
     "metadata": {},
     "output_type": "display_data"
    },
    {
     "name": "stdout",
     "output_type": "stream",
     "text": [
      "Finished: lec_2020_feb22_msf_rge\n"
     ]
    },
    {
     "data": {
      "text/html": [],
      "text/plain": [
       "<IPython.core.display.HTML object>"
      ]
     },
     "metadata": {},
     "output_type": "display_data"
    },
    {
     "name": "stdout",
     "output_type": "stream",
     "text": [
      "Finished: lec_2020_feb28_mad_vit\n",
      "141g2_grf_1_worlds_oct_18_2019 positions already detected\n",
      "142c9_g2_1_worlds_oct_18_2019 positions already detected\n"
     ]
    },
    {
     "data": {
      "text/html": [],
      "text/plain": [
       "<IPython.core.display.HTML object>"
      ]
     },
     "metadata": {},
     "output_type": "display_data"
    },
    {
     "name": "stdout",
     "output_type": "stream",
     "text": [
      "Finished: lec_2020_feb22_so4_xl\n"
     ]
    },
    {
     "data": {
      "text/html": [],
      "text/plain": [
       "<IPython.core.display.HTML object>"
      ]
     },
     "metadata": {},
     "output_type": "display_data"
    },
    {
     "name": "stdout",
     "output_type": "stream",
     "text": [
      "Finished: lec_2020_feb1_msf_xl\n"
     ]
    },
    {
     "data": {
      "text/html": [],
      "text/plain": [
       "<IPython.core.display.HTML object>"
      ]
     },
     "metadata": {},
     "output_type": "display_data"
    },
    {
     "name": "stdout",
     "output_type": "stream",
     "text": [
      "Finished: lec_2021_vit_sk\n",
      "146cg_rng_1_worlds_oct_12_2019 positions already detected\n",
      "147cg_uol_worlds_2019 positions already detected\n"
     ]
    },
    {
     "data": {
      "text/html": [],
      "text/plain": [
       "<IPython.core.display.HTML object>"
      ]
     },
     "metadata": {},
     "output_type": "display_data"
    },
    {
     "name": "stdout",
     "output_type": "stream",
     "text": [
      "Finished: lec_2020_feb21_mad_msf\n",
      "149lec_2020_og_rge positions already detected\n",
      "\n"
     ]
    }
   ],
   "source": [
    "predict_positions(\"full\")\n"
   ]
  },
  {
   "cell_type": "markdown",
   "metadata": {},
   "source": [
    "# Create Final Data"
   ]
  },
  {
   "cell_type": "markdown",
   "metadata": {},
   "source": [
    "Collect the data which will used in the final model training."
   ]
  },
  {
   "cell_type": "markdown",
   "metadata": {},
   "source": [
    "## Collect Images "
   ]
  },
  {
   "cell_type": "code",
   "execution_count": 72,
   "metadata": {},
   "outputs": [
    {
     "data": {
      "application/vnd.jupyter.widget-view+json": {
       "model_id": "71b11b68b83e4c72a19e26c93a8813a0",
       "version_major": 2,
       "version_minor": 0
      },
      "text/plain": [
       "HBox(children=(FloatProgress(value=0.0, max=148.0), HTML(value='')))"
      ]
     },
     "metadata": {},
     "output_type": "display_data"
    },
    {
     "name": "stdout",
     "output_type": "stream",
     "text": [
      "\n"
     ]
    }
   ],
   "source": [
    "dst_dir = \"./games_collected\"\n",
    "empty_dir(f\"{dst_dir}/team\")\n",
    "empty_dir(f\"{dst_dir}/full\")\n",
    "\n",
    "games = os.listdir(\"./games\")\n",
    "# Remove images, csv, and other random files from the move\n",
    "games = [g for g in games if not \".\" in g and \"_\" in g]\n",
    "for g in tqdm(games):\n",
    "    team_dir = f\"./games/{g}/team\"\n",
    "    full_dir = f\"./games/{g}/full\"\n",
    "    team_maps = os.listdir(team_dir)\n",
    "    team_maps = [m for m in team_maps if \".png\" in m]\n",
    "    team_maps.sort()\n",
    "    for i in range(len(team_maps)):\n",
    "        shutil.copy(f\"{full_dir}/{team_maps[i]}\", f\"{dst_dir}/full/{team_maps[i]}\")\n",
    "        shutil.copy(f\"{team_dir}/{team_maps[i]}\", f\"{dst_dir}/team/{team_maps[i]}\")"
   ]
  },
  {
   "cell_type": "markdown",
   "metadata": {},
   "source": [
    "## Enhance Images"
   ]
  },
  {
   "cell_type": "code",
   "execution_count": 5,
   "metadata": {},
   "outputs": [
    {
     "data": {
      "application/vnd.jupyter.widget-view+json": {
       "model_id": "c059c16fbbb54ebd922eea51bc692598",
       "version_major": 2,
       "version_minor": 0
      },
      "text/plain": [
       "HBox(children=(FloatProgress(value=0.0, max=177919.0), HTML(value='')))"
      ]
     },
     "metadata": {},
     "output_type": "display_data"
    },
    {
     "name": "stdout",
     "output_type": "stream",
     "text": [
      "\n"
     ]
    }
   ],
   "source": [
    "empty_dir(\"./games_enhanced\")\n",
    "image_names = os.listdir(\"./games_collected/team\")\n",
    "for name in tqdm(image_names):\n",
    "    if not \".png\" in name:\n",
    "        continue\n",
    "    img = PIL.Image.open(\"./games_collected/team/\"+name).convert(\"RGBA\")\n",
    "    converter = PIL.ImageEnhance.Color(img)\n",
    "    img = converter.enhance(colour_enhance)\n",
    "    img.save(\"./games_enhanced/\"+name)\n",
    "    "
   ]
  },
  {
   "cell_type": "code",
   "execution_count": null,
   "metadata": {},
   "outputs": [],
   "source": []
  }
 ],
 "metadata": {
  "kernelspec": {
   "display_name": "Python 3",
   "language": "python",
   "name": "python3"
  },
  "language_info": {
   "codemirror_mode": {
    "name": "ipython",
    "version": 3
   },
   "file_extension": ".py",
   "mimetype": "text/x-python",
   "name": "python",
   "nbconvert_exporter": "python",
   "pygments_lexer": "ipython3",
   "version": "3.7.7"
  },
  "toc": {
   "base_numbering": 1,
   "nav_menu": {},
   "number_sections": true,
   "sideBar": true,
   "skip_h1_title": false,
   "title_cell": "Table of Contents",
   "title_sidebar": "Contents",
   "toc_cell": false,
   "toc_position": {
    "height": "calc(100% - 180px)",
    "left": "10px",
    "top": "150px",
    "width": "370.6px"
   },
   "toc_section_display": true,
   "toc_window_display": true
  }
 },
 "nbformat": 4,
 "nbformat_minor": 1
}
