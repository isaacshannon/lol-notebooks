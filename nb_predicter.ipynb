{
 "cells": [
  {
   "cell_type": "code",
   "execution_count": 2,
   "metadata": {
    "_cell_guid": "b1076dfc-b9ad-4769-8c92-a6c4dae69d19",
    "_uuid": "8f2839f25d086af736a60e9eeb907d3b93b6e0e5"
   },
   "outputs": [],
   "source": [
    "import os\n",
    "from shutil import copyfile, rmtree\n",
    "\n",
    "import fastai\n",
    "from fastai.vision import *\n",
    "from fastai.callbacks import *\n",
    "from fastai.utils.mem import *\n",
    "\n",
    "from torchvision.models import vgg16_bn\n",
    "\n",
    "import matplotlib.pyplot as plt\n",
    "import matplotlib.image as mpimg\n",
    "from matplotlib.pyplot import imshow\n",
    "\n",
    "\n",
    "import warnings; warnings.simplefilter('ignore')\n",
    "\n",
    "import PIL\n",
    "from PIL import ImageDraw\n",
    "\n",
    "%matplotlib inline"
   ]
  },
  {
   "cell_type": "code",
   "execution_count": 3,
   "metadata": {},
   "outputs": [],
   "source": [
    "data_dir = \"games_collected\""
   ]
  },
  {
   "cell_type": "code",
   "execution_count": 3,
   "metadata": {},
   "outputs": [
    {
     "data": {
      "text/html": [
       "<div>\n",
       "<style scoped>\n",
       "    .dataframe tbody tr th:only-of-type {\n",
       "        vertical-align: middle;\n",
       "    }\n",
       "\n",
       "    .dataframe tbody tr th {\n",
       "        vertical-align: top;\n",
       "    }\n",
       "\n",
       "    .dataframe thead th {\n",
       "        text-align: right;\n",
       "    }\n",
       "</style>\n",
       "<table border=\"1\" class=\"dataframe\">\n",
       "  <thead>\n",
       "    <tr style=\"text-align: right;\">\n",
       "      <th></th>\n",
       "      <th>image_name</th>\n",
       "      <th>tags</th>\n",
       "    </tr>\n",
       "  </thead>\n",
       "  <tbody>\n",
       "    <tr>\n",
       "      <th>22498</th>\n",
       "      <td>cg_mmm_worlds_2019_0000000000</td>\n",
       "      <td>10-10 10-6 10-7 11-7 2-2 3-3 5-5 7-6 7-7 7-9</td>\n",
       "    </tr>\n",
       "    <tr>\n",
       "      <th>31831</th>\n",
       "      <td>cg_mmm_worlds_2019_0000000001</td>\n",
       "      <td>10-11 10-7 11-11 11-7 11-8 13-10 2-2 3-3 3-4 5...</td>\n",
       "    </tr>\n",
       "    <tr>\n",
       "      <th>8573</th>\n",
       "      <td>cg_mmm_worlds_2019_0000000002</td>\n",
       "      <td>1-2 10-10 10-11 10-6 10-7 11-7 2-2 2-3 3-3 5-1...</td>\n",
       "    </tr>\n",
       "    <tr>\n",
       "      <th>10141</th>\n",
       "      <td>cg_mmm_worlds_2019_0000000003</td>\n",
       "      <td>1-2 10-11 10-6 10-7 10-8 11-7 2-2 2-3 3-3 5-12...</td>\n",
       "    </tr>\n",
       "    <tr>\n",
       "      <th>27090</th>\n",
       "      <td>cg_mmm_worlds_2019_0000000004</td>\n",
       "      <td>10-11 10-7 11-7 11-8 2-2 3-3 6-11 6-12 6-6 7-1...</td>\n",
       "    </tr>\n",
       "    <tr>\n",
       "      <th>...</th>\n",
       "      <td>...</td>\n",
       "      <td>...</td>\n",
       "    </tr>\n",
       "    <tr>\n",
       "      <th>10943</th>\n",
       "      <td>spy_uol_6_2019_0000001595</td>\n",
       "      <td>10-4 10-5 10-6 11-4 11-5 11-6 12-4 12-5 12-6 1...</td>\n",
       "    </tr>\n",
       "    <tr>\n",
       "      <th>6781</th>\n",
       "      <td>spy_uol_6_2019_0000001596</td>\n",
       "      <td>10-4 10-5 11-4 11-5 12-4 12-5 5-5 9-4 9-5</td>\n",
       "    </tr>\n",
       "    <tr>\n",
       "      <th>6136</th>\n",
       "      <td>spy_uol_6_2019_0000001597</td>\n",
       "      <td>10-3 10-4 10-5 12-4 12-5 13-5 9-5</td>\n",
       "    </tr>\n",
       "    <tr>\n",
       "      <th>32478</th>\n",
       "      <td>spy_uol_6_2019_0000001598</td>\n",
       "      <td>10-4 10-5 11-4 12-4 12-5 9-4 9-5</td>\n",
       "    </tr>\n",
       "    <tr>\n",
       "      <th>28546</th>\n",
       "      <td>spy_uol_6_2019_0000001599</td>\n",
       "      <td>10-4 10-5 11-4 11-5 12-4 12-5 12-6 13-5 9-5</td>\n",
       "    </tr>\n",
       "  </tbody>\n",
       "</table>\n",
       "<p>38268 rows × 2 columns</p>\n",
       "</div>"
      ],
      "text/plain": [
       "                          image_name  \\\n",
       "22498  cg_mmm_worlds_2019_0000000000   \n",
       "31831  cg_mmm_worlds_2019_0000000001   \n",
       "8573   cg_mmm_worlds_2019_0000000002   \n",
       "10141  cg_mmm_worlds_2019_0000000003   \n",
       "27090  cg_mmm_worlds_2019_0000000004   \n",
       "...                              ...   \n",
       "10943      spy_uol_6_2019_0000001595   \n",
       "6781       spy_uol_6_2019_0000001596   \n",
       "6136       spy_uol_6_2019_0000001597   \n",
       "32478      spy_uol_6_2019_0000001598   \n",
       "28546      spy_uol_6_2019_0000001599   \n",
       "\n",
       "                                                    tags  \n",
       "22498       10-10 10-6 10-7 11-7 2-2 3-3 5-5 7-6 7-7 7-9  \n",
       "31831  10-11 10-7 11-11 11-7 11-8 13-10 2-2 3-3 3-4 5...  \n",
       "8573   1-2 10-10 10-11 10-6 10-7 11-7 2-2 2-3 3-3 5-1...  \n",
       "10141  1-2 10-11 10-6 10-7 10-8 11-7 2-2 2-3 3-3 5-12...  \n",
       "27090  10-11 10-7 11-7 11-8 2-2 3-3 6-11 6-12 6-6 7-1...  \n",
       "...                                                  ...  \n",
       "10943  10-4 10-5 10-6 11-4 11-5 11-6 12-4 12-5 12-6 1...  \n",
       "6781           10-4 10-5 11-4 11-5 12-4 12-5 5-5 9-4 9-5  \n",
       "6136                   10-3 10-4 10-5 12-4 12-5 13-5 9-5  \n",
       "32478                   10-4 10-5 11-4 12-4 12-5 9-4 9-5  \n",
       "28546        10-4 10-5 11-4 11-5 12-4 12-5 12-6 13-5 9-5  \n",
       "\n",
       "[38268 rows x 2 columns]"
      ]
     },
     "execution_count": 3,
     "metadata": {},
     "output_type": "execute_result"
    }
   ],
   "source": [
    "df = pd.read_csv(f'{data_dir}/team/full_coordinates.csv')\n",
    "df = df.sort_values(by=['image_name'])\n",
    "df = df[df.image_name != \"test_0000000000\"]\n",
    "df = df[df.image_name != \"test_0000000001\"]\n",
    "df = df[df.image_name != \"test_0000000002\"]\n",
    "df = df[df.image_name != \"test_0000000003\"]\n",
    "df = df[df.image_name != \"test_0000000004\"]\n",
    "df"
   ]
  },
  {
   "cell_type": "code",
   "execution_count": 4,
   "metadata": {},
   "outputs": [
    {
     "data": {
      "image/png": "[encoded data removed]",
      "text/plain": [
       "<Figure size 288x288 with 1 Axes>"
      ]
     },
     "metadata": {
      "needs_background": "light"
     },
     "output_type": "display_data"
    }
   ],
   "source": [
    "data = (ImageList.from_df(df, data_dir+\"/composite\", suffix='.png')\n",
    "        .split_by_idx(range(0,int(len(df)/5)))\n",
    "        .label_from_df(label_delim=' ')\n",
    "        .databunch(bs=64)\n",
    "        .normalize(imagenet_stats))\n",
    "\n",
    "data.show_batch(rows=1)"
   ]
  },
  {
   "cell_type": "markdown",
   "metadata": {},
   "source": [
    "https://gilberttanner.com/blog/fastai-multi-label-image-classification"
   ]
  },
  {
   "cell_type": "code",
   "execution_count": 10,
   "metadata": {},
   "outputs": [
    {
     "data": {
      "text/plain": [
       "0"
      ]
     },
     "execution_count": 10,
     "metadata": {},
     "output_type": "execute_result"
    }
   ],
   "source": [
    "thresh = 0.2\n",
    "acc_02 = partial(accuracy_thresh, thresh=thresh)\n",
    "f_score = partial(fbeta, thresh=thresh)\n",
    "learn = create_cnn(data, models.resnet50, metrics=[acc_02, f_score])\n",
    "learn.callbacks = [SaveModelCallback(learn, every='improvement', mode='min', name='best')]\n",
    "gc.collect()"
   ]
  },
  {
   "cell_type": "code",
   "execution_count": 6,
   "metadata": {},
   "outputs": [],
   "source": [
    "# learn.lr_find()\n",
    "# learn.recorder.plot()"
   ]
  },
  {
   "cell_type": "code",
   "execution_count": 12,
   "metadata": {},
   "outputs": [
    {
     "data": {
      "text/html": [
       "<table border=\"1\" class=\"dataframe\">\n",
       "  <thead>\n",
       "    <tr style=\"text-align: left;\">\n",
       "      <th>epoch</th>\n",
       "      <th>train_loss</th>\n",
       "      <th>valid_loss</th>\n",
       "      <th>accuracy_thresh</th>\n",
       "      <th>fbeta</th>\n",
       "      <th>time</th>\n",
       "    </tr>\n",
       "  </thead>\n",
       "  <tbody>\n",
       "    <tr>\n",
       "      <td>0</td>\n",
       "      <td>0.165580</td>\n",
       "      <td>0.175435</td>\n",
       "      <td>0.909120</td>\n",
       "      <td>0.530937</td>\n",
       "      <td>01:56</td>\n",
       "    </tr>\n",
       "  </tbody>\n",
       "</table>"
      ],
      "text/plain": [
       "<IPython.core.display.HTML object>"
      ]
     },
     "metadata": {},
     "output_type": "display_data"
    },
    {
     "name": "stdout",
     "output_type": "stream",
     "text": [
      "Better model found at epoch 0 with valid_loss value: 0.1754351407289505.\n"
     ]
    }
   ],
   "source": [
    "lr = 0.02\n",
    "learn.fit_one_cycle(1, lr)"
   ]
  },
  {
   "cell_type": "code",
   "execution_count": 13,
   "metadata": {},
   "outputs": [],
   "source": [
    "learn.unfreeze()"
   ]
  },
  {
   "cell_type": "code",
   "execution_count": 14,
   "metadata": {},
   "outputs": [
    {
     "data": {
      "text/html": [
       "<table border=\"1\" class=\"dataframe\">\n",
       "  <thead>\n",
       "    <tr style=\"text-align: left;\">\n",
       "      <th>epoch</th>\n",
       "      <th>train_loss</th>\n",
       "      <th>valid_loss</th>\n",
       "      <th>accuracy_thresh</th>\n",
       "      <th>fbeta</th>\n",
       "      <th>time</th>\n",
       "    </tr>\n",
       "  </thead>\n",
       "  <tbody>\n",
       "    <tr>\n",
       "      <td>0</td>\n",
       "      <td>0.162636</td>\n",
       "      <td>0.174681</td>\n",
       "      <td>0.907994</td>\n",
       "      <td>0.536111</td>\n",
       "      <td>02:34</td>\n",
       "    </tr>\n",
       "    <tr>\n",
       "      <td>1</td>\n",
       "      <td>0.155605</td>\n",
       "      <td>0.174474</td>\n",
       "      <td>0.913648</td>\n",
       "      <td>0.528405</td>\n",
       "      <td>02:35</td>\n",
       "    </tr>\n",
       "    <tr>\n",
       "      <td>2</td>\n",
       "      <td>0.147721</td>\n",
       "      <td>0.168872</td>\n",
       "      <td>0.914272</td>\n",
       "      <td>0.560443</td>\n",
       "      <td>02:36</td>\n",
       "    </tr>\n",
       "    <tr>\n",
       "      <td>3</td>\n",
       "      <td>0.136637</td>\n",
       "      <td>0.168314</td>\n",
       "      <td>0.914594</td>\n",
       "      <td>0.564412</td>\n",
       "      <td>02:36</td>\n",
       "    </tr>\n",
       "    <tr>\n",
       "      <td>4</td>\n",
       "      <td>0.125125</td>\n",
       "      <td>0.169966</td>\n",
       "      <td>0.909471</td>\n",
       "      <td>0.574534</td>\n",
       "      <td>02:35</td>\n",
       "    </tr>\n",
       "    <tr>\n",
       "      <td>5</td>\n",
       "      <td>0.116109</td>\n",
       "      <td>0.172342</td>\n",
       "      <td>0.913187</td>\n",
       "      <td>0.569000</td>\n",
       "      <td>02:36</td>\n",
       "    </tr>\n",
       "  </tbody>\n",
       "</table>"
      ],
      "text/plain": [
       "<IPython.core.display.HTML object>"
      ]
     },
     "metadata": {},
     "output_type": "display_data"
    },
    {
     "name": "stdout",
     "output_type": "stream",
     "text": [
      "Better model found at epoch 0 with valid_loss value: 0.17468073964118958.\n",
      "Better model found at epoch 1 with valid_loss value: 0.1744740903377533.\n",
      "Better model found at epoch 2 with valid_loss value: 0.16887179017066956.\n",
      "Better model found at epoch 3 with valid_loss value: 0.16831383109092712.\n"
     ]
    }
   ],
   "source": [
    "learn.fit_one_cycle(6, slice(1e-5, lr/5))"
   ]
  },
  {
   "cell_type": "markdown",
   "metadata": {},
   "source": [
    "### Results\n",
    "* learn.fit_one_cycle(10, slice(1e-5, lr/5)) == lr=0.05 Resnet50 == No Composite\n",
    "* Better model found at epoch 7 with valid_loss value: 0.16599667072296143.\n",
    "* learn.fit_one_cycle(10, slice(1e-5, lr/5)) == lr=0.05 Resnet50 == Stripe composite\n",
    "* Better model found at epoch 4 with valid_loss value: 0.16605345904827118."
   ]
  },
  {
   "cell_type": "code",
   "execution_count": 15,
   "metadata": {},
   "outputs": [
    {
     "data": {
      "text/html": [],
      "text/plain": [
       "<IPython.core.display.HTML object>"
      ]
     },
     "metadata": {},
     "output_type": "display_data"
    }
   ],
   "source": [
    "preds = learn.get_preds(ds_type=DatasetType.Valid)"
   ]
  },
  {
   "cell_type": "code",
   "execution_count": 16,
   "metadata": {},
   "outputs": [],
   "source": [
    "grid_size = 10\n",
    "def draw_grid(draw, labels):\n",
    "    fill = (0, 255, 255, 96)\n",
    "    for l in labels:\n",
    "        x = l[0] * grid_size\n",
    "        y = l[1] * grid_size\n",
    "        draw.rectangle((x, y, x + grid_size, y + grid_size), fill=fill)\n",
    "        \n",
    "def process(image):\n",
    "    plt.figure()\n",
    "    plt.imshow(image)\n",
    "        \n",
    "def draw_preds(index):\n",
    "    p = preds[0][index]\n",
    "    classes = [data.classes[i] for i in range(len(p)) if p[i] > thresh]\n",
    "    classes = [(int(c.split(\"-\")[0]), int(c.split(\"-\")[1])) for c in classes]\n",
    "\n",
    "    filename = learn.data.valid_ds.items[index]\n",
    "    img = PIL.Image.open(filename)\n",
    "\n",
    "    overlay = PIL.Image.new('RGBA', img.size, (255, 255, 255, 0))\n",
    "    draw = ImageDraw.Draw(overlay)\n",
    "    draw_grid(draw, classes)\n",
    "    out = PIL.Image.alpha_composite(img, overlay)\n",
    "\n",
    "    process(out)\n",
    "    filename =  filename.split(\"/\")[-1]\n",
    "    filename = data_dir+\"/full/\"+filename\n",
    "    img = PIL.Image.open(filename)\n",
    "    process(img)"
   ]
  },
  {
   "cell_type": "code",
   "execution_count": 34,
   "metadata": {},
   "outputs": [],
   "source": [
    "k = 1200"
   ]
  },
  {
   "cell_type": "code",
   "execution_count": 1,
   "metadata": {},
   "outputs": [
    {
     "ename": "NameError",
     "evalue": "name 'k' is not defined",
     "output_type": "error",
     "traceback": [
      "\u001b[0;31m---------------------------------------------------------------------------\u001b[0m",
      "\u001b[0;31mNameError\u001b[0m                                 Traceback (most recent call last)",
      "\u001b[0;32m<ipython-input-1-0f28387fea4a>\u001b[0m in \u001b[0;36m<module>\u001b[0;34m\u001b[0m\n\u001b[0;32m----> 1\u001b[0;31m \u001b[0mk\u001b[0m \u001b[0;34m+=\u001b[0m \u001b[0mrandom\u001b[0m\u001b[0;34m.\u001b[0m\u001b[0mrandint\u001b[0m\u001b[0;34m(\u001b[0m\u001b[0;36m10\u001b[0m\u001b[0;34m,\u001b[0m \u001b[0;36m50\u001b[0m\u001b[0;34m)\u001b[0m\u001b[0;34m\u001b[0m\u001b[0;34m\u001b[0m\u001b[0m\n\u001b[0m\u001b[1;32m      2\u001b[0m \u001b[0mdraw_preds\u001b[0m\u001b[0;34m(\u001b[0m\u001b[0mk\u001b[0m\u001b[0;34m)\u001b[0m\u001b[0;34m\u001b[0m\u001b[0;34m\u001b[0m\u001b[0m\n",
      "\u001b[0;31mNameError\u001b[0m: name 'k' is not defined"
     ]
    }
   ],
   "source": [
    "k += random.randint(10, 50)\n",
    "draw_preds(k)"
   ]
  },
  {
   "cell_type": "code",
   "execution_count": 47,
   "metadata": {},
   "outputs": [],
   "source": [
    "learn.export(\"models/predict.pth\")"
   ]
  },
  {
   "cell_type": "code",
   "execution_count": null,
   "metadata": {},
   "outputs": [],
   "source": []
  }
 ],
 "metadata": {
  "kernelspec": {
   "display_name": "Python 3",
   "language": "python",
   "name": "python3"
  },
  "language_info": {
   "codemirror_mode": {
    "name": "ipython",
    "version": 3
   },
   "file_extension": ".py",
   "mimetype": "text/x-python",
   "name": "python",
   "nbconvert_exporter": "python",
   "pygments_lexer": "ipython3",
   "version": "3.7.5"
  },
  "toc": {
   "base_numbering": 1,
   "nav_menu": {},
   "number_sections": true,
   "sideBar": true,
   "skip_h1_title": false,
   "title_cell": "Table of Contents",
   "title_sidebar": "Contents",
   "toc_cell": false,
   "toc_position": {},
   "toc_section_display": true,
   "toc_window_display": true
  }
 },
 "nbformat": 4,
 "nbformat_minor": 1
}
