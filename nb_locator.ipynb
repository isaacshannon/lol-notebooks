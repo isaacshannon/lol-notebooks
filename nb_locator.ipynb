{
 "cells": [
  {
   "cell_type": "code",
   "execution_count": 1,
   "metadata": {
    "_cell_guid": "b1076dfc-b9ad-4769-8c92-a6c4dae69d19",
    "_uuid": "8f2839f25d086af736a60e9eeb907d3b93b6e0e5"
   },
   "outputs": [],
   "source": [
    "from tqdm import tqdm_notebook\n",
    "from PIL import ImageDraw\n",
    "import PIL\n",
    "import os\n",
    "from shutil import copyfile, rmtree\n",
    "from IPython.display import Image \n",
    "\n",
    "import fastai\n",
    "from fastai.vision import *\n",
    "from fastai.callbacks import *\n",
    "from fastai.utils.mem import *\n",
    "\n",
    "from torchvision.models import vgg16_bn\n",
    "\n",
    "import matplotlib.pyplot as plt\n",
    "import matplotlib.image as mpimg\n",
    "from matplotlib.pyplot import imshow\n",
    "import random\n",
    "from shutil import copyfile\n",
    "\n",
    "import warnings\n",
    "warnings.simplefilter('ignore')\n",
    "\n",
    "\n",
    "%matplotlib inline"
   ]
  },
  {
   "cell_type": "code",
   "execution_count": 2,
   "metadata": {},
   "outputs": [],
   "source": [
    "data_dir = \"./locator\""
   ]
  },
  {
   "cell_type": "code",
   "execution_count": 3,
   "metadata": {},
   "outputs": [
    {
     "data": {
      "text/plain": [
       "0"
      ]
     },
     "execution_count": 3,
     "metadata": {},
     "output_type": "execute_result"
    }
   ],
   "source": [
    "torch.cuda.current_device()"
   ]
  },
  {
   "cell_type": "markdown",
   "metadata": {},
   "source": [
    "# Validation & Training Sets"
   ]
  },
  {
   "cell_type": "markdown",
   "metadata": {},
   "source": [
    "Move images from the src directories into the train/validation directories"
   ]
  },
  {
   "cell_type": "markdown",
   "metadata": {},
   "source": [
    "## Setup Terrain Data"
   ]
  },
  {
   "cell_type": "code",
   "execution_count": 170,
   "metadata": {},
   "outputs": [
    {
     "name": "stdout",
     "output_type": "stream",
     "text": [
      "Training terrain: 6425\n",
      "Validation terrain: 1311\n",
      "Total terrain: 7736\n"
     ]
    }
   ],
   "source": [
    "src_terrain = \"./locator/data/terrain-verified/\"\n",
    "review_terrain = \"./locator/data/review/terrain/\"\n",
    "dst_terrain_train = \"./locator/data/train/terrain/\"\n",
    "dst_terrain_valid = \"./locator/data/valid/terrain/\"\n",
    "\n",
    "for f in os.listdir(dst_terrain_train):\n",
    "    os.remove(dst_terrain_train+f)\n",
    "for f in os.listdir(dst_terrain_valid):\n",
    "    os.remove(dst_terrain_valid+f)\n",
    "    \n",
    "for f in os.listdir(src_terrain):\n",
    "    if random.randint(0,5) >= 1:\n",
    "        shutil.copy(src_terrain+f, dst_terrain_train+f)\n",
    "    else:\n",
    "        shutil.copy(src_terrain+f, dst_terrain_valid+f)\n",
    "\n",
    "for f in os.listdir(review_terrain):\n",
    "    if not \".png\" in f:\n",
    "        continue\n",
    "    if random.randint(0,5) >= 1:\n",
    "        shutil.copy(review_terrain+f, dst_terrain_train+f)\n",
    "    else:\n",
    "        shutil.copy(review_terrain+f, dst_terrain_valid+f)\n",
    "\n",
    "\n",
    "      \n",
    "train_num = len(os.listdir(dst_terrain_train))\n",
    "print(\"Training terrain: \"+str(train_num))\n",
    "valid_num = len(os.listdir(dst_terrain_valid))\n",
    "print(\"Validation terrain: \"+str(valid_num))\n",
    "valid_num = len(os.listdir(dst_terrain_valid))\n",
    "print(\"Total terrain: \"+str(valid_num+train_num))"
   ]
  },
  {
   "cell_type": "markdown",
   "metadata": {},
   "source": [
    "## Setup Player Data"
   ]
  },
  {
   "cell_type": "code",
   "execution_count": 171,
   "metadata": {},
   "outputs": [
    {
     "name": "stdout",
     "output_type": "stream",
     "text": [
      "Training player: 1091\n",
      "Validation player: 242\n",
      "Total player: 1333\n"
     ]
    }
   ],
   "source": [
    "src_player = \"./locator/data/player-verified/\"\n",
    "review_player = \"./locator/data/review/player/\"\n",
    "dst_player_train = \"./locator/data/train/player/\"\n",
    "dst_player_valid = \"./locator/data/valid/player/\"\n",
    "\n",
    "for f in os.listdir(dst_player_train):\n",
    "    os.remove(dst_player_train+f)\n",
    "for f in os.listdir(dst_player_valid):\n",
    "    os.remove(dst_player_valid+f)\n",
    "    \n",
    "for f in os.listdir(src_player):\n",
    "    if random.randint(0,5) >= 1:\n",
    "        shutil.copy(src_player+f, dst_player_train+f)\n",
    "    else:\n",
    "        shutil.copy(src_player+f, dst_player_valid+f)\n",
    "        \n",
    "for f in os.listdir(review_player):\n",
    "    if not \".png\" in f:\n",
    "        continue\n",
    "    if random.randint(0,5) >= 1:\n",
    "        shutil.copy(review_player+f, dst_player_train+f)\n",
    "    else:\n",
    "        shutil.copy(review_player+f, dst_player_valid+f)\n",
    "\n",
    "\n",
    "train_num = len(os.listdir(dst_player_train))\n",
    "print(\"Training player: \"+str(train_num))\n",
    "valid_num = len(os.listdir(dst_player_valid))\n",
    "print(\"Validation player: \"+str(valid_num))\n",
    "valid_num = len(os.listdir(dst_player_valid))\n",
    "print(\"Total player: \"+str(valid_num+train_num))"
   ]
  },
  {
   "cell_type": "markdown",
   "metadata": {},
   "source": [
    "# Create Data Batch"
   ]
  },
  {
   "cell_type": "markdown",
   "metadata": {},
   "source": [
    "Collect the 30x30 images which were split from in-game mini-maps. The model predicts if a player is present in the center 10x10 pixels, the extra image around the center 10x10 gives more context for the model's prediction. "
   ]
  },
  {
   "cell_type": "code",
   "execution_count": 172,
   "metadata": {},
   "outputs": [
    {
     "data": {
      "image/png": "[encoded data removed]",
      "text/plain": [
       "<Figure size 288x288 with 1 Axes>"
      ]
     },
     "metadata": {
      "needs_background": "light"
     },
     "output_type": "display_data"
    }
   ],
   "source": [
    "tfms = get_transforms(max_rotate=45, max_zoom=1.1, max_warp=None)\n",
    "data = ImageDataBunch.from_folder(\n",
    "    data_dir+\"/data\", classes=[\"player\", \"terrain\"], bs=64, ds_tfms=tfms)\n",
    "data.show_batch(1)"
   ]
  },
  {
   "cell_type": "markdown",
   "metadata": {},
   "source": [
    "# Train the Model"
   ]
  },
  {
   "cell_type": "markdown",
   "metadata": {},
   "source": [
    "We train several models, and keep the one with the highest performance. It is still unknown why some models are better, but one explanation from the fastai course may be the initialization of parameters."
   ]
  },
  {
   "cell_type": "markdown",
   "metadata": {},
   "source": [
    "## Model Training"
   ]
  },
  {
   "cell_type": "code",
   "execution_count": 181,
   "metadata": {},
   "outputs": [
    {
     "data": {
      "text/html": [
       "<table border=\"1\" class=\"dataframe\">\n",
       "  <thead>\n",
       "    <tr style=\"text-align: left;\">\n",
       "      <th>epoch</th>\n",
       "      <th>train_loss</th>\n",
       "      <th>valid_loss</th>\n",
       "      <th>accuracy</th>\n",
       "      <th>time</th>\n",
       "    </tr>\n",
       "  </thead>\n",
       "  <tbody>\n",
       "    <tr>\n",
       "      <td>0</td>\n",
       "      <td>0.366137</td>\n",
       "      <td>0.224429</td>\n",
       "      <td>0.922730</td>\n",
       "      <td>00:09</td>\n",
       "    </tr>\n",
       "  </tbody>\n",
       "</table>"
      ],
      "text/plain": [
       "<IPython.core.display.HTML object>"
      ]
     },
     "metadata": {},
     "output_type": "display_data"
    },
    {
     "name": "stdout",
     "output_type": "stream",
     "text": [
      "Better model found at epoch 0 with valid_loss value: 0.224429190158844.\n"
     ]
    },
    {
     "data": {
      "text/html": [
       "<table border=\"1\" class=\"dataframe\">\n",
       "  <thead>\n",
       "    <tr style=\"text-align: left;\">\n",
       "      <th>epoch</th>\n",
       "      <th>train_loss</th>\n",
       "      <th>valid_loss</th>\n",
       "      <th>accuracy</th>\n",
       "      <th>time</th>\n",
       "    </tr>\n",
       "  </thead>\n",
       "  <tbody>\n",
       "    <tr>\n",
       "      <td>0</td>\n",
       "      <td>0.205065</td>\n",
       "      <td>0.236195</td>\n",
       "      <td>0.920798</td>\n",
       "      <td>00:12</td>\n",
       "    </tr>\n",
       "    <tr>\n",
       "      <td>1</td>\n",
       "      <td>0.189074</td>\n",
       "      <td>0.167759</td>\n",
       "      <td>0.932389</td>\n",
       "      <td>00:12</td>\n",
       "    </tr>\n",
       "    <tr>\n",
       "      <td>2</td>\n",
       "      <td>0.171693</td>\n",
       "      <td>0.137494</td>\n",
       "      <td>0.943979</td>\n",
       "      <td>00:12</td>\n",
       "    </tr>\n",
       "    <tr>\n",
       "      <td>3</td>\n",
       "      <td>0.158085</td>\n",
       "      <td>0.135062</td>\n",
       "      <td>0.949775</td>\n",
       "      <td>00:12</td>\n",
       "    </tr>\n",
       "    <tr>\n",
       "      <td>4</td>\n",
       "      <td>0.136695</td>\n",
       "      <td>0.105563</td>\n",
       "      <td>0.959433</td>\n",
       "      <td>00:12</td>\n",
       "    </tr>\n",
       "    <tr>\n",
       "      <td>5</td>\n",
       "      <td>0.119758</td>\n",
       "      <td>0.104517</td>\n",
       "      <td>0.964585</td>\n",
       "      <td>00:12</td>\n",
       "    </tr>\n",
       "    <tr>\n",
       "      <td>6</td>\n",
       "      <td>0.098913</td>\n",
       "      <td>0.097573</td>\n",
       "      <td>0.964585</td>\n",
       "      <td>00:12</td>\n",
       "    </tr>\n",
       "    <tr>\n",
       "      <td>7</td>\n",
       "      <td>0.085329</td>\n",
       "      <td>0.100051</td>\n",
       "      <td>0.961365</td>\n",
       "      <td>00:12</td>\n",
       "    </tr>\n",
       "  </tbody>\n",
       "</table>"
      ],
      "text/plain": [
       "<IPython.core.display.HTML object>"
      ]
     },
     "metadata": {},
     "output_type": "display_data"
    },
    {
     "name": "stdout",
     "output_type": "stream",
     "text": [
      "Better model found at epoch 0 with valid_loss value: 0.23619471490383148.\n",
      "Better model found at epoch 1 with valid_loss value: 0.1677592545747757.\n",
      "Better model found at epoch 2 with valid_loss value: 0.13749396800994873.\n",
      "Better model found at epoch 3 with valid_loss value: 0.1350623071193695.\n",
      "Better model found at epoch 4 with valid_loss value: 0.1055627390742302.\n",
      "Better model found at epoch 5 with valid_loss value: 0.10451667010784149.\n",
      "Better model found at epoch 6 with valid_loss value: 0.09757295250892639.\n"
     ]
    }
   ],
   "source": [
    "lr = 0.02\n",
    "\n",
    "learn = create_cnn(data, models.resnet101, metrics=[accuracy])\n",
    "gc.collect()\n",
    "learn.callbacks = [SaveModelCallback(\n",
    "    learn, every='improvement', mode='min', name='best')]\n",
    "learn.fit_one_cycle(1, lr)\n",
    "learn.unfreeze()\n",
    "learn.fit_one_cycle(8, slice(1e-6, lr/5))"
   ]
  },
  {
   "cell_type": "markdown",
   "metadata": {},
   "source": [
    "best loss: 9.7"
   ]
  },
  {
   "cell_type": "markdown",
   "metadata": {},
   "source": [
    "## Full Minimap Test"
   ]
  },
  {
   "cell_type": "markdown",
   "metadata": {},
   "source": [
    "Display the model's predictions for an entire minimap."
   ]
  },
  {
   "cell_type": "code",
   "execution_count": 182,
   "metadata": {},
   "outputs": [],
   "source": [
    "grid_size = 5\n",
    "\n",
    "def empty_dir(folder):\n",
    "    for the_file in os.listdir(folder):\n",
    "        file_path = os.path.join(folder, the_file)\n",
    "        try:\n",
    "            if os.path.isfile(file_path):\n",
    "                os.unlink(file_path)\n",
    "        except Exception as e:\n",
    "            print(e)\n",
    "\n",
    "\n",
    "def draw_grid(draw, labels):\n",
    "    fill = (0, 255, 255, 96)\n",
    "    for l in labels:\n",
    "        x = l[0] * grid_size\n",
    "        y = l[1] * grid_size\n",
    "        if l[2] == \"terrain\":\n",
    "            continue\n",
    "        draw.rectangle((x, y, x + grid_size, y + grid_size), fill=fill)\n",
    "\n",
    "\n",
    "def draw_preds(filename, grids):\n",
    "    img = PIL.Image.open(filename)\n",
    "\n",
    "    overlay = PIL.Image.new('RGBA', img.size, (255, 255, 255, 0))\n",
    "    draw = ImageDraw.Draw(overlay)\n",
    "    draw_grid(draw, grids)\n",
    "    out = PIL.Image.alpha_composite(img, overlay)\n",
    "    fig, ax = plt.subplots(1,2)\n",
    "    ax[0].imshow(img);\n",
    "    ax[1].imshow(out);\n",
    "#     imshow(np.asarray(out))\n",
    "\n",
    "\n",
    "def get_predictions(learner, predictions):\n",
    "    # Predict the grid image types\n",
    "    tmp_dir = data_dir + \"/tmp\"\n",
    "    test = ImageList.from_folder(tmp_dir)\n",
    "    learner.data.add_test(test)\n",
    "    preds = learner.get_preds(ds_type=DatasetType.Test)\n",
    "    num_preds = len(preds)\n",
    "    z = 0\n",
    "\n",
    "    # Identify the grids which are player squares\n",
    "    for i in range(len(preds[0])):\n",
    "        max_index = 0\n",
    "        max_score = 0\n",
    "        for p in range(len(preds[0][i])):\n",
    "            if preds[0][i][p] > max_score:\n",
    "                max_index = p\n",
    "                max_score = preds[0][i][p]\n",
    "                \n",
    "        category = str(learn.data.classes[max_index])\n",
    "        if category == \"terrain\":\n",
    "            continue\n",
    "        img = test.items[i]\n",
    "        fname = img.stem\n",
    "        num = int(fname.split(\"-\")[1])\n",
    "        name = fname.split(\"-\")[0]\n",
    "        x = num//1000\n",
    "        y = num % 1000\n",
    "        predictions[name].append((x, y, category))\n",
    "\n",
    "    empty_dir(tmp_dir)\n",
    "    return predictions\n",
    "\n",
    "\n",
    "def get_grids(learner, filenames):\n",
    "    print(\"locating player positions...\")\n",
    "    padding = 10\n",
    "    num_files = len(filenames)\n",
    "    predictions = {}\n",
    "    # Split the image into grids and save the components to the tmp directory.\n",
    "    tmp_dir = data_dir+\"/tmp\"\n",
    "    empty_dir(tmp_dir)\n",
    "    z = 0\n",
    "    numfiles = len(filenames)\n",
    "    for l in tqdm_notebook(range(numfiles)):\n",
    "        f = filenames[l]\n",
    "        if not \".png\" in f:\n",
    "            continue\n",
    "        im = PIL.Image.open(f)\n",
    "        imgwidth, imgheight = im.size\n",
    "        base = os.path.basename(f)\n",
    "        fname = os.path.splitext(base)[0]\n",
    "        predictions[fname] = []\n",
    "        for i in range(0, imgheight, grid_size):\n",
    "            for j in range(0, imgwidth, grid_size):\n",
    "                box = (j-padding, i-padding, j + grid_size +\n",
    "                       padding, i + grid_size + padding)\n",
    "                a = im.crop(box)\n",
    "                a.save(data_dir+f\"/tmp/{fname}-{j*1000//grid_size+i//grid_size}.png\")\n",
    "\n",
    "        if z % 1000 == 0:\n",
    "            predictions = get_predictions(learner, predictions)\n",
    "        z += 1\n",
    "\n",
    "    if len(os.listdir(tmp_dir)) > 0:\n",
    "        predictions = get_predictions(learner, predictions)\n",
    "\n",
    "    return predictions"
   ]
  },
  {
   "cell_type": "code",
   "execution_count": 183,
   "metadata": {},
   "outputs": [],
   "source": [
    "i = 0"
   ]
  },
  {
   "cell_type": "code",
   "execution_count": 184,
   "metadata": {},
   "outputs": [
    {
     "name": "stdout",
     "output_type": "stream",
     "text": [
      "locating player positions...\n"
     ]
    },
    {
     "data": {
      "application/vnd.jupyter.widget-view+json": {
       "model_id": "2328736694ef447a86987562063673c4",
       "version_major": 2,
       "version_minor": 0
      },
      "text/plain": [
       "HBox(children=(FloatProgress(value=0.0, max=1.0), HTML(value='')))"
      ]
     },
     "metadata": {},
     "output_type": "display_data"
    },
    {
     "data": {
      "text/html": [],
      "text/plain": [
       "<IPython.core.display.HTML object>"
      ]
     },
     "metadata": {},
     "output_type": "display_data"
    },
    {
     "name": "stdout",
     "output_type": "stream",
     "text": [
      "\n"
     ]
    },
    {
     "data": {
      "image/png": "[encoded data removed]",
      "text/plain": [
       "<Figure size 432x288 with 2 Axes>"
      ]
     },
     "metadata": {
      "needs_background": "light"
     },
     "output_type": "display_data"
    }
   ],
   "source": [
    "i += 50\n",
    "s = str(i)\n",
    "s = \"0\"*(3-len(s)) + s\n",
    "filenames = [\n",
    "    f\"games/hka_lk_worlds_2019/full/hka_lk_worlds_2019_0000000{s}.png\"]\n",
    "grids = get_grids(learn, filenames)\n",
    "base = os.path.basename(filenames[0])\n",
    "fname = os.path.splitext(base)[0]\n",
    "draw_preds(filenames[0], grids[fname])"
   ]
  },
  {
   "cell_type": "code",
   "execution_count": 185,
   "metadata": {},
   "outputs": [],
   "source": [
    "model_path = 'models/'\n",
    "learn.export(model_path+\"locator.pth\")"
   ]
  },
  {
   "cell_type": "markdown",
   "metadata": {},
   "source": [
    "# Collect Games Maps"
   ]
  },
  {
   "cell_type": "markdown",
   "metadata": {},
   "source": [
    "Gather all the maps from each game into a single \"full\" folder and \"team\" folder. These two folders will be the source for training the final map prediction model."
   ]
  },
  {
   "cell_type": "code",
   "execution_count": 737,
   "metadata": {},
   "outputs": [
    {
     "name": "stdout",
     "output_type": "stream",
     "text": [
      "Full images: 92454\n",
      "Team images: 92455\n"
     ]
    }
   ],
   "source": [
    "collected_dir = \"games_collected/\"\n",
    "games_dir = \"games/\"\n",
    "empty_dir(collected_dir + \"full\")\n",
    "empty_dir(collected_dir + \"team\")\n",
    "\n",
    "games = os.listdir(games_dir)\n",
    "for g in games:\n",
    "    if g == \".DS_Store\":\n",
    "        os.remove(games_dir+g)\n",
    "        continue\n",
    "    full_dir = games_dir + g + \"/full/\"\n",
    "    full_images = os.listdir(full_dir)\n",
    "    for img in full_images:\n",
    "        if \".jpg\" in img or \".png\" in img:\n",
    "            copyfile(full_dir + img, collected_dir + \"full/\" + img)\n",
    "\n",
    "    team_dir = games_dir + g + \"/team/\"\n",
    "    team_images = os.listdir(team_dir)\n",
    "    for img in team_images:\n",
    "        if \".jpg\" in img or \".png\" in img:\n",
    "            copyfile(team_dir + img, collected_dir + \"team/\" + img)"
   ]
  },
  {
   "cell_type": "code",
   "execution_count": 746,
   "metadata": {},
   "outputs": [
    {
     "name": "stdout",
     "output_type": "stream",
     "text": [
      "Full images: 92454\n",
      "Team images: 92455\n"
     ]
    }
   ],
   "source": [
    "print(f\"Full images: {len(os.listdir(collected_dir + 'full'))}\")\n",
    "print(f\"Team images: {len(os.listdir(collected_dir + 'team'))}\")"
   ]
  },
  {
   "cell_type": "code",
   "execution_count": 747,
   "metadata": {},
   "outputs": [
    {
     "name": "stdout",
     "output_type": "stream",
     "text": [
      "models\n"
     ]
    }
   ],
   "source": [
    "full_map = {}\n",
    "fulls = os.listdir(collected_dir + 'full')\n",
    "for f in fulls:\n",
    "    full_map[f] = True\n",
    "\n",
    "teams = os.listdir(collected_dir + 'team')\n",
    "for f in teams:\n",
    "    try:\n",
    "        full_map[f]\n",
    "    except:\n",
    "        print(f)\n",
    "# shutil.rmtree(collected_dir + 'team/models')"
   ]
  },
  {
   "cell_type": "markdown",
   "metadata": {},
   "source": [
    "## Create Full Map Coordinates"
   ]
  },
  {
   "cell_type": "markdown",
   "metadata": {},
   "source": [
    "Use the model we trained to predict the coordinates of each player in the maps. This csv will be used as the target in the final map prediction model."
   ]
  },
  {
   "cell_type": "code",
   "execution_count": 5,
   "metadata": {},
   "outputs": [],
   "source": [
    "data_dir = \"./locator/\"\n",
    "tmp_dir = data_dir + \"tmp\"\n",
    "collected_dir = \"games_collected/\"\n",
    "empty_dir(tmp_dir)"
   ]
  },
  {
   "cell_type": "code",
   "execution_count": 771,
   "metadata": {},
   "outputs": [
    {
     "name": "stdout",
     "output_type": "stream",
     "text": [
      "locating player positions...\n"
     ]
    },
    {
     "data": {
      "application/vnd.jupyter.widget-view+json": {
       "model_id": "5c1313e79c864bb5af716f215b232e03",
       "version_major": 2,
       "version_minor": 0
      },
      "text/plain": [
       "HBox(children=(FloatProgress(value=0.0, max=92454.0), HTML(value='')))"
      ]
     },
     "metadata": {},
     "output_type": "display_data"
    },
    {
     "data": {
      "text/html": [],
      "text/plain": [
       "<IPython.core.display.HTML object>"
      ]
     },
     "metadata": {},
     "output_type": "display_data"
    },
    {
     "data": {
      "text/html": [],
      "text/plain": [
       "<IPython.core.display.HTML object>"
      ]
     },
     "metadata": {},
     "output_type": "display_data"
    },
    {
     "data": {
      "text/html": [],
      "text/plain": [
       "<IPython.core.display.HTML object>"
      ]
     },
     "metadata": {},
     "output_type": "display_data"
    },
    {
     "data": {
      "text/html": [],
      "text/plain": [
       "<IPython.core.display.HTML object>"
      ]
     },
     "metadata": {},
     "output_type": "display_data"
    },
    {
     "data": {
      "text/html": [],
      "text/plain": [
       "<IPython.core.display.HTML object>"
      ]
     },
     "metadata": {},
     "output_type": "display_data"
    },
    {
     "data": {
      "text/html": [],
      "text/plain": [
       "<IPython.core.display.HTML object>"
      ]
     },
     "metadata": {},
     "output_type": "display_data"
    },
    {
     "data": {
      "text/html": [],
      "text/plain": [
       "<IPython.core.display.HTML object>"
      ]
     },
     "metadata": {},
     "output_type": "display_data"
    },
    {
     "data": {
      "text/html": [],
      "text/plain": [
       "<IPython.core.display.HTML object>"
      ]
     },
     "metadata": {},
     "output_type": "display_data"
    },
    {
     "data": {
      "text/html": [],
      "text/plain": [
       "<IPython.core.display.HTML object>"
      ]
     },
     "metadata": {},
     "output_type": "display_data"
    },
    {
     "data": {
      "text/html": [],
      "text/plain": [
       "<IPython.core.display.HTML object>"
      ]
     },
     "metadata": {},
     "output_type": "display_data"
    },
    {
     "data": {
      "text/html": [],
      "text/plain": [
       "<IPython.core.display.HTML object>"
      ]
     },
     "metadata": {},
     "output_type": "display_data"
    },
    {
     "data": {
      "text/html": [],
      "text/plain": [
       "<IPython.core.display.HTML object>"
      ]
     },
     "metadata": {},
     "output_type": "display_data"
    },
    {
     "data": {
      "text/html": [],
      "text/plain": [
       "<IPython.core.display.HTML object>"
      ]
     },
     "metadata": {},
     "output_type": "display_data"
    },
    {
     "data": {
      "text/html": [],
      "text/plain": [
       "<IPython.core.display.HTML object>"
      ]
     },
     "metadata": {},
     "output_type": "display_data"
    },
    {
     "data": {
      "text/html": [],
      "text/plain": [
       "<IPython.core.display.HTML object>"
      ]
     },
     "metadata": {},
     "output_type": "display_data"
    },
    {
     "data": {
      "text/html": [],
      "text/plain": [
       "<IPython.core.display.HTML object>"
      ]
     },
     "metadata": {},
     "output_type": "display_data"
    },
    {
     "data": {
      "text/html": [],
      "text/plain": [
       "<IPython.core.display.HTML object>"
      ]
     },
     "metadata": {},
     "output_type": "display_data"
    },
    {
     "data": {
      "text/html": [],
      "text/plain": [
       "<IPython.core.display.HTML object>"
      ]
     },
     "metadata": {},
     "output_type": "display_data"
    },
    {
     "data": {
      "text/html": [],
      "text/plain": [
       "<IPython.core.display.HTML object>"
      ]
     },
     "metadata": {},
     "output_type": "display_data"
    },
    {
     "data": {
      "text/html": [],
      "text/plain": [
       "<IPython.core.display.HTML object>"
      ]
     },
     "metadata": {},
     "output_type": "display_data"
    },
    {
     "data": {
      "text/html": [],
      "text/plain": [
       "<IPython.core.display.HTML object>"
      ]
     },
     "metadata": {},
     "output_type": "display_data"
    },
    {
     "data": {
      "text/html": [],
      "text/plain": [
       "<IPython.core.display.HTML object>"
      ]
     },
     "metadata": {},
     "output_type": "display_data"
    },
    {
     "data": {
      "text/html": [],
      "text/plain": [
       "<IPython.core.display.HTML object>"
      ]
     },
     "metadata": {},
     "output_type": "display_data"
    },
    {
     "data": {
      "text/html": [],
      "text/plain": [
       "<IPython.core.display.HTML object>"
      ]
     },
     "metadata": {},
     "output_type": "display_data"
    },
    {
     "data": {
      "text/html": [],
      "text/plain": [
       "<IPython.core.display.HTML object>"
      ]
     },
     "metadata": {},
     "output_type": "display_data"
    },
    {
     "data": {
      "text/html": [],
      "text/plain": [
       "<IPython.core.display.HTML object>"
      ]
     },
     "metadata": {},
     "output_type": "display_data"
    },
    {
     "data": {
      "text/html": [],
      "text/plain": [
       "<IPython.core.display.HTML object>"
      ]
     },
     "metadata": {},
     "output_type": "display_data"
    },
    {
     "data": {
      "text/html": [],
      "text/plain": [
       "<IPython.core.display.HTML object>"
      ]
     },
     "metadata": {},
     "output_type": "display_data"
    },
    {
     "data": {
      "text/html": [],
      "text/plain": [
       "<IPython.core.display.HTML object>"
      ]
     },
     "metadata": {},
     "output_type": "display_data"
    },
    {
     "data": {
      "text/html": [],
      "text/plain": [
       "<IPython.core.display.HTML object>"
      ]
     },
     "metadata": {},
     "output_type": "display_data"
    },
    {
     "data": {
      "text/html": [],
      "text/plain": [
       "<IPython.core.display.HTML object>"
      ]
     },
     "metadata": {},
     "output_type": "display_data"
    },
    {
     "data": {
      "text/html": [],
      "text/plain": [
       "<IPython.core.display.HTML object>"
      ]
     },
     "metadata": {},
     "output_type": "display_data"
    },
    {
     "data": {
      "text/html": [],
      "text/plain": [
       "<IPython.core.display.HTML object>"
      ]
     },
     "metadata": {},
     "output_type": "display_data"
    },
    {
     "data": {
      "text/html": [],
      "text/plain": [
       "<IPython.core.display.HTML object>"
      ]
     },
     "metadata": {},
     "output_type": "display_data"
    },
    {
     "data": {
      "text/html": [],
      "text/plain": [
       "<IPython.core.display.HTML object>"
      ]
     },
     "metadata": {},
     "output_type": "display_data"
    },
    {
     "data": {
      "text/html": [],
      "text/plain": [
       "<IPython.core.display.HTML object>"
      ]
     },
     "metadata": {},
     "output_type": "display_data"
    },
    {
     "data": {
      "text/html": [],
      "text/plain": [
       "<IPython.core.display.HTML object>"
      ]
     },
     "metadata": {},
     "output_type": "display_data"
    },
    {
     "data": {
      "text/html": [],
      "text/plain": [
       "<IPython.core.display.HTML object>"
      ]
     },
     "metadata": {},
     "output_type": "display_data"
    },
    {
     "data": {
      "text/html": [],
      "text/plain": [
       "<IPython.core.display.HTML object>"
      ]
     },
     "metadata": {},
     "output_type": "display_data"
    },
    {
     "data": {
      "text/html": [],
      "text/plain": [
       "<IPython.core.display.HTML object>"
      ]
     },
     "metadata": {},
     "output_type": "display_data"
    },
    {
     "data": {
      "text/html": [],
      "text/plain": [
       "<IPython.core.display.HTML object>"
      ]
     },
     "metadata": {},
     "output_type": "display_data"
    },
    {
     "data": {
      "text/html": [],
      "text/plain": [
       "<IPython.core.display.HTML object>"
      ]
     },
     "metadata": {},
     "output_type": "display_data"
    },
    {
     "data": {
      "text/html": [],
      "text/plain": [
       "<IPython.core.display.HTML object>"
      ]
     },
     "metadata": {},
     "output_type": "display_data"
    },
    {
     "data": {
      "text/html": [],
      "text/plain": [
       "<IPython.core.display.HTML object>"
      ]
     },
     "metadata": {},
     "output_type": "display_data"
    },
    {
     "data": {
      "text/html": [],
      "text/plain": [
       "<IPython.core.display.HTML object>"
      ]
     },
     "metadata": {},
     "output_type": "display_data"
    },
    {
     "data": {
      "text/html": [],
      "text/plain": [
       "<IPython.core.display.HTML object>"
      ]
     },
     "metadata": {},
     "output_type": "display_data"
    },
    {
     "data": {
      "text/html": [],
      "text/plain": [
       "<IPython.core.display.HTML object>"
      ]
     },
     "metadata": {},
     "output_type": "display_data"
    },
    {
     "data": {
      "text/html": [],
      "text/plain": [
       "<IPython.core.display.HTML object>"
      ]
     },
     "metadata": {},
     "output_type": "display_data"
    },
    {
     "data": {
      "text/html": [],
      "text/plain": [
       "<IPython.core.display.HTML object>"
      ]
     },
     "metadata": {},
     "output_type": "display_data"
    },
    {
     "data": {
      "text/html": [],
      "text/plain": [
       "<IPython.core.display.HTML object>"
      ]
     },
     "metadata": {},
     "output_type": "display_data"
    },
    {
     "data": {
      "text/html": [],
      "text/plain": [
       "<IPython.core.display.HTML object>"
      ]
     },
     "metadata": {},
     "output_type": "display_data"
    },
    {
     "data": {
      "text/html": [],
      "text/plain": [
       "<IPython.core.display.HTML object>"
      ]
     },
     "metadata": {},
     "output_type": "display_data"
    },
    {
     "data": {
      "text/html": [],
      "text/plain": [
       "<IPython.core.display.HTML object>"
      ]
     },
     "metadata": {},
     "output_type": "display_data"
    },
    {
     "data": {
      "text/html": [],
      "text/plain": [
       "<IPython.core.display.HTML object>"
      ]
     },
     "metadata": {},
     "output_type": "display_data"
    },
    {
     "data": {
      "text/html": [],
      "text/plain": [
       "<IPython.core.display.HTML object>"
      ]
     },
     "metadata": {},
     "output_type": "display_data"
    },
    {
     "data": {
      "text/html": [],
      "text/plain": [
       "<IPython.core.display.HTML object>"
      ]
     },
     "metadata": {},
     "output_type": "display_data"
    },
    {
     "data": {
      "text/html": [],
      "text/plain": [
       "<IPython.core.display.HTML object>"
      ]
     },
     "metadata": {},
     "output_type": "display_data"
    },
    {
     "data": {
      "text/html": [],
      "text/plain": [
       "<IPython.core.display.HTML object>"
      ]
     },
     "metadata": {},
     "output_type": "display_data"
    },
    {
     "data": {
      "text/html": [],
      "text/plain": [
       "<IPython.core.display.HTML object>"
      ]
     },
     "metadata": {},
     "output_type": "display_data"
    },
    {
     "data": {
      "text/html": [],
      "text/plain": [
       "<IPython.core.display.HTML object>"
      ]
     },
     "metadata": {},
     "output_type": "display_data"
    },
    {
     "data": {
      "text/html": [],
      "text/plain": [
       "<IPython.core.display.HTML object>"
      ]
     },
     "metadata": {},
     "output_type": "display_data"
    },
    {
     "data": {
      "text/html": [],
      "text/plain": [
       "<IPython.core.display.HTML object>"
      ]
     },
     "metadata": {},
     "output_type": "display_data"
    },
    {
     "data": {
      "text/html": [],
      "text/plain": [
       "<IPython.core.display.HTML object>"
      ]
     },
     "metadata": {},
     "output_type": "display_data"
    },
    {
     "data": {
      "text/html": [],
      "text/plain": [
       "<IPython.core.display.HTML object>"
      ]
     },
     "metadata": {},
     "output_type": "display_data"
    },
    {
     "data": {
      "text/html": [],
      "text/plain": [
       "<IPython.core.display.HTML object>"
      ]
     },
     "metadata": {},
     "output_type": "display_data"
    },
    {
     "data": {
      "text/html": [],
      "text/plain": [
       "<IPython.core.display.HTML object>"
      ]
     },
     "metadata": {},
     "output_type": "display_data"
    },
    {
     "data": {
      "text/html": [],
      "text/plain": [
       "<IPython.core.display.HTML object>"
      ]
     },
     "metadata": {},
     "output_type": "display_data"
    },
    {
     "data": {
      "text/html": [],
      "text/plain": [
       "<IPython.core.display.HTML object>"
      ]
     },
     "metadata": {},
     "output_type": "display_data"
    },
    {
     "data": {
      "text/html": [],
      "text/plain": [
       "<IPython.core.display.HTML object>"
      ]
     },
     "metadata": {},
     "output_type": "display_data"
    },
    {
     "data": {
      "text/html": [],
      "text/plain": [
       "<IPython.core.display.HTML object>"
      ]
     },
     "metadata": {},
     "output_type": "display_data"
    },
    {
     "data": {
      "text/html": [],
      "text/plain": [
       "<IPython.core.display.HTML object>"
      ]
     },
     "metadata": {},
     "output_type": "display_data"
    },
    {
     "data": {
      "text/html": [],
      "text/plain": [
       "<IPython.core.display.HTML object>"
      ]
     },
     "metadata": {},
     "output_type": "display_data"
    },
    {
     "data": {
      "text/html": [],
      "text/plain": [
       "<IPython.core.display.HTML object>"
      ]
     },
     "metadata": {},
     "output_type": "display_data"
    },
    {
     "data": {
      "text/html": [],
      "text/plain": [
       "<IPython.core.display.HTML object>"
      ]
     },
     "metadata": {},
     "output_type": "display_data"
    },
    {
     "data": {
      "text/html": [],
      "text/plain": [
       "<IPython.core.display.HTML object>"
      ]
     },
     "metadata": {},
     "output_type": "display_data"
    },
    {
     "data": {
      "text/html": [],
      "text/plain": [
       "<IPython.core.display.HTML object>"
      ]
     },
     "metadata": {},
     "output_type": "display_data"
    },
    {
     "data": {
      "text/html": [],
      "text/plain": [
       "<IPython.core.display.HTML object>"
      ]
     },
     "metadata": {},
     "output_type": "display_data"
    },
    {
     "data": {
      "text/html": [],
      "text/plain": [
       "<IPython.core.display.HTML object>"
      ]
     },
     "metadata": {},
     "output_type": "display_data"
    },
    {
     "data": {
      "text/html": [],
      "text/plain": [
       "<IPython.core.display.HTML object>"
      ]
     },
     "metadata": {},
     "output_type": "display_data"
    },
    {
     "data": {
      "text/html": [],
      "text/plain": [
       "<IPython.core.display.HTML object>"
      ]
     },
     "metadata": {},
     "output_type": "display_data"
    },
    {
     "data": {
      "text/html": [],
      "text/plain": [
       "<IPython.core.display.HTML object>"
      ]
     },
     "metadata": {},
     "output_type": "display_data"
    },
    {
     "data": {
      "text/html": [],
      "text/plain": [
       "<IPython.core.display.HTML object>"
      ]
     },
     "metadata": {},
     "output_type": "display_data"
    },
    {
     "data": {
      "text/html": [],
      "text/plain": [
       "<IPython.core.display.HTML object>"
      ]
     },
     "metadata": {},
     "output_type": "display_data"
    },
    {
     "data": {
      "text/html": [],
      "text/plain": [
       "<IPython.core.display.HTML object>"
      ]
     },
     "metadata": {},
     "output_type": "display_data"
    },
    {
     "data": {
      "text/html": [],
      "text/plain": [
       "<IPython.core.display.HTML object>"
      ]
     },
     "metadata": {},
     "output_type": "display_data"
    },
    {
     "data": {
      "text/html": [],
      "text/plain": [
       "<IPython.core.display.HTML object>"
      ]
     },
     "metadata": {},
     "output_type": "display_data"
    },
    {
     "data": {
      "text/html": [],
      "text/plain": [
       "<IPython.core.display.HTML object>"
      ]
     },
     "metadata": {},
     "output_type": "display_data"
    },
    {
     "data": {
      "text/html": [],
      "text/plain": [
       "<IPython.core.display.HTML object>"
      ]
     },
     "metadata": {},
     "output_type": "display_data"
    },
    {
     "data": {
      "text/html": [],
      "text/plain": [
       "<IPython.core.display.HTML object>"
      ]
     },
     "metadata": {},
     "output_type": "display_data"
    },
    {
     "data": {
      "text/html": [],
      "text/plain": [
       "<IPython.core.display.HTML object>"
      ]
     },
     "metadata": {},
     "output_type": "display_data"
    },
    {
     "data": {
      "text/html": [],
      "text/plain": [
       "<IPython.core.display.HTML object>"
      ]
     },
     "metadata": {},
     "output_type": "display_data"
    },
    {
     "data": {
      "text/html": [],
      "text/plain": [
       "<IPython.core.display.HTML object>"
      ]
     },
     "metadata": {},
     "output_type": "display_data"
    },
    {
     "data": {
      "text/html": [],
      "text/plain": [
       "<IPython.core.display.HTML object>"
      ]
     },
     "metadata": {},
     "output_type": "display_data"
    },
    {
     "name": "stdout",
     "output_type": "stream",
     "text": [
      "\n"
     ]
    },
    {
     "data": {
      "text/html": [],
      "text/plain": [
       "<IPython.core.display.HTML object>"
      ]
     },
     "metadata": {},
     "output_type": "display_data"
    }
   ],
   "source": [
    "fnames = []\n",
    "tags = []\n",
    "files = os.listdir(collected_dir + \"full\")\n",
    "\n",
    "files = [f\"{collected_dir}/full/{f}\" for f in files]\n",
    "grids = get_grids(learn, files)\n",
    "\n",
    "for k, v in grids.items():\n",
    "    v = [f\"{g[0]};{g[1]};{g[2]}\" for g in v]\n",
    "    v.sort()\n",
    "    v = \" \".join(v)\n",
    "    fnames.append(k)\n",
    "    tags.append(v)\n",
    "\n",
    "df = pd.DataFrame({'image_name': fnames, 'tags': tags},\n",
    "                  columns=['image_name', 'tags'])\n",
    "convert_dict = {'image_name': str, 'tags': str}\n",
    "df = df.astype(convert_dict)\n",
    "df.replace('', np.nan, inplace=True) # Remove the mini-maps with no players.\n",
    "df.dropna(subset=['tags'], inplace=True)\n",
    "df.to_csv(collected_dir+\"full_coordinates.csv\", index=False)"
   ]
  },
  {
   "cell_type": "markdown",
   "metadata": {},
   "source": [
    "## Create Team Map Coordinates"
   ]
  },
  {
   "cell_type": "markdown",
   "metadata": {},
   "source": [
    "Use the model we trained to predict the coordinates of each player in the team maps. This csv will be used to augment the data in the final prediction model."
   ]
  },
  {
   "cell_type": "code",
   "execution_count": 772,
   "metadata": {},
   "outputs": [
    {
     "name": "stdout",
     "output_type": "stream",
     "text": [
      "locating player positions...\n"
     ]
    },
    {
     "data": {
      "application/vnd.jupyter.widget-view+json": {
       "model_id": "ab6c90d55ef344b8a5369585577400bd",
       "version_major": 2,
       "version_minor": 0
      },
      "text/plain": [
       "HBox(children=(FloatProgress(value=0.0, max=92454.0), HTML(value='')))"
      ]
     },
     "metadata": {},
     "output_type": "display_data"
    },
    {
     "data": {
      "text/html": [],
      "text/plain": [
       "<IPython.core.display.HTML object>"
      ]
     },
     "metadata": {},
     "output_type": "display_data"
    },
    {
     "data": {
      "text/html": [],
      "text/plain": [
       "<IPython.core.display.HTML object>"
      ]
     },
     "metadata": {},
     "output_type": "display_data"
    },
    {
     "data": {
      "text/html": [],
      "text/plain": [
       "<IPython.core.display.HTML object>"
      ]
     },
     "metadata": {},
     "output_type": "display_data"
    },
    {
     "data": {
      "text/html": [],
      "text/plain": [
       "<IPython.core.display.HTML object>"
      ]
     },
     "metadata": {},
     "output_type": "display_data"
    },
    {
     "data": {
      "text/html": [],
      "text/plain": [
       "<IPython.core.display.HTML object>"
      ]
     },
     "metadata": {},
     "output_type": "display_data"
    },
    {
     "data": {
      "text/html": [],
      "text/plain": [
       "<IPython.core.display.HTML object>"
      ]
     },
     "metadata": {},
     "output_type": "display_data"
    },
    {
     "data": {
      "text/html": [],
      "text/plain": [
       "<IPython.core.display.HTML object>"
      ]
     },
     "metadata": {},
     "output_type": "display_data"
    },
    {
     "data": {
      "text/html": [],
      "text/plain": [
       "<IPython.core.display.HTML object>"
      ]
     },
     "metadata": {},
     "output_type": "display_data"
    },
    {
     "data": {
      "text/html": [],
      "text/plain": [
       "<IPython.core.display.HTML object>"
      ]
     },
     "metadata": {},
     "output_type": "display_data"
    },
    {
     "data": {
      "text/html": [],
      "text/plain": [
       "<IPython.core.display.HTML object>"
      ]
     },
     "metadata": {},
     "output_type": "display_data"
    },
    {
     "data": {
      "text/html": [],
      "text/plain": [
       "<IPython.core.display.HTML object>"
      ]
     },
     "metadata": {},
     "output_type": "display_data"
    },
    {
     "data": {
      "text/html": [],
      "text/plain": [
       "<IPython.core.display.HTML object>"
      ]
     },
     "metadata": {},
     "output_type": "display_data"
    },
    {
     "data": {
      "text/html": [],
      "text/plain": [
       "<IPython.core.display.HTML object>"
      ]
     },
     "metadata": {},
     "output_type": "display_data"
    },
    {
     "data": {
      "text/html": [],
      "text/plain": [
       "<IPython.core.display.HTML object>"
      ]
     },
     "metadata": {},
     "output_type": "display_data"
    },
    {
     "data": {
      "text/html": [],
      "text/plain": [
       "<IPython.core.display.HTML object>"
      ]
     },
     "metadata": {},
     "output_type": "display_data"
    },
    {
     "data": {
      "text/html": [],
      "text/plain": [
       "<IPython.core.display.HTML object>"
      ]
     },
     "metadata": {},
     "output_type": "display_data"
    },
    {
     "data": {
      "text/html": [],
      "text/plain": [
       "<IPython.core.display.HTML object>"
      ]
     },
     "metadata": {},
     "output_type": "display_data"
    },
    {
     "data": {
      "text/html": [],
      "text/plain": [
       "<IPython.core.display.HTML object>"
      ]
     },
     "metadata": {},
     "output_type": "display_data"
    },
    {
     "data": {
      "text/html": [],
      "text/plain": [
       "<IPython.core.display.HTML object>"
      ]
     },
     "metadata": {},
     "output_type": "display_data"
    },
    {
     "data": {
      "text/html": [],
      "text/plain": [
       "<IPython.core.display.HTML object>"
      ]
     },
     "metadata": {},
     "output_type": "display_data"
    },
    {
     "data": {
      "text/html": [],
      "text/plain": [
       "<IPython.core.display.HTML object>"
      ]
     },
     "metadata": {},
     "output_type": "display_data"
    },
    {
     "data": {
      "text/html": [],
      "text/plain": [
       "<IPython.core.display.HTML object>"
      ]
     },
     "metadata": {},
     "output_type": "display_data"
    },
    {
     "data": {
      "text/html": [],
      "text/plain": [
       "<IPython.core.display.HTML object>"
      ]
     },
     "metadata": {},
     "output_type": "display_data"
    },
    {
     "data": {
      "text/html": [],
      "text/plain": [
       "<IPython.core.display.HTML object>"
      ]
     },
     "metadata": {},
     "output_type": "display_data"
    },
    {
     "data": {
      "text/html": [],
      "text/plain": [
       "<IPython.core.display.HTML object>"
      ]
     },
     "metadata": {},
     "output_type": "display_data"
    },
    {
     "data": {
      "text/html": [],
      "text/plain": [
       "<IPython.core.display.HTML object>"
      ]
     },
     "metadata": {},
     "output_type": "display_data"
    },
    {
     "data": {
      "text/html": [],
      "text/plain": [
       "<IPython.core.display.HTML object>"
      ]
     },
     "metadata": {},
     "output_type": "display_data"
    },
    {
     "data": {
      "text/html": [],
      "text/plain": [
       "<IPython.core.display.HTML object>"
      ]
     },
     "metadata": {},
     "output_type": "display_data"
    },
    {
     "data": {
      "text/html": [],
      "text/plain": [
       "<IPython.core.display.HTML object>"
      ]
     },
     "metadata": {},
     "output_type": "display_data"
    },
    {
     "data": {
      "text/html": [],
      "text/plain": [
       "<IPython.core.display.HTML object>"
      ]
     },
     "metadata": {},
     "output_type": "display_data"
    },
    {
     "data": {
      "text/html": [],
      "text/plain": [
       "<IPython.core.display.HTML object>"
      ]
     },
     "metadata": {},
     "output_type": "display_data"
    },
    {
     "data": {
      "text/html": [],
      "text/plain": [
       "<IPython.core.display.HTML object>"
      ]
     },
     "metadata": {},
     "output_type": "display_data"
    },
    {
     "data": {
      "text/html": [],
      "text/plain": [
       "<IPython.core.display.HTML object>"
      ]
     },
     "metadata": {},
     "output_type": "display_data"
    },
    {
     "data": {
      "text/html": [],
      "text/plain": [
       "<IPython.core.display.HTML object>"
      ]
     },
     "metadata": {},
     "output_type": "display_data"
    },
    {
     "data": {
      "text/html": [],
      "text/plain": [
       "<IPython.core.display.HTML object>"
      ]
     },
     "metadata": {},
     "output_type": "display_data"
    },
    {
     "data": {
      "text/html": [],
      "text/plain": [
       "<IPython.core.display.HTML object>"
      ]
     },
     "metadata": {},
     "output_type": "display_data"
    },
    {
     "data": {
      "text/html": [],
      "text/plain": [
       "<IPython.core.display.HTML object>"
      ]
     },
     "metadata": {},
     "output_type": "display_data"
    },
    {
     "data": {
      "text/html": [],
      "text/plain": [
       "<IPython.core.display.HTML object>"
      ]
     },
     "metadata": {},
     "output_type": "display_data"
    },
    {
     "data": {
      "text/html": [],
      "text/plain": [
       "<IPython.core.display.HTML object>"
      ]
     },
     "metadata": {},
     "output_type": "display_data"
    },
    {
     "data": {
      "text/html": [],
      "text/plain": [
       "<IPython.core.display.HTML object>"
      ]
     },
     "metadata": {},
     "output_type": "display_data"
    },
    {
     "data": {
      "text/html": [],
      "text/plain": [
       "<IPython.core.display.HTML object>"
      ]
     },
     "metadata": {},
     "output_type": "display_data"
    },
    {
     "data": {
      "text/html": [],
      "text/plain": [
       "<IPython.core.display.HTML object>"
      ]
     },
     "metadata": {},
     "output_type": "display_data"
    },
    {
     "data": {
      "text/html": [],
      "text/plain": [
       "<IPython.core.display.HTML object>"
      ]
     },
     "metadata": {},
     "output_type": "display_data"
    },
    {
     "data": {
      "text/html": [],
      "text/plain": [
       "<IPython.core.display.HTML object>"
      ]
     },
     "metadata": {},
     "output_type": "display_data"
    },
    {
     "data": {
      "text/html": [],
      "text/plain": [
       "<IPython.core.display.HTML object>"
      ]
     },
     "metadata": {},
     "output_type": "display_data"
    },
    {
     "data": {
      "text/html": [],
      "text/plain": [
       "<IPython.core.display.HTML object>"
      ]
     },
     "metadata": {},
     "output_type": "display_data"
    },
    {
     "data": {
      "text/html": [],
      "text/plain": [
       "<IPython.core.display.HTML object>"
      ]
     },
     "metadata": {},
     "output_type": "display_data"
    },
    {
     "data": {
      "text/html": [],
      "text/plain": [
       "<IPython.core.display.HTML object>"
      ]
     },
     "metadata": {},
     "output_type": "display_data"
    },
    {
     "data": {
      "text/html": [],
      "text/plain": [
       "<IPython.core.display.HTML object>"
      ]
     },
     "metadata": {},
     "output_type": "display_data"
    },
    {
     "data": {
      "text/html": [],
      "text/plain": [
       "<IPython.core.display.HTML object>"
      ]
     },
     "metadata": {},
     "output_type": "display_data"
    },
    {
     "data": {
      "text/html": [],
      "text/plain": [
       "<IPython.core.display.HTML object>"
      ]
     },
     "metadata": {},
     "output_type": "display_data"
    },
    {
     "data": {
      "text/html": [],
      "text/plain": [
       "<IPython.core.display.HTML object>"
      ]
     },
     "metadata": {},
     "output_type": "display_data"
    },
    {
     "data": {
      "text/html": [],
      "text/plain": [
       "<IPython.core.display.HTML object>"
      ]
     },
     "metadata": {},
     "output_type": "display_data"
    },
    {
     "data": {
      "text/html": [],
      "text/plain": [
       "<IPython.core.display.HTML object>"
      ]
     },
     "metadata": {},
     "output_type": "display_data"
    },
    {
     "data": {
      "text/html": [],
      "text/plain": [
       "<IPython.core.display.HTML object>"
      ]
     },
     "metadata": {},
     "output_type": "display_data"
    },
    {
     "data": {
      "text/html": [],
      "text/plain": [
       "<IPython.core.display.HTML object>"
      ]
     },
     "metadata": {},
     "output_type": "display_data"
    },
    {
     "data": {
      "text/html": [],
      "text/plain": [
       "<IPython.core.display.HTML object>"
      ]
     },
     "metadata": {},
     "output_type": "display_data"
    },
    {
     "data": {
      "text/html": [],
      "text/plain": [
       "<IPython.core.display.HTML object>"
      ]
     },
     "metadata": {},
     "output_type": "display_data"
    },
    {
     "data": {
      "text/html": [],
      "text/plain": [
       "<IPython.core.display.HTML object>"
      ]
     },
     "metadata": {},
     "output_type": "display_data"
    },
    {
     "data": {
      "text/html": [],
      "text/plain": [
       "<IPython.core.display.HTML object>"
      ]
     },
     "metadata": {},
     "output_type": "display_data"
    },
    {
     "data": {
      "text/html": [],
      "text/plain": [
       "<IPython.core.display.HTML object>"
      ]
     },
     "metadata": {},
     "output_type": "display_data"
    },
    {
     "data": {
      "text/html": [],
      "text/plain": [
       "<IPython.core.display.HTML object>"
      ]
     },
     "metadata": {},
     "output_type": "display_data"
    },
    {
     "data": {
      "text/html": [],
      "text/plain": [
       "<IPython.core.display.HTML object>"
      ]
     },
     "metadata": {},
     "output_type": "display_data"
    },
    {
     "data": {
      "text/html": [],
      "text/plain": [
       "<IPython.core.display.HTML object>"
      ]
     },
     "metadata": {},
     "output_type": "display_data"
    },
    {
     "data": {
      "text/html": [],
      "text/plain": [
       "<IPython.core.display.HTML object>"
      ]
     },
     "metadata": {},
     "output_type": "display_data"
    },
    {
     "data": {
      "text/html": [],
      "text/plain": [
       "<IPython.core.display.HTML object>"
      ]
     },
     "metadata": {},
     "output_type": "display_data"
    },
    {
     "data": {
      "text/html": [],
      "text/plain": [
       "<IPython.core.display.HTML object>"
      ]
     },
     "metadata": {},
     "output_type": "display_data"
    },
    {
     "data": {
      "text/html": [],
      "text/plain": [
       "<IPython.core.display.HTML object>"
      ]
     },
     "metadata": {},
     "output_type": "display_data"
    },
    {
     "data": {
      "text/html": [],
      "text/plain": [
       "<IPython.core.display.HTML object>"
      ]
     },
     "metadata": {},
     "output_type": "display_data"
    },
    {
     "data": {
      "text/html": [],
      "text/plain": [
       "<IPython.core.display.HTML object>"
      ]
     },
     "metadata": {},
     "output_type": "display_data"
    },
    {
     "data": {
      "text/html": [],
      "text/plain": [
       "<IPython.core.display.HTML object>"
      ]
     },
     "metadata": {},
     "output_type": "display_data"
    },
    {
     "data": {
      "text/html": [],
      "text/plain": [
       "<IPython.core.display.HTML object>"
      ]
     },
     "metadata": {},
     "output_type": "display_data"
    },
    {
     "data": {
      "text/html": [],
      "text/plain": [
       "<IPython.core.display.HTML object>"
      ]
     },
     "metadata": {},
     "output_type": "display_data"
    },
    {
     "data": {
      "text/html": [],
      "text/plain": [
       "<IPython.core.display.HTML object>"
      ]
     },
     "metadata": {},
     "output_type": "display_data"
    },
    {
     "data": {
      "text/html": [],
      "text/plain": [
       "<IPython.core.display.HTML object>"
      ]
     },
     "metadata": {},
     "output_type": "display_data"
    },
    {
     "data": {
      "text/html": [],
      "text/plain": [
       "<IPython.core.display.HTML object>"
      ]
     },
     "metadata": {},
     "output_type": "display_data"
    },
    {
     "data": {
      "text/html": [],
      "text/plain": [
       "<IPython.core.display.HTML object>"
      ]
     },
     "metadata": {},
     "output_type": "display_data"
    },
    {
     "data": {
      "text/html": [],
      "text/plain": [
       "<IPython.core.display.HTML object>"
      ]
     },
     "metadata": {},
     "output_type": "display_data"
    },
    {
     "data": {
      "text/html": [],
      "text/plain": [
       "<IPython.core.display.HTML object>"
      ]
     },
     "metadata": {},
     "output_type": "display_data"
    },
    {
     "data": {
      "text/html": [],
      "text/plain": [
       "<IPython.core.display.HTML object>"
      ]
     },
     "metadata": {},
     "output_type": "display_data"
    },
    {
     "data": {
      "text/html": [],
      "text/plain": [
       "<IPython.core.display.HTML object>"
      ]
     },
     "metadata": {},
     "output_type": "display_data"
    },
    {
     "data": {
      "text/html": [],
      "text/plain": [
       "<IPython.core.display.HTML object>"
      ]
     },
     "metadata": {},
     "output_type": "display_data"
    },
    {
     "data": {
      "text/html": [],
      "text/plain": [
       "<IPython.core.display.HTML object>"
      ]
     },
     "metadata": {},
     "output_type": "display_data"
    },
    {
     "data": {
      "text/html": [],
      "text/plain": [
       "<IPython.core.display.HTML object>"
      ]
     },
     "metadata": {},
     "output_type": "display_data"
    },
    {
     "data": {
      "text/html": [],
      "text/plain": [
       "<IPython.core.display.HTML object>"
      ]
     },
     "metadata": {},
     "output_type": "display_data"
    },
    {
     "data": {
      "text/html": [],
      "text/plain": [
       "<IPython.core.display.HTML object>"
      ]
     },
     "metadata": {},
     "output_type": "display_data"
    },
    {
     "data": {
      "text/html": [],
      "text/plain": [
       "<IPython.core.display.HTML object>"
      ]
     },
     "metadata": {},
     "output_type": "display_data"
    },
    {
     "data": {
      "text/html": [],
      "text/plain": [
       "<IPython.core.display.HTML object>"
      ]
     },
     "metadata": {},
     "output_type": "display_data"
    },
    {
     "data": {
      "text/html": [],
      "text/plain": [
       "<IPython.core.display.HTML object>"
      ]
     },
     "metadata": {},
     "output_type": "display_data"
    },
    {
     "data": {
      "text/html": [],
      "text/plain": [
       "<IPython.core.display.HTML object>"
      ]
     },
     "metadata": {},
     "output_type": "display_data"
    },
    {
     "data": {
      "text/html": [],
      "text/plain": [
       "<IPython.core.display.HTML object>"
      ]
     },
     "metadata": {},
     "output_type": "display_data"
    },
    {
     "data": {
      "text/html": [],
      "text/plain": [
       "<IPython.core.display.HTML object>"
      ]
     },
     "metadata": {},
     "output_type": "display_data"
    },
    {
     "data": {
      "text/html": [],
      "text/plain": [
       "<IPython.core.display.HTML object>"
      ]
     },
     "metadata": {},
     "output_type": "display_data"
    },
    {
     "name": "stdout",
     "output_type": "stream",
     "text": [
      "\n"
     ]
    },
    {
     "data": {
      "text/html": [],
      "text/plain": [
       "<IPython.core.display.HTML object>"
      ]
     },
     "metadata": {},
     "output_type": "display_data"
    }
   ],
   "source": [
    "fnames = []\n",
    "tags = []\n",
    "files = os.listdir(collected_dir + \"team\")\n",
    "\n",
    "files = [f\"{collected_dir}/team/{f}\" for f in files]\n",
    "grids = get_grids(best_learn, files)\n",
    "\n",
    "for k, v in grids.items():\n",
    "    v = [f\"{g[0]};{g[1]};{g[2]}\" for g in v]\n",
    "    v.sort()\n",
    "    v = \" \".join(v)\n",
    "    fnames.append(k)\n",
    "    tags.append(v)\n",
    "\n",
    "df = pd.DataFrame({'image_name': fnames, 'tags': tags},\n",
    "                  columns=['image_name', 'tags'])\n",
    "convert_dict = {'image_name': str, 'tags': str}\n",
    "df = df.astype(convert_dict)\n",
    "df.replace('', np.nan, inplace=True) # Remove the mini-maps with no players.\n",
    "df.dropna(subset=['tags'], inplace=True)\n",
    "df.to_csv(collected_dir+\"team_coordinates.csv\", index=False)"
   ]
  },
  {
   "cell_type": "markdown",
   "metadata": {},
   "source": [
    "# Create Composite Maps"
   ]
  },
  {
   "cell_type": "markdown",
   "metadata": {},
   "source": [
    "Merge a sequence of maps together to give the model an idea of where players are moving. We only need to merge the team mini-maps, the full mini-maps are only used to extract the coordinates of all player positions. The predictions are made on the player's maps."
   ]
  },
  {
   "cell_type": "markdown",
   "metadata": {},
   "source": [
    "## Composite Function"
   ]
  },
  {
   "cell_type": "code",
   "execution_count": 6,
   "metadata": {},
   "outputs": [
    {
     "data": {
      "image/png": "[encoded data removed]",
      "text/plain": [
       "<PIL.Image.Image image mode=RGBA size=150x150 at 0x7F49BEF51510>"
      ]
     },
     "metadata": {},
     "output_type": "display_data"
    }
   ],
   "source": [
    "def create_composite(previous_positions, img):\n",
    "    grid_size = 10\n",
    "    overlay = PIL.Image.new('RGBA', img.size, (255, 255, 255, 0))\n",
    "    draw = PIL.ImageDraw.Draw(overlay)\n",
    "\n",
    "    num_positions = len(previous_positions)\n",
    "    for i in range(num_positions):\n",
    "        grid = previous_positions[i]\n",
    "        grid = grid.split(\" \")\n",
    "        grid = [g.split(\";\") for g in grid]\n",
    "        grid = [(int(g[0]), int(g[1]), g[2]) for g in grid]\n",
    "\n",
    "        alpha = int(128 * i/num_positions)\n",
    "        for l in grid:\n",
    "            fill = (255, 0, 255, alpha)\n",
    "            if l[2] == \"blue\":\n",
    "                fill = (0, 255, 255, alpha)\n",
    "            if l[2] == \"blue-red\":\n",
    "                fill = (255, 255, 0, alpha)\n",
    "\n",
    "            x1 = l[0] * grid_size\n",
    "            x2 = x1 + grid_size\n",
    "            y1 = l[1] * grid_size\n",
    "            y2 = y1 + grid_size\n",
    "\n",
    "            p1 = (x1, y1)\n",
    "            p2 = (x2, y2)\n",
    "\n",
    "            draw.line([p1, p2], fill=fill, width=2)\n",
    "\n",
    "    out = PIL.Image.alpha_composite(img, overlay)\n",
    "    return out\n",
    "\n",
    "# Test create_composite\n",
    "names = ['hka_isg_4_2019_0000000000', 'hka_isg_4_2019_0000000001', 'hka_isg_4_2019_0000000002', 'hka_isg_4_2019_0000000003', 'hka_isg_4_2019_0000000004', 'hka_isg_4_2019_0000000005', 'hka_isg_4_2019_0000000006', 'hka_isg_4_2019_0000000007',\n",
    "         'hka_isg_4_2019_0000000008', 'hka_isg_4_2019_0000000009', 'hka_isg_4_2019_0000000010', 'hka_isg_4_2019_0000000011', 'hka_isg_4_2019_0000000012', 'hka_isg_4_2019_0000000013', 'hka_isg_4_2019_0000000014', 'hka_isg_4_2019_0000000015']\n",
    "\n",
    "\n",
    "image_tags = {}\n",
    "with open(collected_dir+\"team_coordinates.csv\") as csvfile:\n",
    "    reader = csv.reader(csvfile, delimiter=',', quotechar='|')\n",
    "    next(reader)  # Skip the first line\n",
    "    for row in reader:\n",
    "        image_tags[row[0]] = row[1]\n",
    "\n",
    "previous_positions = []\n",
    "for n in names:\n",
    "    previous_positions.append(image_tags[n])\n",
    "img = PIL.Image.open(collected_dir+\"team/hka_isg_4_2019_0000000015.png\")\n",
    "res = create_composite(previous_positions, img)\n",
    "display(res)"
   ]
  },
  {
   "cell_type": "code",
   "execution_count": 830,
   "metadata": {},
   "outputs": [
    {
     "data": {
      "application/vnd.jupyter.widget-view+json": {
       "model_id": "211d0b10c928485f8ebefb61ecb0d5a4",
       "version_major": 2,
       "version_minor": 0
      },
      "text/plain": [
       "HBox(children=(FloatProgress(value=0.0, max=75.0), HTML(value='')))"
      ]
     },
     "metadata": {},
     "output_type": "display_data"
    },
    {
     "name": "stdout",
     "output_type": "stream",
     "text": [
      "ig_tl_1_worlds_oct_12_2019_0000000019\n",
      "ig_tl_1_worlds_oct_12_2019_0000000020\n",
      "ig_tl_1_worlds_oct_12_2019_0000000021\n",
      "ig_tl_1_worlds_oct_12_2019_0000000022\n",
      "ig_tl_1_worlds_oct_12_2019_0000000023\n",
      "ig_tl_1_worlds_oct_12_2019_0000000024\n",
      "ig_tl_1_worlds_oct_12_2019_0000000025\n",
      "ig_tl_1_worlds_oct_12_2019_0000000026\n",
      "ig_tl_1_worlds_oct_12_2019_0000000027\n",
      "ig_tl_1_worlds_oct_12_2019_0000000028\n",
      "ig_tl_1_worlds_oct_12_2019_0000000029\n",
      "ig_tl_1_worlds_oct_12_2019_0000000030\n",
      "ig_tl_1_worlds_oct_12_2019_0000000031\n",
      "ig_tl_1_worlds_oct_12_2019_0000000032\n",
      "ig_tl_1_worlds_oct_12_2019_0000000033\n",
      "ig_tl_1_worlds_oct_12_2019_0000000034\n",
      "ig_tl_1_worlds_oct_12_2019_0000000035\n",
      "ig_tl_1_worlds_oct_12_2019_0000000036\n",
      "ig_tl_1_worlds_oct_12_2019_0000000037\n",
      "dfm_spy_worlds_2019_0000000706\n",
      "dfm_spy_worlds_2019_0000000707\n",
      "dfm_spy_worlds_2019_0000000708\n",
      "dfm_spy_worlds_2019_0000000709\n",
      "dfm_spy_worlds_2019_0000000710\n",
      "dfm_spy_worlds_2019_0000000711\n",
      "dfm_spy_worlds_2019_0000000712\n",
      "dfm_spy_worlds_2019_0000000713\n",
      "dfm_spy_worlds_2019_0000000714\n",
      "dfm_spy_worlds_2019_0000000715\n",
      "dfm_spy_worlds_2019_0000000716\n",
      "dfm_spy_worlds_2019_0000000717\n",
      "dfm_spy_worlds_2019_0000000718\n",
      "dfm_spy_worlds_2019_0000000719\n",
      "dfm_spy_worlds_2019_0000000720\n",
      "dfm_spy_worlds_2019_0000000721\n",
      "dfm_spy_worlds_2019_0000000722\n",
      "dfm_spy_worlds_2019_0000000723\n",
      "dfm_spy_worlds_2019_0000000724\n",
      "fpx_jt_1_worlds_oct_12_2019_0000000691\n",
      "fpx_jt_1_worlds_oct_12_2019_0000000692\n",
      "fpx_jt_1_worlds_oct_12_2019_0000000693\n",
      "fpx_jt_1_worlds_oct_12_2019_0000000694\n",
      "fpx_jt_1_worlds_oct_12_2019_0000000695\n",
      "fpx_jt_1_worlds_oct_12_2019_0000000696\n",
      "fpx_jt_1_worlds_oct_12_2019_0000000697\n",
      "fpx_jt_1_worlds_oct_12_2019_0000000698\n",
      "fpx_jt_1_worlds_oct_12_2019_0000000699\n",
      "fpx_jt_1_worlds_oct_12_2019_0000000700\n",
      "fpx_jt_1_worlds_oct_12_2019_0000000701\n",
      "fpx_jt_1_worlds_oct_12_2019_0000000702\n",
      "fpx_jt_1_worlds_oct_12_2019_0000000703\n",
      "fpx_jt_1_worlds_oct_12_2019_0000000704\n",
      "fpx_jt_1_worlds_oct_12_2019_0000000705\n",
      "ahq_ig_1_worlds_oct_20_2019_0000000129\n",
      "ahq_ig_1_worlds_oct_20_2019_0000000130\n",
      "ahq_ig_1_worlds_oct_20_2019_0000000131\n",
      "ahq_ig_1_worlds_oct_20_2019_0000000132\n",
      "ahq_ig_1_worlds_oct_20_2019_0000000133\n",
      "ahq_ig_1_worlds_oct_20_2019_0000000134\n",
      "ahq_ig_1_worlds_oct_20_2019_0000000135\n",
      "ahq_ig_1_worlds_oct_20_2019_0000000136\n",
      "ahq_ig_1_worlds_oct_20_2019_0000000137\n",
      "ahq_ig_1_worlds_oct_20_2019_0000000138\n",
      "ahq_ig_1_worlds_oct_20_2019_0000000139\n",
      "ahq_ig_1_worlds_oct_20_2019_0000000140\n",
      "ahq_ig_1_worlds_oct_20_2019_0000000141\n",
      "ahq_ig_1_worlds_oct_20_2019_0000000142\n",
      "ahq_ig_1_worlds_oct_20_2019_0000000143\n",
      "lk_mg_worlds_2019_0000000913\n",
      "lk_mg_worlds_2019_0000000914\n",
      "lk_mg_worlds_2019_0000000915\n",
      "lk_mg_worlds_2019_0000000916\n",
      "lk_mg_worlds_2019_0000000917\n",
      "lk_mg_worlds_2019_0000000918\n",
      "lk_mg_worlds_2019_0000000919\n",
      "lk_mg_worlds_2019_0000000920\n",
      "lk_mg_worlds_2019_0000000921\n",
      "lk_mg_worlds_2019_0000000922\n",
      "lk_mg_worlds_2019_0000000923\n",
      "lk_mg_worlds_2019_0000000924\n",
      "lk_mg_worlds_2019_0000000925\n",
      "lk_mg_worlds_2019_0000000926\n",
      "lk_mg_worlds_2019_0000000927\n",
      "dwg_tl_1_worlds_oct_20_2019_0000000864\n",
      "dwg_tl_1_worlds_oct_20_2019_0000000865\n",
      "dwg_tl_1_worlds_oct_20_2019_0000000866\n",
      "fpx_gam_1_worlds_oct_15_2019_0000000520\n",
      "fpx_gam_1_worlds_oct_15_2019_0000000521\n",
      "fpx_gam_1_worlds_oct_15_2019_0000000522\n",
      "fpx_gam_1_worlds_oct_15_2019_0000000523\n",
      "fpx_gam_1_worlds_oct_15_2019_0000000524\n",
      "fpx_gam_1_worlds_oct_15_2019_0000000525\n",
      "fpx_gam_1_worlds_oct_15_2019_0000000526\n",
      "fpx_gam_1_worlds_oct_15_2019_0000000527\n",
      "fpx_gam_1_worlds_oct_15_2019_0000000528\n",
      "fpx_gam_1_worlds_oct_15_2019_0000000529\n",
      "fpx_gam_1_worlds_oct_15_2019_0000000530\n",
      "fpx_gam_1_worlds_oct_15_2019_0000000531\n",
      "fpx_gam_1_worlds_oct_15_2019_0000000532\n",
      "fpx_gam_1_worlds_oct_15_2019_0000000533\n",
      "fpx_gam_1_worlds_oct_15_2019_0000000534\n",
      "fpx_gam_1_worlds_oct_15_2019_0000000736\n",
      "fpx_gam_1_worlds_oct_15_2019_0000000737\n",
      "fpx_gam_1_worlds_oct_15_2019_0000000738\n",
      "fpx_gam_1_worlds_oct_15_2019_0000000739\n",
      "fpx_gam_1_worlds_oct_15_2019_0000000740\n",
      "fpx_gam_1_worlds_oct_15_2019_0000000741\n",
      "fpx_gam_1_worlds_oct_15_2019_0000000742\n",
      "fpx_gam_1_worlds_oct_15_2019_0000000743\n",
      "fpx_gam_1_worlds_oct_15_2019_0000000744\n",
      "fpx_gam_1_worlds_oct_15_2019_0000000745\n",
      "fpx_gam_1_worlds_oct_15_2019_0000000746\n",
      "fpx_gam_1_worlds_oct_15_2019_0000000747\n",
      "fpx_gam_1_worlds_oct_15_2019_0000000748\n",
      "fpx_gam_1_worlds_oct_15_2019_0000000749\n",
      "fpx_gam_1_worlds_oct_15_2019_0000000750\n",
      "dwg_lk_worlds_2019_0000001278\n",
      "dwg_lk_worlds_2019_0000001279\n",
      "dwg_lk_worlds_2019_0000001280\n",
      "dwg_lk_worlds_2019_0000001281\n",
      "dwg_lk_worlds_2019_0000001282\n",
      "dwg_lk_worlds_2019_0000001283\n",
      "dwg_lk_worlds_2019_0000001284\n",
      "dwg_lk_worlds_2019_0000001285\n",
      "dwg_lk_worlds_2019_0000001286\n",
      "dwg_lk_worlds_2019_0000001287\n",
      "dwg_lk_worlds_2019_0000001288\n",
      "dwg_lk_worlds_2019_0000001289\n",
      "dwg_lk_worlds_2019_0000001290\n",
      "dwg_lk_worlds_2019_0000001291\n",
      "dwg_lk_worlds_2019_0000001292\n",
      "hka_isg_4_2019_0000000128\n",
      "hka_isg_4_2019_0000000129\n",
      "hka_isg_4_2019_0000000130\n",
      "hka_isg_4_2019_0000000131\n",
      "hka_isg_4_2019_0000000132\n",
      "hka_isg_4_2019_0000000133\n",
      "hka_isg_4_2019_0000000134\n",
      "hka_isg_4_2019_0000000135\n",
      "hka_isg_4_2019_0000000136\n",
      "hka_isg_4_2019_0000000137\n",
      "hka_isg_4_2019_0000000138\n",
      "hka_isg_4_2019_0000000139\n",
      "hka_isg_4_2019_0000000140\n",
      "hka_isg_4_2019_0000000141\n",
      "hka_isg_4_2019_0000000142\n",
      "hka_isg_4_2019_0000000143\n",
      "hka_isg_4_2019_0000000144\n",
      "hka_isg_4_2019_0000000145\n",
      "hka_isg_4_2019_0000000146\n",
      "jt_spy_1_worlds_oct_17_2019_0000001321\n",
      "jt_spy_1_worlds_oct_17_2019_0000001322\n",
      "jt_spy_1_worlds_oct_17_2019_0000001323\n",
      "jt_spy_1_worlds_oct_17_2019_0000001324\n",
      "jt_spy_1_worlds_oct_17_2019_0000001325\n",
      "jt_spy_1_worlds_oct_17_2019_0000001326\n",
      "jt_spy_1_worlds_oct_17_2019_0000001327\n",
      "jt_spy_1_worlds_oct_17_2019_0000001328\n",
      "jt_spy_1_worlds_oct_17_2019_0000001329\n",
      "jt_spy_1_worlds_oct_17_2019_0000001330\n",
      "jt_spy_1_worlds_oct_17_2019_0000001331\n",
      "jt_spy_1_worlds_oct_17_2019_0000001332\n",
      "jt_spy_1_worlds_oct_17_2019_0000001333\n",
      "jt_spy_1_worlds_oct_17_2019_0000001334\n",
      "jt_spy_1_worlds_oct_17_2019_0000001335\n",
      "jt_spy_1_worlds_oct_17_2019_0000001336\n",
      "jt_spy_1_worlds_oct_17_2019_0000001337\n",
      "jt_spy_1_worlds_oct_17_2019_0000001338\n",
      "jt_spy_1_worlds_oct_17_2019_0000001339\n",
      "jt_spy_1_worlds_oct_17_2019_0000001340\n",
      "jt_spy_1_worlds_oct_17_2019_0000001341\n",
      "jt_spy_1_worlds_oct_17_2019_0000001342\n",
      "jt_spy_1_worlds_oct_17_2019_0000001343\n",
      "jt_spy_1_worlds_oct_17_2019_0000001344\n",
      "jt_spy_1_worlds_oct_17_2019_0000001345\n",
      "jt_spy_1_worlds_oct_17_2019_0000001346\n",
      "jt_spy_1_worlds_oct_17_2019_0000001347\n",
      "jt_spy_1_worlds_oct_17_2019_0000001348\n",
      "jt_spy_1_worlds_oct_17_2019_0000001349\n",
      "jt_spy_1_worlds_oct_17_2019_0000001350\n",
      "jt_spy_1_worlds_oct_17_2019_0000001351\n",
      "jt_spy_1_worlds_oct_17_2019_0000001352\n",
      "jt_spy_1_worlds_oct_17_2019_0000001353\n",
      "jt_spy_1_worlds_oct_17_2019_0000001354\n",
      "jt_spy_1_worlds_oct_17_2019_0000001355\n",
      "jt_spy_1_worlds_oct_17_2019_0000001356\n",
      "jt_spy_1_worlds_oct_17_2019_0000001357\n",
      "jt_spy_1_worlds_oct_17_2019_0000001358\n",
      "jt_spy_1_worlds_oct_17_2019_0000001359\n",
      "jt_spy_1_worlds_oct_17_2019_0000001360\n",
      "jt_spy_1_worlds_oct_17_2019_0000001361\n",
      "jt_spy_1_worlds_oct_17_2019_0000001362\n",
      "jt_spy_1_worlds_oct_17_2019_0000001363\n",
      "jt_spy_1_worlds_oct_17_2019_0000001364\n",
      "jt_spy_1_worlds_oct_17_2019_0000001365\n",
      "jt_spy_1_worlds_oct_17_2019_0000001366\n",
      "jt_spy_1_worlds_oct_17_2019_0000001367\n",
      "jt_spy_1_worlds_oct_17_2019_0000001368\n",
      "jt_spy_1_worlds_oct_17_2019_0000001369\n",
      "jt_spy_1_worlds_oct_17_2019_0000001370\n",
      "jt_spy_1_worlds_oct_17_2019_0000001371\n",
      "jt_spy_1_worlds_oct_17_2019_0000001372\n",
      "jt_spy_1_worlds_oct_17_2019_0000001373\n",
      "jt_spy_1_worlds_oct_17_2019_0000001374\n",
      "jt_spy_1_worlds_oct_17_2019_0000001375\n",
      "jt_spy_1_worlds_oct_17_2019_0000001376\n",
      "jt_spy_1_worlds_oct_17_2019_0000001377\n",
      "jt_spy_1_worlds_oct_17_2019_0000001378\n",
      "jt_spy_1_worlds_oct_17_2019_0000001379\n",
      "jt_spy_1_worlds_oct_17_2019_0000001380\n",
      "jt_spy_1_worlds_oct_17_2019_0000001381\n",
      "jt_spy_1_worlds_oct_17_2019_0000001382\n",
      "jt_spy_1_worlds_oct_17_2019_0000001383\n",
      "jt_spy_1_worlds_oct_17_2019_0000001384\n",
      "jt_spy_1_worlds_oct_17_2019_0000001385\n",
      "jt_spy_1_worlds_oct_17_2019_0000001386\n",
      "jt_spy_1_worlds_oct_17_2019_0000001387\n",
      "jt_spy_1_worlds_oct_17_2019_0000001388\n",
      "jt_spy_1_worlds_oct_17_2019_0000001389\n",
      "jt_spy_1_worlds_oct_17_2019_0000001390\n",
      "jt_spy_1_worlds_oct_17_2019_0000001391\n",
      "jt_spy_1_worlds_oct_17_2019_0000001392\n",
      "jt_spy_1_worlds_oct_17_2019_0000001393\n",
      "jt_spy_1_worlds_oct_17_2019_0000001394\n",
      "jt_spy_1_worlds_oct_17_2019_0000001395\n",
      "jt_spy_1_worlds_oct_17_2019_0000001396\n",
      "jt_spy_1_worlds_oct_17_2019_0000001397\n",
      "jt_spy_1_worlds_oct_17_2019_0000001398\n"
     ]
    },
    {
     "name": "stdout",
     "output_type": "stream",
     "text": [
      "fpx_gam_1_worlds_oct_17_2019_0000001394\n",
      "fpx_gam_1_worlds_oct_17_2019_0000001395\n",
      "fpx_gam_1_worlds_oct_17_2019_0000001396\n",
      "fpx_gam_1_worlds_oct_17_2019_0000001397\n",
      "fpx_gam_1_worlds_oct_17_2019_0000001398\n",
      "fnc_skt_1_worlds_oct_12_2019_0000000096\n",
      "fnc_skt_1_worlds_oct_12_2019_0000000097\n",
      "fnc_skt_1_worlds_oct_12_2019_0000000098\n",
      "fnc_skt_1_worlds_oct_12_2019_0000000099\n",
      "fnc_skt_1_worlds_oct_12_2019_0000000100\n",
      "fnc_skt_1_worlds_oct_12_2019_0000000101\n",
      "fnc_skt_1_worlds_oct_12_2019_0000000102\n",
      "fnc_skt_1_worlds_oct_12_2019_0000000103\n",
      "fnc_skt_1_worlds_oct_12_2019_0000000104\n",
      "fnc_skt_1_worlds_oct_12_2019_0000000105\n",
      "fnc_skt_1_worlds_oct_12_2019_0000000106\n",
      "fnc_skt_1_worlds_oct_12_2019_0000000107\n",
      "fnc_skt_1_worlds_oct_12_2019_0000000108\n",
      "fnc_skt_1_worlds_oct_12_2019_0000000109\n",
      "fnc_skt_1_worlds_oct_12_2019_0000000110\n",
      "fnc_skt_1_worlds_oct_12_2019_0000000111\n",
      "fnc_skt_1_worlds_oct_12_2019_0000000112\n",
      "fnc_skt_1_worlds_oct_12_2019_0000000113\n",
      "dwg_lk_3_worlds_2019_0000001188\n",
      "dwg_lk_3_worlds_2019_0000001189\n",
      "dwg_lk_3_worlds_2019_0000001190\n",
      "dwg_lk_3_worlds_2019_0000001191\n",
      "dwg_lk_3_worlds_2019_0000001192\n",
      "dwg_lk_3_worlds_2019_0000001193\n",
      "dwg_lk_3_worlds_2019_0000001194\n",
      "dwg_lk_3_worlds_2019_0000001195\n",
      "dwg_lk_3_worlds_2019_0000001196\n",
      "dwg_lk_3_worlds_2019_0000001197\n",
      "dwg_lk_3_worlds_2019_0000001198\n",
      "cg_skt_1_worlds_oct_15_2019_0000000019\n",
      "cg_skt_1_worlds_oct_15_2019_0000000020\n",
      "cg_skt_1_worlds_oct_15_2019_0000000021\n",
      "cg_skt_1_worlds_oct_15_2019_0000000022\n",
      "cg_skt_1_worlds_oct_15_2019_0000000023\n",
      "cg_skt_1_worlds_oct_15_2019_0000000024\n",
      "isg_spy_worlds_2019_0000000636\n",
      "isg_spy_worlds_2019_0000000637\n",
      "isg_spy_worlds_2019_0000000638\n",
      "isg_spy_worlds_2019_0000000639\n",
      "isg_spy_worlds_2019_0000000640\n",
      "isg_spy_worlds_2019_0000000641\n",
      "isg_spy_worlds_2019_0000000642\n",
      "isg_spy_worlds_2019_0000000643\n",
      "isg_spy_worlds_2019_0000000644\n",
      "isg_spy_worlds_2019_0000000645\n",
      "isg_spy_worlds_2019_0000000646\n",
      "isg_spy_worlds_2019_0000000647\n",
      "isg_spy_worlds_2019_0000000648\n",
      "isg_spy_worlds_2019_0000000649\n",
      "isg_spy_worlds_2019_0000000650\n",
      "isg_spy_worlds_2019_0000000651\n",
      "isg_spy_worlds_2019_0000000652\n",
      "isg_spy_worlds_2019_0000000653\n",
      "isg_spy_worlds_2019_0000000654\n",
      "isg_spy_worlds_2019_0000000655\n",
      "isg_spy_worlds_2019_0000000656\n",
      "isg_spy_worlds_2019_0000000657\n",
      "isg_spy_worlds_2019_0000000658\n",
      "isg_spy_worlds_2019_0000000659\n",
      "isg_spy_worlds_2019_0000000660\n",
      "isg_spy_worlds_2019_0000000661\n",
      "isg_spy_worlds_2019_0000000662\n",
      "isg_spy_worlds_2019_0000000663\n",
      "isg_spy_worlds_2019_0000000664\n",
      "isg_spy_worlds_2019_0000000665\n",
      "isg_spy_worlds_2019_0000000666\n",
      "isg_spy_worlds_2019_0000000667\n",
      "isg_spy_worlds_2019_0000000668\n",
      "isg_spy_worlds_2019_0000000669\n",
      "isg_spy_worlds_2019_0000000670\n",
      "isg_spy_worlds_2019_0000000671\n",
      "isg_spy_worlds_2019_0000000672\n",
      "isg_spy_worlds_2019_0000000673\n",
      "isg_spy_worlds_2019_0000000674\n",
      "isg_spy_worlds_2019_0000000675\n",
      "isg_spy_worlds_2019_0000000676\n",
      "isg_spy_worlds_2019_0000000677\n",
      "isg_spy_worlds_2019_0000000678\n",
      "isg_spy_worlds_2019_0000000679\n",
      "isg_spy_worlds_2019_0000000680\n",
      "isg_spy_worlds_2019_0000000681\n",
      "isg_spy_worlds_2019_0000000682\n",
      "isg_spy_worlds_2019_0000000683\n",
      "isg_spy_worlds_2019_0000000684\n",
      "isg_spy_worlds_2019_0000000685\n",
      "isg_spy_worlds_2019_0000000686\n",
      "isg_spy_worlds_2019_0000000687\n",
      "isg_spy_worlds_2019_0000000688\n",
      "isg_spy_worlds_2019_0000000689\n",
      "isg_spy_worlds_2019_0000000690\n",
      "isg_spy_worlds_2019_0000000691\n",
      "isg_spy_worlds_2019_0000000692\n",
      "isg_spy_worlds_2019_0000000693\n",
      "isg_spy_worlds_2019_0000000694\n",
      "isg_spy_worlds_2019_0000000695\n",
      "isg_spy_worlds_2019_0000000696\n",
      "isg_spy_worlds_2019_0000000697\n",
      "isg_spy_worlds_2019_0000000698\n",
      "isg_spy_worlds_2019_0000000699\n",
      "isg_spy_worlds_2019_0000000700\n",
      "isg_spy_worlds_2019_0000000701\n",
      "isg_spy_worlds_2019_0000000702\n",
      "isg_spy_worlds_2019_0000000703\n",
      "isg_spy_worlds_2019_0000000704\n",
      "isg_spy_worlds_2019_0000000705\n",
      "isg_spy_worlds_2019_0000000706\n",
      "isg_spy_worlds_2019_0000000707\n",
      "isg_spy_worlds_2019_0000000708\n",
      "isg_spy_worlds_2019_0000000709\n",
      "isg_spy_worlds_2019_0000000710\n",
      "isg_spy_worlds_2019_0000000711\n",
      "isg_spy_worlds_2019_0000000712\n",
      "isg_spy_worlds_2019_0000000713\n",
      "isg_spy_worlds_2019_0000000714\n",
      "isg_spy_worlds_2019_0000000715\n",
      "isg_spy_worlds_2019_0000000716\n",
      "isg_spy_worlds_2019_0000000717\n",
      "isg_spy_worlds_2019_0000000718\n",
      "isg_spy_worlds_2019_0000000719\n",
      "isg_spy_worlds_2019_0000000720\n",
      "isg_spy_worlds_2019_0000000721\n",
      "isg_spy_worlds_2019_0000000722\n",
      "isg_spy_worlds_2019_0000000723\n",
      "isg_spy_worlds_2019_0000000724\n",
      "isg_spy_worlds_2019_0000000725\n",
      "isg_spy_worlds_2019_0000000726\n",
      "isg_spy_worlds_2019_0000000727\n",
      "isg_spy_worlds_2019_0000000728\n",
      "isg_spy_worlds_2019_0000000729\n",
      "isg_spy_worlds_2019_0000000730\n",
      "isg_spy_worlds_2019_0000000731\n",
      "isg_spy_worlds_2019_0000000732\n",
      "isg_spy_worlds_2019_0000000733\n",
      "isg_spy_worlds_2019_0000000734\n",
      "isg_spy_worlds_2019_0000000735\n",
      "gam_jt_1_worlds_oct_17_2019_0000001282\n",
      "gam_jt_1_worlds_oct_17_2019_0000001283\n",
      "gam_jt_1_worlds_oct_17_2019_0000001284\n",
      "gam_jt_1_worlds_oct_17_2019_0000001285\n",
      "gam_jt_1_worlds_oct_17_2019_0000001286\n",
      "gam_jt_1_worlds_oct_17_2019_0000001287\n",
      "gam_jt_1_worlds_oct_17_2019_0000001288\n",
      "gam_jt_1_worlds_oct_17_2019_0000001289\n",
      "gam_jt_1_worlds_oct_17_2019_0000001290\n",
      "gam_jt_1_worlds_oct_17_2019_0000001291\n",
      "gam_jt_1_worlds_oct_17_2019_0000001292\n",
      "gam_jt_1_worlds_oct_17_2019_0000001293\n",
      "gam_jt_1_worlds_oct_17_2019_0000001294\n",
      "gam_jt_1_worlds_oct_17_2019_0000001295\n",
      "gam_jt_1_worlds_oct_17_2019_0000001296\n",
      "gam_jt_1_worlds_oct_17_2019_0000001297\n",
      "gam_jt_1_worlds_oct_17_2019_0000001298\n",
      "gam_jt_1_worlds_oct_17_2019_0000001299\n",
      "gam_jt_1_worlds_oct_17_2019_0000001300\n",
      "gam_jt_1_worlds_oct_17_2019_0000001301\n",
      "gam_jt_1_worlds_oct_17_2019_0000001302\n",
      "gam_jt_1_worlds_oct_17_2019_0000001303\n",
      "gam_jt_1_worlds_oct_17_2019_0000001304\n",
      "gam_jt_1_worlds_oct_17_2019_0000001305\n",
      "gam_jt_1_worlds_oct_17_2019_0000001306\n",
      "gam_jt_1_worlds_oct_17_2019_0000001307\n",
      "gam_jt_1_worlds_oct_17_2019_0000001308\n",
      "gam_jt_1_worlds_oct_17_2019_0000001309\n",
      "gam_jt_1_worlds_oct_17_2019_0000001310\n",
      "gam_jt_1_worlds_oct_17_2019_0000001311\n",
      "gam_jt_1_worlds_oct_17_2019_0000001312\n",
      "gam_jt_1_worlds_oct_17_2019_0000001313\n",
      "gam_jt_1_worlds_oct_17_2019_0000001314\n",
      "gam_jt_1_worlds_oct_17_2019_0000001315\n",
      "gam_jt_1_worlds_oct_17_2019_0000001316\n",
      "gam_jt_1_worlds_oct_17_2019_0000001317\n",
      "gam_jt_1_worlds_oct_17_2019_0000001318\n",
      "gam_jt_1_worlds_oct_17_2019_0000001319\n",
      "gam_jt_1_worlds_oct_17_2019_0000001320\n",
      "gam_jt_1_worlds_oct_17_2019_0000001321\n",
      "gam_jt_1_worlds_oct_17_2019_0000001322\n",
      "gam_jt_1_worlds_oct_17_2019_0000001323\n",
      "gam_jt_1_worlds_oct_17_2019_0000001324\n",
      "gam_jt_1_worlds_oct_17_2019_0000001325\n",
      "gam_jt_1_worlds_oct_17_2019_0000001326\n",
      "gam_jt_1_worlds_oct_17_2019_0000001327\n",
      "gam_jt_1_worlds_oct_17_2019_0000001328\n",
      "gam_jt_1_worlds_oct_17_2019_0000001329\n",
      "gam_jt_1_worlds_oct_17_2019_0000001330\n",
      "gam_jt_1_worlds_oct_17_2019_0000001331\n",
      "gam_jt_1_worlds_oct_17_2019_0000001332\n",
      "gam_jt_1_worlds_oct_17_2019_0000001333\n",
      "gam_jt_1_worlds_oct_17_2019_0000001334\n",
      "gam_jt_1_worlds_oct_17_2019_0000001335\n",
      "gam_jt_1_worlds_oct_17_2019_0000001336\n",
      "gam_jt_1_worlds_oct_17_2019_0000001337\n",
      "gam_jt_1_worlds_oct_17_2019_0000001338\n",
      "gam_jt_1_worlds_oct_17_2019_0000001339\n",
      "gam_jt_1_worlds_oct_17_2019_0000001340\n",
      "gam_jt_1_worlds_oct_17_2019_0000001341\n",
      "gam_jt_1_worlds_oct_17_2019_0000001342\n",
      "gam_jt_1_worlds_oct_17_2019_0000001343\n",
      "gam_jt_1_worlds_oct_17_2019_0000001344\n",
      "gam_jt_1_worlds_oct_17_2019_0000001345\n",
      "gam_jt_1_worlds_oct_17_2019_0000001346\n",
      "gam_jt_1_worlds_oct_17_2019_0000001347\n",
      "gam_jt_1_worlds_oct_17_2019_0000001348\n",
      "gam_jt_1_worlds_oct_17_2019_0000001349\n",
      "gam_jt_1_worlds_oct_17_2019_0000001350\n",
      "gam_jt_1_worlds_oct_17_2019_0000001351\n",
      "gam_jt_1_worlds_oct_17_2019_0000001352\n",
      "gam_jt_1_worlds_oct_17_2019_0000001353\n",
      "gam_jt_1_worlds_oct_17_2019_0000001354\n",
      "gam_jt_1_worlds_oct_17_2019_0000001355\n",
      "gam_jt_1_worlds_oct_17_2019_0000001356\n",
      "gam_jt_1_worlds_oct_17_2019_0000001357\n",
      "gam_jt_1_worlds_oct_17_2019_0000001358\n",
      "gam_jt_1_worlds_oct_17_2019_0000001359\n",
      "gam_jt_1_worlds_oct_17_2019_0000001360\n",
      "gam_jt_1_worlds_oct_17_2019_0000001361\n",
      "gam_jt_1_worlds_oct_17_2019_0000001362\n",
      "gam_jt_1_worlds_oct_17_2019_0000001363\n",
      "gam_jt_1_worlds_oct_17_2019_0000001364\n",
      "gam_jt_1_worlds_oct_17_2019_0000001365\n",
      "gam_jt_1_worlds_oct_17_2019_0000001366\n",
      "gam_jt_1_worlds_oct_17_2019_0000001367\n",
      "gam_jt_1_worlds_oct_17_2019_0000001368\n",
      "gam_jt_1_worlds_oct_17_2019_0000001369\n",
      "gam_jt_1_worlds_oct_17_2019_0000001370\n",
      "gam_jt_1_worlds_oct_17_2019_0000001371\n",
      "gam_jt_1_worlds_oct_17_2019_0000001372\n",
      "gam_jt_1_worlds_oct_17_2019_0000001373\n",
      "gam_jt_1_worlds_oct_17_2019_0000001374\n",
      "gam_jt_1_worlds_oct_17_2019_0000001375\n",
      "gam_jt_1_worlds_oct_17_2019_0000001376\n",
      "gam_jt_1_worlds_oct_17_2019_0000001377\n",
      "gam_jt_1_worlds_oct_17_2019_0000001378\n",
      "gam_jt_1_worlds_oct_17_2019_0000001379\n",
      "gam_jt_1_worlds_oct_17_2019_0000001380\n",
      "gam_jt_1_worlds_oct_17_2019_0000001381\n",
      "gam_jt_1_worlds_oct_17_2019_0000001382\n",
      "gam_jt_1_worlds_oct_17_2019_0000001383\n",
      "gam_jt_1_worlds_oct_17_2019_0000001384\n",
      "gam_jt_1_worlds_oct_17_2019_0000001385\n",
      "gam_jt_1_worlds_oct_17_2019_0000001386\n",
      "gam_jt_1_worlds_oct_17_2019_0000001387\n",
      "gam_jt_1_worlds_oct_17_2019_0000001388\n",
      "gam_jt_1_worlds_oct_17_2019_0000001389\n",
      "gam_jt_1_worlds_oct_17_2019_0000001390\n",
      "gam_jt_1_worlds_oct_17_2019_0000001391\n",
      "gam_jt_1_worlds_oct_17_2019_0000001392\n",
      "gam_jt_1_worlds_oct_17_2019_0000001393\n",
      "gam_jt_1_worlds_oct_17_2019_0000001394\n",
      "gam_jt_1_worlds_oct_17_2019_0000001395\n",
      "gam_jt_1_worlds_oct_17_2019_0000001396\n",
      "gam_jt_1_worlds_oct_17_2019_0000001397\n",
      "gam_jt_1_worlds_oct_17_2019_0000001398\n",
      "fpx_jt_1_worlds_oct_17_2019_0000000019\n",
      "fpx_jt_1_worlds_oct_17_2019_0000000020\n",
      "fpx_jt_1_worlds_oct_17_2019_0000000021\n",
      "fpx_jt_1_worlds_oct_17_2019_0000000022\n",
      "fpx_jt_1_worlds_oct_17_2019_0000000023\n",
      "fpx_jt_1_worlds_oct_17_2019_0000000024\n",
      "fpx_jt_1_worlds_oct_17_2019_0000000025\n",
      "fpx_jt_1_worlds_oct_17_2019_0000000026\n",
      "fpx_jt_1_worlds_oct_17_2019_0000000027\n",
      "fpx_jt_1_worlds_oct_17_2019_0000000028\n",
      "fpx_jt_1_worlds_oct_17_2019_0000000029\n",
      "fpx_jt_1_worlds_oct_17_2019_0000000030\n",
      "fpx_jt_1_worlds_oct_17_2019_0000000031\n",
      "fpx_jt_1_worlds_oct_17_2019_0000000032\n",
      "fpx_jt_1_worlds_oct_17_2019_0000000033\n",
      "fpx_jt_1_worlds_oct_17_2019_0000000034\n",
      "fpx_jt_1_worlds_oct_17_2019_0000000035\n",
      "fpx_jt_1_worlds_oct_17_2019_0000000036\n",
      "fpx_jt_1_worlds_oct_17_2019_0000000037\n",
      "fpx_jt_1_worlds_oct_17_2019_0000000038\n",
      "fpx_jt_1_worlds_oct_17_2019_0000000039\n",
      "fpx_jt_1_worlds_oct_17_2019_0000000040\n",
      "fpx_jt_1_worlds_oct_17_2019_0000000041\n",
      "fpx_jt_1_worlds_oct_17_2019_0000000042\n",
      "fpx_jt_1_worlds_oct_17_2019_0000000043\n",
      "fpx_jt_1_worlds_oct_17_2019_0000000044\n",
      "fpx_jt_1_worlds_oct_17_2019_0000000045\n",
      "fpx_jt_1_worlds_oct_17_2019_0000000046\n",
      "fpx_jt_1_worlds_oct_17_2019_0000000047\n",
      "fpx_jt_1_worlds_oct_17_2019_0000000048\n",
      "fpx_jt_1_worlds_oct_17_2019_0000000049\n",
      "fpx_jt_1_worlds_oct_17_2019_0000000050\n",
      "fpx_jt_1_worlds_oct_17_2019_0000000051\n",
      "fpx_jt_1_worlds_oct_17_2019_0000000052\n",
      "fpx_jt_1_worlds_oct_17_2019_0000000053\n",
      "fpx_jt_1_worlds_oct_17_2019_0000000054\n",
      "fpx_jt_1_worlds_oct_17_2019_0000000055\n",
      "fpx_jt_1_worlds_oct_17_2019_0000000056\n",
      "fpx_jt_1_worlds_oct_17_2019_0000000057\n",
      "fpx_jt_1_worlds_oct_17_2019_0000000058\n",
      "fpx_jt_1_worlds_oct_17_2019_0000000059\n",
      "fpx_jt_1_worlds_oct_17_2019_0000000060\n",
      "fpx_jt_1_worlds_oct_17_2019_0000000061\n",
      "fpx_jt_1_worlds_oct_17_2019_0000000062\n",
      "fpx_jt_1_worlds_oct_17_2019_0000000063\n",
      "fpx_jt_1_worlds_oct_17_2019_0000000064\n",
      "fpx_jt_1_worlds_oct_17_2019_0000000065\n",
      "fpx_jt_1_worlds_oct_17_2019_0000000066\n",
      "fpx_jt_1_worlds_oct_17_2019_0000000067\n",
      "fpx_jt_1_worlds_oct_17_2019_0000000068\n",
      "fpx_jt_1_worlds_oct_17_2019_0000000069\n",
      "fpx_jt_1_worlds_oct_17_2019_0000000070\n",
      "fpx_jt_1_worlds_oct_17_2019_0000000071\n",
      "fpx_jt_1_worlds_oct_17_2019_0000000072\n",
      "fpx_jt_1_worlds_oct_17_2019_0000000073\n",
      "fpx_jt_1_worlds_oct_17_2019_0000000074\n",
      "fpx_jt_1_worlds_oct_17_2019_0000000075\n",
      "fpx_jt_1_worlds_oct_17_2019_0000000076\n",
      "fpx_jt_1_worlds_oct_17_2019_0000000077\n",
      "fpx_jt_1_worlds_oct_17_2019_0000000078\n",
      "fpx_jt_1_worlds_oct_17_2019_0000000079\n",
      "fpx_jt_1_worlds_oct_17_2019_0000000080\n",
      "fpx_jt_1_worlds_oct_17_2019_0000000081\n",
      "fpx_jt_1_worlds_oct_17_2019_0000000082\n",
      "fpx_jt_1_worlds_oct_17_2019_0000000083\n",
      "fpx_jt_1_worlds_oct_17_2019_0000000084\n",
      "fpx_jt_1_worlds_oct_17_2019_0000000085\n",
      "fpx_jt_1_worlds_oct_17_2019_0000000086\n",
      "fpx_jt_1_worlds_oct_17_2019_0000000087\n",
      "fpx_jt_1_worlds_oct_17_2019_0000000088\n",
      "fpx_jt_1_worlds_oct_17_2019_0000000089\n",
      "fpx_jt_1_worlds_oct_17_2019_0000000090\n",
      "fpx_jt_1_worlds_oct_17_2019_0000000091\n",
      "fpx_jt_1_worlds_oct_17_2019_0000000092\n",
      "fpx_jt_1_worlds_oct_17_2019_0000000093\n",
      "fpx_jt_1_worlds_oct_17_2019_0000000094\n",
      "fpx_jt_1_worlds_oct_17_2019_0000000095\n",
      "fpx_jt_1_worlds_oct_17_2019_0000000096\n",
      "fpx_jt_1_worlds_oct_17_2019_0000000097\n",
      "fpx_jt_1_worlds_oct_17_2019_0000000098\n",
      "fpx_jt_1_worlds_oct_17_2019_0000000099\n",
      "fpx_jt_1_worlds_oct_17_2019_0000000100\n",
      "fpx_jt_1_worlds_oct_17_2019_0000000101\n",
      "fpx_jt_1_worlds_oct_17_2019_0000000102\n",
      "fpx_jt_1_worlds_oct_17_2019_0000000103\n",
      "fpx_jt_1_worlds_oct_17_2019_0000000104\n",
      "fpx_jt_1_worlds_oct_17_2019_0000000105\n",
      "fpx_jt_1_worlds_oct_17_2019_0000000106\n",
      "fpx_jt_1_worlds_oct_17_2019_0000000107\n",
      "fpx_jt_1_worlds_oct_17_2019_0000000108\n",
      "fpx_jt_1_worlds_oct_17_2019_0000000109\n",
      "fpx_jt_1_worlds_oct_17_2019_0000000110\n",
      "fpx_jt_1_worlds_oct_17_2019_0000000111\n",
      "fpx_jt_1_worlds_oct_17_2019_0000000112\n",
      "fpx_jt_1_worlds_oct_17_2019_0000000113\n",
      "fpx_jt_1_worlds_oct_17_2019_0000000114\n",
      "fpx_jt_1_worlds_oct_17_2019_0000000115\n",
      "fpx_jt_1_worlds_oct_17_2019_0000000116\n",
      "fpx_jt_1_worlds_oct_17_2019_0000000117\n",
      "fpx_jt_1_worlds_oct_17_2019_0000000118\n",
      "fpx_jt_1_worlds_oct_17_2019_0000000119\n",
      "fpx_jt_1_worlds_oct_17_2019_0000000120\n",
      "fpx_jt_1_worlds_oct_17_2019_0000000121\n",
      "fpx_jt_1_worlds_oct_17_2019_0000000122\n",
      "fpx_jt_1_worlds_oct_17_2019_0000000123\n",
      "fpx_jt_1_worlds_oct_17_2019_0000000124\n",
      "fpx_jt_1_worlds_oct_17_2019_0000000125\n",
      "fpx_jt_1_worlds_oct_17_2019_0000000126\n",
      "fpx_jt_1_worlds_oct_17_2019_0000000127\n",
      "fpx_jt_1_worlds_oct_17_2019_0000000128\n",
      "fpx_jt_1_worlds_oct_17_2019_0000000129\n",
      "fpx_jt_1_worlds_oct_17_2019_0000000130\n",
      "fpx_jt_1_worlds_oct_17_2019_0000000131\n",
      "fpx_jt_1_worlds_oct_17_2019_0000000132\n",
      "fpx_jt_1_worlds_oct_17_2019_0000000133\n",
      "fpx_jt_1_worlds_oct_17_2019_0000000134\n",
      "fpx_jt_1_worlds_oct_17_2019_0000000135\n",
      "fpx_jt_1_worlds_oct_17_2019_0000000136\n",
      "fpx_jt_1_worlds_oct_17_2019_0000000137\n",
      "fpx_jt_1_worlds_oct_17_2019_0000000138\n",
      "fpx_jt_1_worlds_oct_17_2019_0000000139\n",
      "fpx_jt_1_worlds_oct_17_2019_0000000140\n",
      "fpx_jt_1_worlds_oct_17_2019_0000000141\n",
      "fpx_jt_1_worlds_oct_17_2019_0000000142\n"
     ]
    },
    {
     "name": "stdout",
     "output_type": "stream",
     "text": [
      "\n"
     ]
    }
   ],
   "source": [
    "games_dir = \"games/\"\n",
    "game_names = os.listdir(games_dir)\n",
    "for game in tqdm_notebook(game_names):\n",
    "    game_dir = f\"{games_dir}{game}/team\"    \n",
    "    images = os.listdir(game_dir)\n",
    "    images.sort()\n",
    "    for i in range(20, len(images)): \n",
    "        image_names = [images[i]]*15\n",
    "        if i >= 15:\n",
    "            image_names = images[i-15:i]\n",
    "        try:\n",
    "            image_names = [im.replace(\".png\", \"\") for im in image_names]\n",
    "            previous_positions = [image_tags[im] for im in image_names]\n",
    "            img = PIL.Image.open(f\"{collected_dir}/team/{image_names[-1]}.png\").convert(\"RGBA\")\n",
    "            res = create_composite(previous_positions, img)\n",
    "            res.save(f\"{collected_dir}/composite/{image_names[-1]}.png\")\n",
    "        except:\n",
    "            print(image_names[-1])"
   ]
  },
  {
   "cell_type": "code",
   "execution_count": null,
   "metadata": {},
   "outputs": [],
   "source": []
  }
 ],
 "metadata": {
  "kernelspec": {
   "display_name": "Python 3",
   "language": "python",
   "name": "python3"
  },
  "language_info": {
   "codemirror_mode": {
    "name": "ipython",
    "version": 3
   },
   "file_extension": ".py",
   "mimetype": "text/x-python",
   "name": "python",
   "nbconvert_exporter": "python",
   "pygments_lexer": "ipython3",
   "version": "3.7.5"
  },
  "toc": {
   "base_numbering": 1,
   "nav_menu": {},
   "number_sections": true,
   "sideBar": true,
   "skip_h1_title": false,
   "title_cell": "Table of Contents",
   "title_sidebar": "Contents",
   "toc_cell": false,
   "toc_position": {
    "height": "calc(100% - 180px)",
    "left": "10px",
    "top": "150px",
    "width": "370.6px"
   },
   "toc_section_display": true,
   "toc_window_display": true
  }
 },
 "nbformat": 4,
 "nbformat_minor": 1
}
