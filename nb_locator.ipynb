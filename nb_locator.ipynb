{
 "cells": [
  {
   "cell_type": "code",
   "execution_count": 4,
   "metadata": {
    "_cell_guid": "b1076dfc-b9ad-4769-8c92-a6c4dae69d19",
    "_uuid": "8f2839f25d086af736a60e9eeb907d3b93b6e0e5"
   },
   "outputs": [],
   "source": [
    "import tqdm\n",
    "from PIL import ImageDraw\n",
    "import PIL\n",
    "import os\n",
    "from shutil import copyfile, rmtree\n",
    "from IPython.display import Image \n",
    "\n",
    "import fastai\n",
    "from fastai.vision import *\n",
    "from fastai.callbacks import *\n",
    "from fastai.utils.mem import *\n",
    "\n",
    "from torchvision.models import vgg16_bn\n",
    "\n",
    "import matplotlib.pyplot as plt\n",
    "import matplotlib.image as mpimg\n",
    "from matplotlib.pyplot import imshow\n",
    "import random\n",
    "from shutil import copyfile\n",
    "\n",
    "import warnings\n",
    "warnings.simplefilter('ignore')\n",
    "\n",
    "\n",
    "%matplotlib inline"
   ]
  },
  {
   "cell_type": "code",
   "execution_count": 2,
   "metadata": {},
   "outputs": [],
   "source": [
    "data_dir = \"./locator\""
   ]
  },
  {
   "cell_type": "code",
   "execution_count": 3,
   "metadata": {},
   "outputs": [
    {
     "data": {
      "text/plain": [
       "0"
      ]
     },
     "execution_count": 3,
     "metadata": {},
     "output_type": "execute_result"
    }
   ],
   "source": [
    "torch.cuda.current_device()"
   ]
  },
  {
   "cell_type": "markdown",
   "metadata": {},
   "source": [
    "# Validation & Training Sets"
   ]
  },
  {
   "cell_type": "markdown",
   "metadata": {},
   "source": [
    "Move images from the src directories into the train/validation directories"
   ]
  },
  {
   "cell_type": "markdown",
   "metadata": {},
   "source": [
    "## Setup Terrain Data"
   ]
  },
  {
   "cell_type": "code",
   "execution_count": 4,
   "metadata": {},
   "outputs": [
    {
     "name": "stdout",
     "output_type": "stream",
     "text": [
      "Training terrain: 7149\n",
      "Validation terrain: 1400\n",
      "Total terrain: 8549\n"
     ]
    }
   ],
   "source": [
    "src_terrain = \"./locator/data/terrain-verified/\"\n",
    "review_terrain = \"./locator/data/review/terrain/\"\n",
    "dst_terrain_train = \"./locator/data/train/terrain/\"\n",
    "dst_terrain_valid = \"./locator/data/valid/terrain/\"\n",
    "\n",
    "for f in os.listdir(dst_terrain_train):\n",
    "    os.remove(dst_terrain_train+f)\n",
    "for f in os.listdir(dst_terrain_valid):\n",
    "    os.remove(dst_terrain_valid+f)\n",
    "    \n",
    "for f in os.listdir(src_terrain):\n",
    "    if random.randint(0,5) >= 1:\n",
    "        shutil.copy(src_terrain+f, dst_terrain_train+f)\n",
    "    else:\n",
    "        shutil.copy(src_terrain+f, dst_terrain_valid+f)\n",
    "\n",
    "for f in os.listdir(review_terrain):\n",
    "    if not \".png\" in f:\n",
    "        continue\n",
    "    if random.randint(0,5) >= 1:\n",
    "        shutil.copy(review_terrain+f, dst_terrain_train+f)\n",
    "    else:\n",
    "        shutil.copy(review_terrain+f, dst_terrain_valid+f)\n",
    "\n",
    "\n",
    "      \n",
    "train_num = len(os.listdir(dst_terrain_train))\n",
    "print(\"Training terrain: \"+str(train_num))\n",
    "valid_num = len(os.listdir(dst_terrain_valid))\n",
    "print(\"Validation terrain: \"+str(valid_num))\n",
    "valid_num = len(os.listdir(dst_terrain_valid))\n",
    "print(\"Total terrain: \"+str(valid_num+train_num))"
   ]
  },
  {
   "cell_type": "markdown",
   "metadata": {},
   "source": [
    "## Setup Player Data"
   ]
  },
  {
   "cell_type": "code",
   "execution_count": 5,
   "metadata": {},
   "outputs": [
    {
     "name": "stdout",
     "output_type": "stream",
     "text": [
      "Training player: 1104\n",
      "Validation player: 229\n",
      "Total player: 1333\n"
     ]
    }
   ],
   "source": [
    "src_player = \"./locator/data/player-verified/\"\n",
    "review_player = \"./locator/data/review/player/\"\n",
    "dst_player_train = \"./locator/data/train/player/\"\n",
    "dst_player_valid = \"./locator/data/valid/player/\"\n",
    "\n",
    "for f in os.listdir(dst_player_train):\n",
    "    os.remove(dst_player_train+f)\n",
    "for f in os.listdir(dst_player_valid):\n",
    "    os.remove(dst_player_valid+f)\n",
    "    \n",
    "for f in os.listdir(src_player):\n",
    "    if random.randint(0,5) >= 1:\n",
    "        shutil.copy(src_player+f, dst_player_train+f)\n",
    "    else:\n",
    "        shutil.copy(src_player+f, dst_player_valid+f)\n",
    "        \n",
    "for f in os.listdir(review_player):\n",
    "    if not \".png\" in f:\n",
    "        continue\n",
    "    if random.randint(0,5) >= 1:\n",
    "        shutil.copy(review_player+f, dst_player_train+f)\n",
    "    else:\n",
    "        shutil.copy(review_player+f, dst_player_valid+f)\n",
    "\n",
    "\n",
    "train_num = len(os.listdir(dst_player_train))\n",
    "print(\"Training player: \"+str(train_num))\n",
    "valid_num = len(os.listdir(dst_player_valid))\n",
    "print(\"Validation player: \"+str(valid_num))\n",
    "valid_num = len(os.listdir(dst_player_valid))\n",
    "print(\"Total player: \"+str(valid_num+train_num))"
   ]
  },
  {
   "cell_type": "markdown",
   "metadata": {},
   "source": [
    "# Create Data Batch"
   ]
  },
  {
   "cell_type": "markdown",
   "metadata": {},
   "source": [
    "Collect the 30x30 images which were split from in-game mini-maps. The model predicts if a player is present in the center 10x10 pixels, the extra image around the center 10x10 gives more context for the model's prediction. "
   ]
  },
  {
   "cell_type": "code",
   "execution_count": 6,
   "metadata": {},
   "outputs": [
    {
     "data": {
      "image/png": "[encoded data removed]",
      "text/plain": [
       "<Figure size 288x288 with 1 Axes>"
      ]
     },
     "metadata": {
      "needs_background": "light"
     },
     "output_type": "display_data"
    }
   ],
   "source": [
    "tfms = get_transforms(max_rotate=45, max_zoom=1.1, max_warp=None)\n",
    "data = ImageDataBunch.from_folder(\n",
    "    data_dir+\"/data\", classes=[\"player\", \"terrain\"], bs=64, ds_tfms=tfms)\n",
    "data.show_batch(1)"
   ]
  },
  {
   "cell_type": "markdown",
   "metadata": {},
   "source": [
    "# Train the Model"
   ]
  },
  {
   "cell_type": "markdown",
   "metadata": {},
   "source": [
    "We train several models, and keep the one with the highest performance. It is still unknown why some models are better, but one explanation from the fastai course may be the initialization of parameters."
   ]
  },
  {
   "cell_type": "markdown",
   "metadata": {},
   "source": [
    "## Model Training"
   ]
  },
  {
   "cell_type": "code",
   "execution_count": 8,
   "metadata": {},
   "outputs": [
    {
     "data": {
      "text/html": [
       "<table border=\"1\" class=\"dataframe\">\n",
       "  <thead>\n",
       "    <tr style=\"text-align: left;\">\n",
       "      <th>epoch</th>\n",
       "      <th>train_loss</th>\n",
       "      <th>valid_loss</th>\n",
       "      <th>accuracy</th>\n",
       "      <th>time</th>\n",
       "    </tr>\n",
       "  </thead>\n",
       "  <tbody>\n",
       "    <tr>\n",
       "      <td>0</td>\n",
       "      <td>0.345018</td>\n",
       "      <td>0.192191</td>\n",
       "      <td>0.919583</td>\n",
       "      <td>00:03</td>\n",
       "    </tr>\n",
       "  </tbody>\n",
       "</table>"
      ],
      "text/plain": [
       "<IPython.core.display.HTML object>"
      ]
     },
     "metadata": {},
     "output_type": "display_data"
    },
    {
     "name": "stdout",
     "output_type": "stream",
     "text": [
      "Better model found at epoch 0 with valid_loss value: 0.19219090044498444.\n"
     ]
    },
    {
     "data": {
      "text/html": [
       "<table border=\"1\" class=\"dataframe\">\n",
       "  <thead>\n",
       "    <tr style=\"text-align: left;\">\n",
       "      <th>epoch</th>\n",
       "      <th>train_loss</th>\n",
       "      <th>valid_loss</th>\n",
       "      <th>accuracy</th>\n",
       "      <th>time</th>\n",
       "    </tr>\n",
       "  </thead>\n",
       "  <tbody>\n",
       "    <tr>\n",
       "      <td>0</td>\n",
       "      <td>0.220880</td>\n",
       "      <td>0.182861</td>\n",
       "      <td>0.925107</td>\n",
       "      <td>00:04</td>\n",
       "    </tr>\n",
       "    <tr>\n",
       "      <td>1</td>\n",
       "      <td>0.206663</td>\n",
       "      <td>0.177058</td>\n",
       "      <td>0.926949</td>\n",
       "      <td>00:04</td>\n",
       "    </tr>\n",
       "    <tr>\n",
       "      <td>2</td>\n",
       "      <td>0.189958</td>\n",
       "      <td>0.169204</td>\n",
       "      <td>0.931246</td>\n",
       "      <td>00:04</td>\n",
       "    </tr>\n",
       "    <tr>\n",
       "      <td>3</td>\n",
       "      <td>0.193401</td>\n",
       "      <td>0.181690</td>\n",
       "      <td>0.925721</td>\n",
       "      <td>00:04</td>\n",
       "    </tr>\n",
       "    <tr>\n",
       "      <td>4</td>\n",
       "      <td>0.175694</td>\n",
       "      <td>0.155995</td>\n",
       "      <td>0.932474</td>\n",
       "      <td>00:04</td>\n",
       "    </tr>\n",
       "    <tr>\n",
       "      <td>5</td>\n",
       "      <td>0.154059</td>\n",
       "      <td>0.159636</td>\n",
       "      <td>0.930632</td>\n",
       "      <td>00:04</td>\n",
       "    </tr>\n",
       "    <tr>\n",
       "      <td>6</td>\n",
       "      <td>0.146907</td>\n",
       "      <td>0.161171</td>\n",
       "      <td>0.934929</td>\n",
       "      <td>00:04</td>\n",
       "    </tr>\n",
       "    <tr>\n",
       "      <td>7</td>\n",
       "      <td>0.137798</td>\n",
       "      <td>0.134312</td>\n",
       "      <td>0.951504</td>\n",
       "      <td>00:04</td>\n",
       "    </tr>\n",
       "    <tr>\n",
       "      <td>8</td>\n",
       "      <td>0.130778</td>\n",
       "      <td>0.141772</td>\n",
       "      <td>0.946593</td>\n",
       "      <td>00:04</td>\n",
       "    </tr>\n",
       "    <tr>\n",
       "      <td>9</td>\n",
       "      <td>0.119716</td>\n",
       "      <td>0.132027</td>\n",
       "      <td>0.950890</td>\n",
       "      <td>00:04</td>\n",
       "    </tr>\n",
       "    <tr>\n",
       "      <td>10</td>\n",
       "      <td>0.115489</td>\n",
       "      <td>0.126910</td>\n",
       "      <td>0.953959</td>\n",
       "      <td>00:04</td>\n",
       "    </tr>\n",
       "    <tr>\n",
       "      <td>11</td>\n",
       "      <td>0.116925</td>\n",
       "      <td>0.121409</td>\n",
       "      <td>0.953959</td>\n",
       "      <td>00:04</td>\n",
       "    </tr>\n",
       "    <tr>\n",
       "      <td>12</td>\n",
       "      <td>0.110950</td>\n",
       "      <td>0.123751</td>\n",
       "      <td>0.953959</td>\n",
       "      <td>00:04</td>\n",
       "    </tr>\n",
       "    <tr>\n",
       "      <td>13</td>\n",
       "      <td>0.106434</td>\n",
       "      <td>0.119922</td>\n",
       "      <td>0.954573</td>\n",
       "      <td>00:04</td>\n",
       "    </tr>\n",
       "    <tr>\n",
       "      <td>14</td>\n",
       "      <td>0.093140</td>\n",
       "      <td>0.122589</td>\n",
       "      <td>0.953959</td>\n",
       "      <td>00:04</td>\n",
       "    </tr>\n",
       "  </tbody>\n",
       "</table>"
      ],
      "text/plain": [
       "<IPython.core.display.HTML object>"
      ]
     },
     "metadata": {},
     "output_type": "display_data"
    },
    {
     "name": "stdout",
     "output_type": "stream",
     "text": [
      "Better model found at epoch 0 with valid_loss value: 0.18286146223545074.\n",
      "Better model found at epoch 1 with valid_loss value: 0.17705826461315155.\n",
      "Better model found at epoch 2 with valid_loss value: 0.16920411586761475.\n",
      "Better model found at epoch 4 with valid_loss value: 0.1559949815273285.\n",
      "Better model found at epoch 7 with valid_loss value: 0.13431160151958466.\n",
      "Better model found at epoch 9 with valid_loss value: 0.13202744722366333.\n",
      "Better model found at epoch 10 with valid_loss value: 0.12690967321395874.\n",
      "Better model found at epoch 11 with valid_loss value: 0.12140900641679764.\n",
      "Better model found at epoch 13 with valid_loss value: 0.11992233246564865.\n"
     ]
    }
   ],
   "source": [
    "lr = 0.02\n",
    "\n",
    "learn = create_cnn(data, models.resnet18, metrics=[accuracy])\n",
    "gc.collect()\n",
    "learn.callbacks = [SaveModelCallback(\n",
    "    learn, every='improvement', mode='min', name='best')]\n",
    "learn.fit_one_cycle(1, lr)\n",
    "learn.unfreeze()\n",
    "learn.fit_one_cycle(15, slice(1e-6, lr/5))"
   ]
  },
  {
   "cell_type": "markdown",
   "metadata": {},
   "source": [
    "best loss: 9.7"
   ]
  },
  {
   "cell_type": "markdown",
   "metadata": {},
   "source": [
    "## Full Minimap Test"
   ]
  },
  {
   "cell_type": "markdown",
   "metadata": {},
   "source": [
    "Display the model's predictions for an entire minimap."
   ]
  },
  {
   "cell_type": "code",
   "execution_count": 2,
   "metadata": {},
   "outputs": [],
   "source": [
    "grid_size = 5\n",
    "\n",
    "def empty_dir(folder):\n",
    "    for the_file in os.listdir(folder):\n",
    "        file_path = os.path.join(folder, the_file)\n",
    "        try:\n",
    "            if os.path.isfile(file_path):\n",
    "                os.unlink(file_path)\n",
    "        except Exception as e:\n",
    "            print(e)\n",
    "\n",
    "\n",
    "def draw_grid(draw, labels):\n",
    "    fill = (0, 255, 255, 96)\n",
    "    for l in labels:\n",
    "        x = l[0] * grid_size\n",
    "        y = l[1] * grid_size\n",
    "        if l[2] == \"terrain\":\n",
    "            continue\n",
    "        draw.rectangle((x, y, x + grid_size, y + grid_size), fill=fill)\n",
    "\n",
    "\n",
    "def draw_preds(filename, grids):\n",
    "    img = PIL.Image.open(filename)\n",
    "\n",
    "    overlay = PIL.Image.new('RGBA', img.size, (255, 255, 255, 0))\n",
    "    draw = ImageDraw.Draw(overlay)\n",
    "    draw_grid(draw, grids)\n",
    "    out = PIL.Image.alpha_composite(img, overlay)\n",
    "    fig, ax = plt.subplots(1,2)\n",
    "    ax[0].imshow(img);\n",
    "    ax[1].imshow(out);\n",
    "#     imshow(np.asarray(out))\n",
    "\n",
    "\n",
    "def get_predictions(learner, predictions):\n",
    "    # Predict the grid image types\n",
    "    tmp_dir = data_dir + \"/tmp\"\n",
    "    test = ImageList.from_folder(tmp_dir)\n",
    "    learner.data.add_test(test)\n",
    "    preds = learner.get_preds(ds_type=DatasetType.Test)\n",
    "    num_preds = len(preds)\n",
    "    z = 0\n",
    "\n",
    "    # Identify the grids which are player squares\n",
    "    for i in range(len(preds[0])):\n",
    "        max_index = 0\n",
    "        max_score = 0\n",
    "        for p in range(len(preds[0][i])):\n",
    "            if preds[0][i][p] > max_score:\n",
    "                max_index = p\n",
    "                max_score = preds[0][i][p]\n",
    "                \n",
    "        category = str(learn.data.classes[max_index])\n",
    "        if category == \"terrain\":\n",
    "            continue\n",
    "        img = test.items[i]\n",
    "        fname = img.stem\n",
    "        num = int(fname.split(\"-\")[1])\n",
    "        name = fname.split(\"-\")[0]\n",
    "        x = num//1000\n",
    "        y = num % 1000\n",
    "        predictions[name].append((x, y, category))\n",
    "\n",
    "    empty_dir(tmp_dir)\n",
    "    return predictions\n",
    "\n",
    "\n",
    "def get_grids(learner, filenames):\n",
    "    num_files = len(filenames)\n",
    "    predictions = {}\n",
    "    # Split the image into grids and save the components to the tmp directory.\n",
    "    tmp_dir = data_dir+\"/tmp\"\n",
    "    empty_dir(tmp_dir)\n",
    "    numfiles = len(filenames)\n",
    "    for l in range(numfiles):\n",
    "        f = filenames[l]\n",
    "        if not \".png\" in f:\n",
    "            continue\n",
    "        im = PIL.Image.open(f)\n",
    "        imgwidth, imgheight = im.size\n",
    "        base = os.path.basename(f)\n",
    "        fname = os.path.splitext(base)[0]\n",
    "        predictions[fname] = []\n",
    "        for i in range(0, imgheight, grid_size):\n",
    "            for j in range(0, imgwidth, grid_size):\n",
    "                box = (j-14, i-14, j + 16, i + 16)\n",
    "                a = im.crop(box)\n",
    "                a.save(data_dir+f\"/tmp/{fname}-{j*1000//grid_size+i//grid_size}.png\")\n",
    "\n",
    "    predictions = get_predictions(learner, predictions)\n",
    "\n",
    "    return predictions"
   ]
  },
  {
   "cell_type": "code",
   "execution_count": 10,
   "metadata": {},
   "outputs": [],
   "source": [
    "i = 0"
   ]
  },
  {
   "cell_type": "code",
   "execution_count": 13,
   "metadata": {},
   "outputs": [
    {
     "data": {
      "text/html": [],
      "text/plain": [
       "<IPython.core.display.HTML object>"
      ]
     },
     "metadata": {},
     "output_type": "display_data"
    },
    {
     "data": {
      "image/png": "[encoded data removed]",
      "text/plain": [
       "<Figure size 432x288 with 2 Axes>"
      ]
     },
     "metadata": {
      "needs_background": "light"
     },
     "output_type": "display_data"
    }
   ],
   "source": [
    "i += 50\n",
    "s = str(i)\n",
    "s = \"0\"*(3-len(s)) + s\n",
    "filenames = [\n",
    "    f\"games/hka_lk_worlds_2019/full/hka_lk_worlds_2019_0000000{s}.png\"]\n",
    "grids = get_grids(learn, filenames)\n",
    "base = os.path.basename(filenames[0])\n",
    "fname = os.path.splitext(base)[0]\n",
    "draw_preds(filenames[0], grids[fname])"
   ]
  },
  {
   "cell_type": "code",
   "execution_count": 14,
   "metadata": {},
   "outputs": [],
   "source": [
    "model_path = 'models/'\n",
    "learn.export(model_path+\"locator.pth\")"
   ]
  },
  {
   "cell_type": "markdown",
   "metadata": {},
   "source": [
    "## Create Full Map Coordinates"
   ]
  },
  {
   "cell_type": "markdown",
   "metadata": {},
   "source": [
    "Use the model we trained to predict the coordinates of each player in the maps. This csv will be used as the target in the final map prediction model."
   ]
  },
  {
   "cell_type": "code",
   "execution_count": 27,
   "metadata": {},
   "outputs": [],
   "source": [
    "def predict_positions(subdir):\n",
    "    z = 0\n",
    "    for game in os.listdir(\"./games\"):\n",
    "        z += 1\n",
    "        try:\n",
    "            game_dir = f\"./games/{game}/{subdir}\"\n",
    "            maps = os.listdir(game_dir)\n",
    "        except:\n",
    "            print(game + \"is not a game directory\")\n",
    "            continue\n",
    "        \n",
    "        if f\"{subdir}_{game}.csv\" in maps:\n",
    "            print(str(z) + game + \" positions already detected\")\n",
    "            continue\n",
    "        print(str(z) + game + \" detecting positions\")\n",
    "        maps = [m for m in maps if \".png\" in m]\n",
    "        maps = [f\"{game_dir}/{m}\" for m in maps]\n",
    "        if len(maps) < 200:\n",
    "                print(game + \"is not a game directory\")\n",
    "                continue\n",
    "        \n",
    "        grids = get_grids(learn, maps)\n",
    "\n",
    "        fnames = []\n",
    "        tags = []\n",
    "        for k, v in grids.items():\n",
    "            v = [f\"{g[0]};{g[1]};{g[2]}\" for g in v]\n",
    "            v.sort()\n",
    "            v = \" \".join(v)\n",
    "            fnames.append(k)\n",
    "            tags.append(v)\n",
    "\n",
    "        df = pd.DataFrame({'image_name': fnames, 'tags': tags},\n",
    "                          columns=['image_name', 'tags'])\n",
    "        convert_dict = {'image_name': str, 'tags': str}\n",
    "        df = df.astype(convert_dict)\n",
    "        df.replace('', np.nan, inplace=True) # Remove the mini-maps with no players.\n",
    "        df.dropna(subset=['tags'], inplace=True)\n",
    "        df.to_csv(f\"{game_dir}/{subdir}_{game}.csv\", index=False)\n",
    "    "
   ]
  },
  {
   "cell_type": "code",
   "execution_count": 28,
   "metadata": {},
   "outputs": [
    {
     "name": "stdout",
     "output_type": "stream",
     "text": [
      "1ahq_ig_1_worlds_oct_12_2019 positions already detected\n",
      "2lec_2020_og_so4 positions already detected\n",
      "3c9_hka_1_worlds_oct_13_2019 positions already detected\n",
      "4gam_spy_1_worlds_oct_12_2019 positions already detected\n",
      "5ahq_dwg_1_worlds_oct_13_2019 positions already detected\n",
      "6ig_tl_1_worlds_oct_12_2019 positions already detected\n",
      "7c9_grf_1_worlds_oct_15_2019 positions already detected\n",
      "8lec_2020_mad_vit detecting positions\n"
     ]
    },
    {
     "data": {
      "text/html": [],
      "text/plain": [
       "<IPython.core.display.HTML object>"
      ]
     },
     "metadata": {},
     "output_type": "display_data"
    },
    {
     "name": "stdout",
     "output_type": "stream",
     "text": [
      "9g2_hka_1_worlds_oct_18_2019 positions already detected\n",
      "10dfm_spy_worlds_2019 positions already detected\n",
      "11hka_isg_3_2019 detecting positions\n"
     ]
    },
    {
     "data": {
      "text/html": [],
      "text/plain": [
       "<IPython.core.display.HTML object>"
      ]
     },
     "metadata": {},
     "output_type": "display_data"
    },
    {
     "name": "stdout",
     "output_type": "stream",
     "text": [
      "12rng_skt_1_worlds_oct_13_2019 positions already detected\n",
      "13mmm_uol_worlds_2019 positions already detected\n",
      "14lec_2020_g2_vit detecting positions\n"
     ]
    },
    {
     "data": {
      "text/html": [],
      "text/plain": [
       "<IPython.core.display.HTML object>"
      ]
     },
     "metadata": {},
     "output_type": "display_data"
    },
    {
     "name": "stdout",
     "output_type": "stream",
     "text": [
      "15grf_hka_1_worlds_oct_18_2019 positions already detected\n",
      "16fla_ryl_worlds_2019 positions already detected\n",
      "17lec_2020_vit_sk detecting positions\n"
     ]
    },
    {
     "data": {
      "text/html": [],
      "text/plain": [
       "<IPython.core.display.HTML object>"
      ]
     },
     "metadata": {},
     "output_type": "display_data"
    },
    {
     "name": "stdout",
     "output_type": "stream",
     "text": [
      "18ahq_dwg_1_worlds_oct_20_2019 positions already detected\n",
      "19fpx_jt_1_worlds_oct_12_2019 positions already detected\n",
      "20fnc_skt_2_worlds_oct_19_2019 positions already detected\n",
      "21hka_isg_1_2019 detecting positions\n"
     ]
    },
    {
     "data": {
      "text/html": [],
      "text/plain": [
       "<IPython.core.display.HTML object>"
      ]
     },
     "metadata": {},
     "output_type": "display_data"
    },
    {
     "name": "stdout",
     "output_type": "stream",
     "text": [
      "22lk_mg_2_worlds_2019 positions already detected\n",
      "23lec_2020_fnc_msf detecting positions\n"
     ]
    },
    {
     "data": {
      "text/html": [],
      "text/plain": [
       "<IPython.core.display.HTML object>"
      ]
     },
     "metadata": {},
     "output_type": "display_data"
    },
    {
     "name": "stdout",
     "output_type": "stream",
     "text": [
      "24dwg_ryl_worlds_2019 positions already detected\n",
      "25c9_hka_1_worlds_oct_18_2019 positions already detected\n",
      "26hka_lk_2_worlds_2019 positions already detected\n",
      "27ahq_ig_1_worlds_oct_20_2019 positions already detected\n",
      "28lk_mg_worlds_2019 positions already detected\n",
      "29hka_lk_worlds_2019 positions already detected\n",
      "30dwg_tl_1_worlds_oct_20_2019 positions already detected\n",
      "31cg_skt_1_worlds_oct_19_2019 positions already detected\n",
      "32lec_2020_mad_xl detecting positions\n"
     ]
    },
    {
     "data": {
      "text/html": [],
      "text/plain": [
       "<IPython.core.display.HTML object>"
      ]
     },
     "metadata": {},
     "output_type": "display_data"
    },
    {
     "name": "stdout",
     "output_type": "stream",
     "text": [
      "33fpx_gam_1_worlds_oct_15_2019 positions already detected\n",
      "34dwg_lk_worlds_2019 positions already detected\n",
      "35lec_2020_msf_reg detecting positions\n"
     ]
    },
    {
     "data": {
      "text/html": [],
      "text/plain": [
       "<IPython.core.display.HTML object>"
      ]
     },
     "metadata": {},
     "output_type": "display_data"
    },
    {
     "name": "stdout",
     "output_type": "stream",
     "text": [
      "36spy_uol_3_2019 detecting positions\n"
     ]
    },
    {
     "data": {
      "text/html": [],
      "text/plain": [
       "<IPython.core.display.HTML object>"
      ]
     },
     "metadata": {},
     "output_type": "display_data"
    },
    {
     "name": "stdout",
     "output_type": "stream",
     "text": [
      "37jt_spy_1_worlds_oct_15_2019 positions already detected\n",
      "38lec_2020_g2_sk detecting positions\n"
     ]
    },
    {
     "data": {
      "text/html": [],
      "text/plain": [
       "<IPython.core.display.HTML object>"
      ]
     },
     "metadata": {},
     "output_type": "display_data"
    },
    {
     "name": "stdout",
     "output_type": "stream",
     "text": [
      "39ahq_tl_1_worlds_oct_20_2019 positions already detected\n",
      "40lec_2020_so4_xl detecting positions\n"
     ]
    },
    {
     "data": {
      "text/html": [],
      "text/plain": [
       "<IPython.core.display.HTML object>"
      ]
     },
     "metadata": {},
     "output_type": "display_data"
    },
    {
     "name": "stdout",
     "output_type": "stream",
     "text": [
      "41spy_uol_2_2019 detecting positions\n"
     ]
    },
    {
     "data": {
      "text/html": [],
      "text/plain": [
       "<IPython.core.display.HTML object>"
      ]
     },
     "metadata": {},
     "output_type": "display_data"
    },
    {
     "name": "stdout",
     "output_type": "stream",
     "text": [
      "42spy_uol_6_2019 detecting positions\n"
     ]
    },
    {
     "data": {
      "text/html": [],
      "text/plain": [
       "<IPython.core.display.HTML object>"
      ]
     },
     "metadata": {},
     "output_type": "display_data"
    },
    {
     "name": "stdout",
     "output_type": "stream",
     "text": [
      "43cg_ryl_3_worlds_2019 positions already detected\n",
      "44fnc_skt_1_worlds_oct_19_2019 positions already detected\n",
      "45hka_isg_4_2019 detecting positions\n"
     ]
    },
    {
     "data": {
      "text/html": [],
      "text/plain": [
       "<IPython.core.display.HTML object>"
      ]
     },
     "metadata": {},
     "output_type": "display_data"
    },
    {
     "name": "stdout",
     "output_type": "stream",
     "text": [
      "46ig_tl_1_worlds_oct_20_2019 positions already detected\n",
      "47g2_grf_2_worlds_oct_18_2019 positions already detected\n",
      "48cg_fnc_1_worlds_oct_13_2019 positions already detected\n",
      "49fnc_rng_1_worlds_oct_13_2019 positions already detected\n",
      "50dwg_fla_worlds_2019 positions already detected\n",
      "51cg_fnc_2_worlds_oct_19_2019 positions already detected\n",
      "52lec_2020_fnc_og detecting positions\n"
     ]
    },
    {
     "data": {
      "text/html": [],
      "text/plain": [
       "<IPython.core.display.HTML object>"
      ]
     },
     "metadata": {},
     "output_type": "display_data"
    },
    {
     "name": "stdout",
     "output_type": "stream",
     "text": [
      "53fla_ryl_3_worlds_2019 positions already detected\n",
      "54fla_ryl_2_worlds_2019 positions already detected\n",
      "55lec_2020_msf_sk detecting positions\n"
     ]
    },
    {
     "data": {
      "text/html": [],
      "text/plain": [
       "<IPython.core.display.HTML object>"
      ]
     },
     "metadata": {},
     "output_type": "display_data"
    },
    {
     "name": "stdout",
     "output_type": "stream",
     "text": [
      "56jt_spy_1_worlds_oct_17_2019 positions already detected\n",
      "57lec_2020_g2_mad detecting positions\n"
     ]
    },
    {
     "data": {
      "text/html": [],
      "text/plain": [
       "<IPython.core.display.HTML object>"
      ]
     },
     "metadata": {},
     "output_type": "display_data"
    },
    {
     "name": "stdout",
     "output_type": "stream",
     "text": [
      "58fpx_gam_1_worlds_oct_17_2019 positions already detected\n",
      "59dwg_lk_4_worlds_2019 positions already detected\n",
      "60c9_grf_1_worlds_oct_18_2019 positions already detected\n",
      "61fpx_spy_1_worlds_oct_17_2019 positions already detected\n",
      "62dwg_tl_1_worlds_oct_12_2019 positions already detected\n",
      "63cg_ryl_1_worlds_2019 positions already detected\n",
      "64gam_spy_1_worlds_oct_17_2019 positions already detected\n",
      "65rng_skt_2_worlds_oct_19_2019 positions already detected\n",
      "66cg_ryl_2_worlds_2019 positions already detected\n",
      "67spy_uol_5_2019 detecting positions\n"
     ]
    },
    {
     "data": {
      "text/html": [],
      "text/plain": [
       "<IPython.core.display.HTML object>"
      ]
     },
     "metadata": {},
     "output_type": "display_data"
    },
    {
     "name": "stdout",
     "output_type": "stream",
     "text": [
      "68fnc_skt_1_worlds_oct_12_2019 positions already detected\n",
      "69cg_rng_1_worlds_oct_19_2019 positions already detected\n",
      "70dwg_ig_1_worlds_oct_20_2019 positions already detected\n",
      "71spy_fpx_1_worlds_oct_17_2019 positions already detected\n",
      "72cg_mmm_worlds_2019 positions already detected\n",
      "73hka_isg_2_2019 detecting positions\n"
     ]
    },
    {
     "data": {
      "text/html": [],
      "text/plain": [
       "<IPython.core.display.HTML object>"
      ]
     },
     "metadata": {},
     "output_type": "display_data"
    },
    {
     "name": "stdout",
     "output_type": "stream",
     "text": [
      "74hka_mg_worlds_2019 positions already detected\n",
      "75dwg_lk_3_worlds_2019 positions already detected\n",
      "76cg_skt_1_worlds_oct_15_2019 positions already detected\n",
      "77spy_uol_4_2019 detecting positions\n"
     ]
    },
    {
     "data": {
      "text/html": [],
      "text/plain": [
       "<IPython.core.display.HTML object>"
      ]
     },
     "metadata": {},
     "output_type": "display_data"
    },
    {
     "name": "stdout",
     "output_type": "stream",
     "text": [
      "78dwg_lk_2_worlds_2019 positions already detected\n",
      "79isg_spy_worlds_2019 positions already detected\n",
      "80gam_jt_1_worlds_oct_17_2019 positions already detected\n",
      "81lec_2020_rge_xl detecting positions\n"
     ]
    },
    {
     "data": {
      "text/html": [],
      "text/plain": [
       "<IPython.core.display.HTML object>"
      ]
     },
     "metadata": {},
     "output_type": "display_data"
    },
    {
     "name": "stdout",
     "output_type": "stream",
     "text": [
      "82fpx_jt_1_worlds_oct_17_2019 positions already detected\n",
      "83grf_g2_1_worlds_oct_13_2019 positions already detected\n",
      "84fnc_rng_1_worlds_oct_19_2019 positions already detected\n",
      "85g2_grf_1_worlds_oct_18_2019 positions already detected\n",
      "86c9_g2_1_worlds_oct_18_2019 positions already detected\n",
      "87cg_rng_1_worlds_oct_12_2019 positions already detected\n",
      "88cg_uol_worlds_2019 positions already detected\n",
      "89lec_2020_og_rge detecting positions\n"
     ]
    },
    {
     "data": {
      "text/html": [],
      "text/plain": [
       "<IPython.core.display.HTML object>"
      ]
     },
     "metadata": {},
     "output_type": "display_data"
    },
    {
     "name": "stdout",
     "output_type": "stream",
     "text": [
      "1ahq_ig_1_worlds_oct_12_2019 positions already detected\n",
      "2lec_2020_og_so4 positions already detected\n",
      "3c9_hka_1_worlds_oct_13_2019 positions already detected\n",
      "4gam_spy_1_worlds_oct_12_2019 positions already detected\n",
      "5ahq_dwg_1_worlds_oct_13_2019 positions already detected\n",
      "6ig_tl_1_worlds_oct_12_2019 positions already detected\n",
      "7c9_grf_1_worlds_oct_15_2019 positions already detected\n",
      "8lec_2020_mad_vit detecting positions\n"
     ]
    },
    {
     "data": {
      "text/html": [],
      "text/plain": [
       "<IPython.core.display.HTML object>"
      ]
     },
     "metadata": {},
     "output_type": "display_data"
    },
    {
     "name": "stdout",
     "output_type": "stream",
     "text": [
      "9g2_hka_1_worlds_oct_18_2019 positions already detected\n",
      "10dfm_spy_worlds_2019 positions already detected\n",
      "11hka_isg_3_2019 detecting positions\n"
     ]
    },
    {
     "data": {
      "text/html": [],
      "text/plain": [
       "<IPython.core.display.HTML object>"
      ]
     },
     "metadata": {},
     "output_type": "display_data"
    },
    {
     "name": "stdout",
     "output_type": "stream",
     "text": [
      "12rng_skt_1_worlds_oct_13_2019 positions already detected\n",
      "13mmm_uol_worlds_2019 positions already detected\n",
      "14lec_2020_g2_vit detecting positions\n"
     ]
    },
    {
     "data": {
      "text/html": [],
      "text/plain": [
       "<IPython.core.display.HTML object>"
      ]
     },
     "metadata": {},
     "output_type": "display_data"
    },
    {
     "name": "stdout",
     "output_type": "stream",
     "text": [
      "15grf_hka_1_worlds_oct_18_2019 positions already detected\n",
      "16fla_ryl_worlds_2019 positions already detected\n",
      "17lec_2020_vit_sk detecting positions\n"
     ]
    },
    {
     "data": {
      "text/html": [],
      "text/plain": [
       "<IPython.core.display.HTML object>"
      ]
     },
     "metadata": {},
     "output_type": "display_data"
    },
    {
     "name": "stdout",
     "output_type": "stream",
     "text": [
      "18ahq_dwg_1_worlds_oct_20_2019 positions already detected\n",
      "19fpx_jt_1_worlds_oct_12_2019 positions already detected\n",
      "20fnc_skt_2_worlds_oct_19_2019 positions already detected\n",
      "21hka_isg_1_2019 detecting positions\n"
     ]
    },
    {
     "data": {
      "text/html": [],
      "text/plain": [
       "<IPython.core.display.HTML object>"
      ]
     },
     "metadata": {},
     "output_type": "display_data"
    },
    {
     "name": "stdout",
     "output_type": "stream",
     "text": [
      "22lk_mg_2_worlds_2019 positions already detected\n",
      "23lec_2020_fnc_msf detecting positions\n"
     ]
    },
    {
     "data": {
      "text/html": [],
      "text/plain": [
       "<IPython.core.display.HTML object>"
      ]
     },
     "metadata": {},
     "output_type": "display_data"
    },
    {
     "name": "stdout",
     "output_type": "stream",
     "text": [
      "24dwg_ryl_worlds_2019 positions already detected\n",
      "25c9_hka_1_worlds_oct_18_2019 positions already detected\n",
      "26hka_lk_2_worlds_2019 positions already detected\n",
      "27ahq_ig_1_worlds_oct_20_2019 positions already detected\n",
      "28lk_mg_worlds_2019 positions already detected\n",
      "29hka_lk_worlds_2019 positions already detected\n",
      "30dwg_tl_1_worlds_oct_20_2019 positions already detected\n",
      "31cg_skt_1_worlds_oct_19_2019 positions already detected\n",
      "32lec_2020_mad_xl detecting positions\n"
     ]
    },
    {
     "data": {
      "text/html": [],
      "text/plain": [
       "<IPython.core.display.HTML object>"
      ]
     },
     "metadata": {},
     "output_type": "display_data"
    },
    {
     "name": "stdout",
     "output_type": "stream",
     "text": [
      "33fpx_gam_1_worlds_oct_15_2019 positions already detected\n",
      "34dwg_lk_worlds_2019 positions already detected\n",
      "35lec_2020_msf_reg detecting positions\n"
     ]
    },
    {
     "data": {
      "text/html": [],
      "text/plain": [
       "<IPython.core.display.HTML object>"
      ]
     },
     "metadata": {},
     "output_type": "display_data"
    },
    {
     "name": "stdout",
     "output_type": "stream",
     "text": [
      "36spy_uol_3_2019 detecting positions\n"
     ]
    },
    {
     "data": {
      "text/html": [],
      "text/plain": [
       "<IPython.core.display.HTML object>"
      ]
     },
     "metadata": {},
     "output_type": "display_data"
    },
    {
     "name": "stdout",
     "output_type": "stream",
     "text": [
      "37jt_spy_1_worlds_oct_15_2019 positions already detected\n",
      "38lec_2020_g2_sk detecting positions\n"
     ]
    },
    {
     "data": {
      "text/html": [],
      "text/plain": [
       "<IPython.core.display.HTML object>"
      ]
     },
     "metadata": {},
     "output_type": "display_data"
    },
    {
     "name": "stdout",
     "output_type": "stream",
     "text": [
      "39ahq_tl_1_worlds_oct_20_2019 positions already detected\n",
      "40lec_2020_so4_xl detecting positions\n"
     ]
    },
    {
     "data": {
      "text/html": [],
      "text/plain": [
       "<IPython.core.display.HTML object>"
      ]
     },
     "metadata": {},
     "output_type": "display_data"
    },
    {
     "name": "stdout",
     "output_type": "stream",
     "text": [
      "41spy_uol_2_2019 detecting positions\n"
     ]
    },
    {
     "data": {
      "text/html": [],
      "text/plain": [
       "<IPython.core.display.HTML object>"
      ]
     },
     "metadata": {},
     "output_type": "display_data"
    },
    {
     "name": "stdout",
     "output_type": "stream",
     "text": [
      "42spy_uol_6_2019 detecting positions\n"
     ]
    },
    {
     "data": {
      "text/html": [],
      "text/plain": [
       "<IPython.core.display.HTML object>"
      ]
     },
     "metadata": {},
     "output_type": "display_data"
    },
    {
     "name": "stdout",
     "output_type": "stream",
     "text": [
      "43cg_ryl_3_worlds_2019 positions already detected\n",
      "44fnc_skt_1_worlds_oct_19_2019 positions already detected\n",
      "45hka_isg_4_2019 detecting positions\n"
     ]
    },
    {
     "data": {
      "text/html": [],
      "text/plain": [
       "<IPython.core.display.HTML object>"
      ]
     },
     "metadata": {},
     "output_type": "display_data"
    },
    {
     "name": "stdout",
     "output_type": "stream",
     "text": [
      "46ig_tl_1_worlds_oct_20_2019 positions already detected\n",
      "47g2_grf_2_worlds_oct_18_2019 positions already detected\n",
      "48cg_fnc_1_worlds_oct_13_2019 positions already detected\n",
      "49fnc_rng_1_worlds_oct_13_2019 positions already detected\n",
      "50dwg_fla_worlds_2019 positions already detected\n",
      "51cg_fnc_2_worlds_oct_19_2019 positions already detected\n",
      "52lec_2020_fnc_og detecting positions\n"
     ]
    },
    {
     "data": {
      "text/html": [],
      "text/plain": [
       "<IPython.core.display.HTML object>"
      ]
     },
     "metadata": {},
     "output_type": "display_data"
    },
    {
     "name": "stdout",
     "output_type": "stream",
     "text": [
      "53fla_ryl_3_worlds_2019 positions already detected\n",
      "54fla_ryl_2_worlds_2019 positions already detected\n",
      "55lec_2020_msf_sk detecting positions\n"
     ]
    },
    {
     "data": {
      "text/html": [],
      "text/plain": [
       "<IPython.core.display.HTML object>"
      ]
     },
     "metadata": {},
     "output_type": "display_data"
    },
    {
     "name": "stdout",
     "output_type": "stream",
     "text": [
      "56jt_spy_1_worlds_oct_17_2019 positions already detected\n",
      "57lec_2020_g2_mad detecting positions\n"
     ]
    },
    {
     "data": {
      "text/html": [],
      "text/plain": [
       "<IPython.core.display.HTML object>"
      ]
     },
     "metadata": {},
     "output_type": "display_data"
    },
    {
     "name": "stdout",
     "output_type": "stream",
     "text": [
      "58fpx_gam_1_worlds_oct_17_2019 positions already detected\n",
      "59dwg_lk_4_worlds_2019 positions already detected\n",
      "60c9_grf_1_worlds_oct_18_2019 positions already detected\n",
      "61fpx_spy_1_worlds_oct_17_2019 positions already detected\n",
      "62dwg_tl_1_worlds_oct_12_2019 positions already detected\n",
      "63cg_ryl_1_worlds_2019 positions already detected\n",
      "64gam_spy_1_worlds_oct_17_2019 positions already detected\n",
      "65rng_skt_2_worlds_oct_19_2019 positions already detected\n",
      "66cg_ryl_2_worlds_2019 positions already detected\n",
      "67spy_uol_5_2019 detecting positions\n"
     ]
    },
    {
     "data": {
      "text/html": [],
      "text/plain": [
       "<IPython.core.display.HTML object>"
      ]
     },
     "metadata": {},
     "output_type": "display_data"
    },
    {
     "name": "stdout",
     "output_type": "stream",
     "text": [
      "68fnc_skt_1_worlds_oct_12_2019 positions already detected\n",
      "69cg_rng_1_worlds_oct_19_2019 positions already detected\n",
      "70dwg_ig_1_worlds_oct_20_2019 positions already detected\n",
      "71spy_fpx_1_worlds_oct_17_2019 positions already detected\n",
      "72cg_mmm_worlds_2019 positions already detected\n",
      "73hka_isg_2_2019 detecting positions\n"
     ]
    },
    {
     "data": {
      "text/html": [],
      "text/plain": [
       "<IPython.core.display.HTML object>"
      ]
     },
     "metadata": {},
     "output_type": "display_data"
    },
    {
     "name": "stdout",
     "output_type": "stream",
     "text": [
      "74hka_mg_worlds_2019 positions already detected\n",
      "75dwg_lk_3_worlds_2019 positions already detected\n",
      "76cg_skt_1_worlds_oct_15_2019 positions already detected\n",
      "77spy_uol_4_2019 detecting positions\n"
     ]
    },
    {
     "data": {
      "text/html": [],
      "text/plain": [
       "<IPython.core.display.HTML object>"
      ]
     },
     "metadata": {},
     "output_type": "display_data"
    },
    {
     "name": "stdout",
     "output_type": "stream",
     "text": [
      "78dwg_lk_2_worlds_2019 positions already detected\n",
      "79isg_spy_worlds_2019 positions already detected\n",
      "80gam_jt_1_worlds_oct_17_2019 positions already detected\n",
      "81lec_2020_rge_xl detecting positions\n"
     ]
    },
    {
     "data": {
      "text/html": [],
      "text/plain": [
       "<IPython.core.display.HTML object>"
      ]
     },
     "metadata": {},
     "output_type": "display_data"
    },
    {
     "name": "stdout",
     "output_type": "stream",
     "text": [
      "82fpx_jt_1_worlds_oct_17_2019 positions already detected\n",
      "83grf_g2_1_worlds_oct_13_2019 positions already detected\n",
      "84fnc_rng_1_worlds_oct_19_2019 positions already detected\n",
      "85g2_grf_1_worlds_oct_18_2019 positions already detected\n",
      "86c9_g2_1_worlds_oct_18_2019 positions already detected\n",
      "87cg_rng_1_worlds_oct_12_2019 positions already detected\n",
      "88cg_uol_worlds_2019 positions already detected\n",
      "89lec_2020_og_rge detecting positions\n"
     ]
    },
    {
     "data": {
      "text/html": [],
      "text/plain": [
       "<IPython.core.display.HTML object>"
      ]
     },
     "metadata": {},
     "output_type": "display_data"
    }
   ],
   "source": [
    "predict_positions(\"full\")\n",
    "predict_positions(\"team\")"
   ]
  },
  {
   "cell_type": "markdown",
   "metadata": {},
   "source": [
    "# Create Final Data"
   ]
  },
  {
   "cell_type": "markdown",
   "metadata": {},
   "source": [
    "Collect the data which will used in the final model training."
   ]
  },
  {
   "cell_type": "markdown",
   "metadata": {},
   "source": [
    "## Collect Images "
   ]
  },
  {
   "cell_type": "code",
   "execution_count": 7,
   "metadata": {},
   "outputs": [
    {
     "name": "stderr",
     "output_type": "stream",
     "text": [
      "100%|██████████| 89/89 [01:03<00:00,  1.41it/s]\n"
     ]
    }
   ],
   "source": [
    "dst_dir = \"./games_composite\"\n",
    "empty_dir(f\"{dst_dir}/team\")\n",
    "empty_dir(f\"{dst_dir}/full\")\n",
    "\n",
    "games = os.listdir(\"./games\")\n",
    "for g in tqdm.tqdm(games):\n",
    "    team_dir = f\"./games/{g}/team\"\n",
    "    full_dir = f\"./games/{g}/full\"\n",
    "    team_maps = os.listdir(team_dir)\n",
    "    team_maps = [m for m in team_maps if \".png\" in m]\n",
    "    team_maps.sort()\n",
    "    for i in range(len(team_maps)):\n",
    "        shutil.copy(f\"{full_dir}/{team_maps[i]}\", f\"{dst_dir}/full/{team_maps[i]}\")\n",
    "        shutil.copy(f\"{team_dir}/{team_maps[i]}\", f\"{dst_dir}/team/{team_maps[i]}\")\n"
   ]
  },
  {
   "cell_type": "markdown",
   "metadata": {},
   "source": [
    "## Analyze CSV"
   ]
  },
  {
   "cell_type": "markdown",
   "metadata": {},
   "source": [
    "We only want to find he players which can't be seen in the team view map. To do this we subtract the team positions from the full positions"
   ]
  },
  {
   "cell_type": "code",
   "execution_count": 8,
   "metadata": {},
   "outputs": [
    {
     "ename": "FileNotFoundError",
     "evalue": "[Errno 2] No such file or directory: './games-collected'",
     "output_type": "error",
     "traceback": [
      "\u001b[0;31m---------------------------------------------------------------------------\u001b[0m",
      "\u001b[0;31mFileNotFoundError\u001b[0m                         Traceback (most recent call last)",
      "\u001b[0;32m<ipython-input-8-0c1f6aa48cd7>\u001b[0m in \u001b[0;36m<module>\u001b[0;34m\u001b[0m\n\u001b[1;32m     15\u001b[0m \u001b[0;34m\u001b[0m\u001b[0m\n\u001b[1;32m     16\u001b[0m \u001b[0mpreds\u001b[0m \u001b[0;34m=\u001b[0m \u001b[0;34m{\u001b[0m\u001b[0;34m}\u001b[0m\u001b[0;34m\u001b[0m\u001b[0;34m\u001b[0m\u001b[0m\n\u001b[0;32m---> 17\u001b[0;31m \u001b[0;32mfor\u001b[0m \u001b[0mgame\u001b[0m \u001b[0;32min\u001b[0m \u001b[0mos\u001b[0m\u001b[0;34m.\u001b[0m\u001b[0mlistdir\u001b[0m\u001b[0;34m(\u001b[0m\u001b[0;34m\"./games-collected\"\u001b[0m\u001b[0;34m)\u001b[0m\u001b[0;34m:\u001b[0m\u001b[0;34m\u001b[0m\u001b[0;34m\u001b[0m\u001b[0m\n\u001b[0m\u001b[1;32m     18\u001b[0m     \u001b[0mpreds\u001b[0m \u001b[0;34m=\u001b[0m \u001b[0madd_preds\u001b[0m\u001b[0;34m(\u001b[0m\u001b[0;34mf\"./games/{game}/full/full_{game}.csv\"\u001b[0m\u001b[0;34m)\u001b[0m\u001b[0;34m\u001b[0m\u001b[0;34m\u001b[0m\u001b[0m\n\u001b[1;32m     19\u001b[0m     \u001b[0mpreds\u001b[0m \u001b[0;34m=\u001b[0m \u001b[0madd_preds\u001b[0m\u001b[0;34m(\u001b[0m\u001b[0;34mf\"./games/{game}/team/team_{game}.csv\"\u001b[0m\u001b[0;34m)\u001b[0m\u001b[0;34m\u001b[0m\u001b[0;34m\u001b[0m\u001b[0m\n",
      "\u001b[0;31mFileNotFoundError\u001b[0m: [Errno 2] No such file or directory: './games-collected'"
     ]
    }
   ],
   "source": [
    "def draw_grid(draw, grids):\n",
    "    for g in grids:\n",
    "        fill = (0, 255, 255, 96)\n",
    "        x = g[0] * grid_size\n",
    "        y = g[1] * grid_size\n",
    "        draw.rectangle((x, y, x + grid_size, y + grid_size), fill=fill)\n",
    "\n",
    "def add_preds(csv_path, preds):\n",
    "    with open(csv_path, 'r') as csvfile:\n",
    "        reader = csv.reader(csvfile, delimiter=',', quotechar='|')\n",
    "        next(reader)\n",
    "        for row in reader:\n",
    "            preds[row[0]] = [(int(i.split(\";\")[0]), int(i.split(\";\")[1])) for i in row[1].split(\" \")]\n",
    "        return preds\n",
    "\n",
    "preds = {}\n",
    "for game in os.listdir(\"./games-collected\"):\n",
    "    preds = add_preds(f\"./games/{game}/full/full_{game}.csv\")\n",
    "    preds = add_preds(f\"./games/{game}/team/team_{game}.csv\")\n",
    "\n",
    "preds    \n",
    "# def draw_preds(game):\n",
    "#     preds_all = get_preds(f\"./games/{game}/full/full_{game}.csv\")\n",
    "#     preds_team = get_preds(f\"./games/{game}/team/team_{game}.csv\")\n",
    "    \n",
    "#     images = os.listdir(f\"./games/{game}/full/\")\n",
    "#     images.sort()\n",
    "        \n",
    "#     for i in range(0,len(images),200):\n",
    "#         im = images[i].replace(\".png\", \"\")\n",
    "#         if \".csv\" in im:\n",
    "#             continue\n",
    "        \n",
    "#         p1 = preds_all[im]\n",
    "#         p1.sort()\n",
    "#         p2 = preds_team[im]\n",
    "#         p2.sort()\n",
    "\n",
    "#         indexes = []\n",
    "#         for p in p2:\n",
    "#             for i in range(len(p1)):\n",
    "#                 q = p1[i]\n",
    "#                 diff = (p[0]-q[0])**2 + (p[1]-q[1])**2\n",
    "#                 if diff < 5:\n",
    "#                     indexes.append(i)\n",
    "\n",
    "#         indexes = list(set(indexes))\n",
    "#         indexes.sort(reverse=True)\n",
    "#         for j in indexes:\n",
    "#             p1.pop(j)\n",
    "\n",
    "\n",
    "#         grids = p1\n",
    "\n",
    "#         img = PIL.Image.open(f\"./games/ahq_ig_1_worlds_oct_12_2019/team/{im}.png\").convert(\"RGBA\")\n",
    "#         overlay = PIL.Image.new('RGBA', img.size, (255, 255, 255, 0))\n",
    "#         draw = ImageDraw.Draw(overlay)\n",
    "#         draw_grid(draw, grids)\n",
    "#         out = PIL.Image.alpha_composite(img, overlay)\n",
    "        \n",
    "#         plt.figure()\n",
    "#         plt.imshow(out)\n",
    "#         plt.figure()\n",
    "#         t = PIL.Image.open(f\"./games/ahq_ig_1_worlds_oct_12_2019/full/{im}.png\").convert(\"RGBA\")\n",
    "#         plt.imshow(t)\n",
    "        \n",
    "    \n",
    "# draw_preds(\"ahq_ig_1_worlds_oct_12_2019\")"
   ]
  },
  {
   "cell_type": "code",
   "execution_count": null,
   "metadata": {},
   "outputs": [],
   "source": []
  }
 ],
 "metadata": {
  "kernelspec": {
   "display_name": "Python 3",
   "language": "python",
   "name": "python3"
  },
  "language_info": {
   "codemirror_mode": {
    "name": "ipython",
    "version": 3
   },
   "file_extension": ".py",
   "mimetype": "text/x-python",
   "name": "python",
   "nbconvert_exporter": "python",
   "pygments_lexer": "ipython3",
   "version": "3.7.6"
  },
  "toc": {
   "base_numbering": 1,
   "nav_menu": {},
   "number_sections": true,
   "sideBar": true,
   "skip_h1_title": false,
   "title_cell": "Table of Contents",
   "title_sidebar": "Contents",
   "toc_cell": false,
   "toc_position": {
    "height": "calc(100% - 180px)",
    "left": "10px",
    "top": "150px",
    "width": "370.6px"
   },
   "toc_section_display": true,
   "toc_window_display": true
  }
 },
 "nbformat": 4,
 "nbformat_minor": 1
}
