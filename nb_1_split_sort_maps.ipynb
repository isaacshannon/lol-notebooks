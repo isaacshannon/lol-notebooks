{
 "cells": [
  {
   "cell_type": "markdown",
   "metadata": {},
   "source": [
    "# Split & Sort"
   ]
  },
  {
   "cell_type": "markdown",
   "metadata": {},
   "source": [
    "This notebook takes 150x150px images of maps and allows a human to review them and tag where players for each team are present. The images pulled out by this notebook will be used to train the locator model, which identifies which grid on the map contains a hero."
   ]
  },
  {
   "cell_type": "code",
   "execution_count": 1,
   "metadata": {},
   "outputs": [],
   "source": [
    "import os\n",
    "import PIL\n",
    "PIL.PILLOW_VERSION = PIL.__version__\n",
    "import fastai\n",
    "from fastai.basic_train import load_learner\n",
    "from fastai.vision import *\n",
    "from tqdm import tqdm_notebook\n",
    "from datetime import datetime\n",
    "\n",
    "random.seed(datetime.now())"
   ]
  },
  {
   "cell_type": "code",
   "execution_count": 2,
   "metadata": {},
   "outputs": [],
   "source": [
    "def empty_dir(folder):\n",
    "    for the_file in os.listdir(folder):\n",
    "        file_path = os.path.join(folder, the_file)\n",
    "        try:\n",
    "            if os.path.isfile(file_path):\n",
    "                os.unlink(file_path)\n",
    "        except Exception as e:\n",
    "            print(e)"
   ]
  },
  {
   "cell_type": "markdown",
   "metadata": {},
   "source": [
    "# Source Minimaps"
   ]
  },
  {
   "cell_type": "markdown",
   "metadata": {},
   "source": [
    "Helpers that saturate the blue and red to make players more visible. They also make a white border around the image to help the model focus on players in the center of the image."
   ]
  },
  {
   "cell_type": "code",
   "execution_count": 3,
   "metadata": {},
   "outputs": [],
   "source": [
    "def colour_filter(img):\n",
    "    converter = PIL.ImageEnhance.Color(img)\n",
    "    img = converter.enhance(3)\n",
    "    overlay = PIL.Image.new('RGBA', img.size, (0, 0, 0, 0))\n",
    "    draw = PIL.ImageDraw.Draw(overlay)\n",
    "    fill = (255,255,255,128)\n",
    "    draw.rectangle((0,0,7,30), fill=fill)\n",
    "    draw.rectangle((0,23,30,30), fill=fill)\n",
    "    draw.rectangle((23,30,30,0), fill=fill)\n",
    "    draw.rectangle((30,0,0,7), fill=fill)\n",
    "    out = PIL.Image.alpha_composite(img, overlay)\n",
    "    out = out.resize((90,90))\n",
    "    return out\n",
    "\n",
    "def colour_blast(src, dst):\n",
    "    img = PIL.Image.open(src).convert(\"RGBA\")\n",
    "    img = colour_filter(img)\n",
    "    \n",
    "    img.save(dst)"
   ]
  },
  {
   "cell_type": "markdown",
   "metadata": {},
   "source": [
    "## Stats"
   ]
  },
  {
   "cell_type": "code",
   "execution_count": 4,
   "metadata": {},
   "outputs": [
    {
     "name": "stdout",
     "output_type": "stream",
     "text": [
      "Red: 2616\n",
      "Red Unsorted: 5187\n",
      "Blue: 3071\n",
      "Blue Unsorted: 4575\n",
      "Terrain: 768\n",
      "Terrain Unsorted: 0\n",
      "Player Unsorted: 0\n"
     ]
    }
   ],
   "source": [
    "data_dir = \"./locator/data/\"\n",
    "\n",
    "red_dir =  \"./locator/data/red/\"\n",
    "blue_dir =  \"./locator/data/blue/\"\n",
    "purple_dir = \"./locator/data/purple/\"\n",
    "terrain_dir = \"./locator/data/terrain/\"\n",
    "\n",
    "# player_src =  \"./locator/data/raw-player/\"\n",
    "player_src = \"./locator/data/cherry-pick/\"\n",
    "terrain_src =  \"./locator/data/unsorted-terrain/\"\n",
    "\n",
    "l = len(os.listdir(red_dir))\n",
    "print(\"Red: \" + str(l))\n",
    "l = len(os.listdir(\"./locator/data/unsorted-red/\"))\n",
    "print(\"Red Unsorted: \" + str(l))\n",
    "l = len(os.listdir(blue_dir))\n",
    "print(\"Blue: \" + str(l))\n",
    "l = len(os.listdir(\"./locator/data/unsorted-blue/\"))\n",
    "print(\"Blue Unsorted: \" + str(l))\n",
    "l = len(os.listdir(purple_dir))\n",
    "print(\"Terrain: \" + str(l))\n",
    "\n",
    "l = len(os.listdir(terrain_src))\n",
    "print(\"Terrain Unsorted: \" + str(l))\n",
    "l = len(os.listdir(player_src))\n",
    "print(\"Player Unsorted: \" + str(l))"
   ]
  },
  {
   "cell_type": "markdown",
   "metadata": {},
   "source": [
    "## Sort"
   ]
  },
  {
   "cell_type": "markdown",
   "metadata": {},
   "source": [
    "Sort allows a human to go through a list of 30x30 images and label them as containing red, blue or no players."
   ]
  },
  {
   "cell_type": "code",
   "execution_count": 5,
   "metadata": {},
   "outputs": [],
   "source": [
    "import tkinter as tk\n",
    "import csv\n",
    "import random\n",
    "from PIL import Image, ImageDraw, ImageTk\n",
    "import shutil\n",
    "\n",
    "\n",
    "source_dir = player_src\n",
    "# source_dir = terrain_dir\n",
    "\n",
    "\n",
    "def next_img(dest):\n",
    "    root.moved_images.append(dest)\n",
    "    root.img_index += 1\n",
    "    draw_map()\n",
    "    img = root.image_list[root.img_index]\n",
    "\n",
    "def red():\n",
    "    img = root.image_list[root.img_index]\n",
    "    src = source_dir + img\n",
    "    dest = red_dir + img\n",
    "    os.rename(src, dest)\n",
    "    next_img(dest)\n",
    "\n",
    "def blue():\n",
    "    img = root.image_list[root.img_index]\n",
    "    src = source_dir + img\n",
    "    dest = blue_dir + img\n",
    "    os.rename(src, dest)\n",
    "    next_img(dest)\n",
    "\n",
    "def terrain():\n",
    "    img = root.image_list[root.img_index]\n",
    "    src = source_dir + img\n",
    "    dest = terrain_dir + img\n",
    "    os.rename(src, dest)\n",
    "    next_img(dest)\n",
    "    \n",
    "def skip():\n",
    "    next_img(\"\")\n",
    "\n",
    "\n",
    "def undo():\n",
    "    img = root.moved_images.pop()\n",
    "    name = img.split(\"/\")[-1]\n",
    "    root.img_index -= 1\n",
    "    os.remove(img)\n",
    "    draw_map()\n",
    "\n",
    "def draw_map():\n",
    "    img = Image.open(f\"{source_dir}{root.image_list[root.img_index]}\").convert('RGBA')\n",
    "    converter = PIL.ImageEnhance.Color(img)   \n",
    "    img2 = converter.enhance(2)\n",
    "\n",
    "    overlay = Image.new('RGBA', img2.size, (255, 255, 255, 0))\n",
    "    draw = ImageDraw.Draw(overlay)\n",
    "    out = Image.alpha_composite(img2, overlay)\n",
    "    root.photo = ImageTk.PhotoImage(out)\n",
    "    map_label.configure(image=root.photo)\n",
    "    root.photo2 = ImageTk.PhotoImage(img)\n",
    "    map2_label.configure(image=root.photo2)\n",
    "\n",
    "\n",
    "root = tk.Tk()\n",
    "red_images = set(os.listdir(red_dir))\n",
    "blue_images = set(os.listdir(blue_dir))\n",
    "purple_images = set(os.listdir(purple_dir))\n",
    "terrain_images = set(os.listdir(terrain_dir))\n",
    "images = set(os.listdir(source_dir))\n",
    "if len(images) != 0:\n",
    "    images = list(images)\n",
    "    images.sort()\n",
    "    root.image_list = images\n",
    "    root.img_index = 0\n",
    "    root.moved_images = []\n",
    "\n",
    "    map_label = tk.Label(root)\n",
    "    map_label.pack()\n",
    "    map2_label = tk.Label(root)\n",
    "    map2_label.pack()\n",
    "    draw_map()\n",
    "\n",
    "    red_btn = tk.Button(root, text=\"Red\", command=red, bg=\"red\", height = 3, width = 30)\n",
    "    red_btn.pack()\n",
    "    blue_btn = tk.Button(root, text=\"Blue\", command=blue, bg=\"blue\", height = 3, width = 30)\n",
    "    blue_btn.pack()\n",
    "    terrain_btn = tk.Button(root, text=\"Terrain\", command=terrain, bg=\"brown\", height = 3, width = 30)\n",
    "    terrain_btn.pack()\n",
    "\n",
    "    skip_btn = tk.Button(root, text=\"Skip\", command=skip, height = 3, width = 30)\n",
    "    skip_btn.pack()\n",
    "    undo_btn = tk.Button(root, text=\"Undo\", command=undo, height = 3, width = 30)\n",
    "    undo_btn.pack()\n",
    "\n",
    "    root.mainloop()"
   ]
  },
  {
   "cell_type": "markdown",
   "metadata": {},
   "source": [
    "# Fine Tune Review"
   ]
  },
  {
   "cell_type": "markdown",
   "metadata": {},
   "source": [
    "This review pass runs the locator model, and allows a human to review the sorted images."
   ]
  },
  {
   "cell_type": "markdown",
   "metadata": {},
   "source": [
    "## Predict & Sort images"
   ]
  },
  {
   "cell_type": "markdown",
   "metadata": {},
   "source": [
    "Run predictions on the images for review."
   ]
  },
  {
   "cell_type": "code",
   "execution_count": 6,
   "metadata": {},
   "outputs": [],
   "source": [
    "learn = load_learner(\"locator/data/final/all/models\", \"locator.pth\")"
   ]
  },
  {
   "cell_type": "code",
   "execution_count": 159,
   "metadata": {},
   "outputs": [
    {
     "data": {
      "text/html": [],
      "text/plain": [
       "<IPython.core.display.HTML object>"
      ]
     },
     "metadata": {},
     "output_type": "display_data"
    }
   ],
   "source": [
    "def get_predictions(img_dir, learner, predictions):\n",
    "    # Predict the grid image types\n",
    "    test = ImageList.from_folder(img_dir)\n",
    "    learner.data.add_test(test)\n",
    "    preds = learner.get_preds(ds_type=DatasetType.Test)\n",
    "    num_preds = len(preds)\n",
    "    z = 0\n",
    "\n",
    "    # Identify the grids which are player squares\n",
    "    for i in range(len(preds[0])):\n",
    "        p = preds[0][i].tolist()\n",
    "        pred_map = {}\n",
    "        for j in range(len(p)):\n",
    "            pred_map[learn.data.classes[j]] = p[j]\n",
    "        if pred_map[\"player\"] < pred_map[\"terrain\"] or pred_map[\"terrain\"] > 0.3:\n",
    "            continue\n",
    "        if pred_map[\"red\"] < pred_map[\"terrain\"] and pred_map[\"blue\"] < pred_map[\"terrain\"]:\n",
    "            continue\n",
    "        if pred_map[\"red\"] > pred_map[\"blue\"]:\n",
    "            category = \"red\"\n",
    "        else:\n",
    "            category = \"blue\"\n",
    "        img = test.items[i]\n",
    "        predictions.append((img.stem, category))\n",
    "\n",
    "    return predictions\n",
    "\n",
    "empty_dir(\"./locator/data/colour-blasted\")\n",
    "empty_dir(\"./locator/data/unsorted-blue\")\n",
    "empty_dir(\"./locator/data/unsorted-red\")\n",
    "empty_dir(\"./locator/data/unsorted-purple\")\n",
    "empty_dir(\"./locator/data/unsorted-terrain\")\n",
    "for f in os.listdir(\"./locator/data/raw-player\"):\n",
    "    if not \".png\" in f:\n",
    "        continue\n",
    "    img = PIL.Image.open(f\"./locator/data/raw-player/{f}\").convert(\"RGBA\")\n",
    "    converter = PIL.ImageEnhance.Color(img)\n",
    "    img = converter.enhance(3)\n",
    "    img.save(f\"./locator/data/colour-blasted/{f}\")\n",
    "\n",
    "predictions = get_predictions(\"./locator/data/colour-blasted/\", learn, [])\n",
    "predictions\n",
    "for p in predictions:\n",
    "    shutil.copy(f\"./locator/data/raw-player/{p[0]}.png\", f\"./locator/data/unsorted-{p[1]}/{p[0]}.png\")"
   ]
  },
  {
   "cell_type": "markdown",
   "metadata": {},
   "source": [
    "## Cherry pick screenshots from maps"
   ]
  },
  {
   "cell_type": "markdown",
   "metadata": {},
   "source": [
    "This helper allows humans to visualize predictions from the locator model and pick out images which should be labeled. This helps correct mistakes due to a hero not being present enough or misidentified because their hero color is bluish or reddish."
   ]
  },
  {
   "cell_type": "code",
   "execution_count": 167,
   "metadata": {},
   "outputs": [
    {
     "data": {
      "text/html": [],
      "text/plain": [
       "<IPython.core.display.HTML object>"
      ]
     },
     "metadata": {},
     "output_type": "display_data"
    },
    {
     "data": {
      "text/html": [],
      "text/plain": [
       "<IPython.core.display.HTML object>"
      ]
     },
     "metadata": {},
     "output_type": "display_data"
    },
    {
     "data": {
      "text/html": [],
      "text/plain": [
       "<IPython.core.display.HTML object>"
      ]
     },
     "metadata": {},
     "output_type": "display_data"
    },
    {
     "data": {
      "text/html": [],
      "text/plain": [
       "<IPython.core.display.HTML object>"
      ]
     },
     "metadata": {},
     "output_type": "display_data"
    },
    {
     "data": {
      "text/html": [],
      "text/plain": [
       "<IPython.core.display.HTML object>"
      ]
     },
     "metadata": {},
     "output_type": "display_data"
    }
   ],
   "source": [
    "import tkinter as tk\n",
    "import csv\n",
    "import random\n",
    "from PIL import Image, ImageDraw, ImageTk\n",
    "import shutil\n",
    "\n",
    "game = random.choice(os.listdir(\"./games\"))\n",
    "src_dir = f\"./games/{game}/full/\"\n",
    "\n",
    "def draw_grid(draw, predictions):\n",
    "    for p in predictions:\n",
    "        if p[1] == \"terrain\":\n",
    "            continue\n",
    "        x = 15 * int(p[0])//1000\n",
    "        y = 15 * (int(p[0])%1000)\n",
    "        if p[1] == \"purple\":\n",
    "            fill = (128,128,128,128)\n",
    "        if p[1] == \"blue\":\n",
    "            fill = (0,0,128,128)\n",
    "        if p[1] == \"red\":\n",
    "            fill = (128,0,0,128)\n",
    "        draw.rectangle((x-7, y-7, x+7, y+7), fill=fill)\n",
    "\n",
    "def next_img():\n",
    "    draw_map()\n",
    "\n",
    "def draw_map():\n",
    "    game = random.choice(os.listdir(\"./games\"))\n",
    "    src_dir = f\"./games/{game}/full/\"\n",
    "    images = os.listdir(src_dir)\n",
    "    random.shuffle(images)\n",
    "    root.image = f\"{src_dir}/{random.choice(images)}\"\n",
    "    img = Image.open(root.image).convert('RGBA')\n",
    "    empty_dir(data_dir+\"/tmp\")\n",
    "    \n",
    "    for i in range(0, img.height, 15):\n",
    "        for j in range(0, img.width, 15):\n",
    "            box = (j-15, i-15, j + 15, i + 15)\n",
    "            a = img.crop(box)\n",
    "            a = colour_filter(a)\n",
    "            a.save(data_dir+f\"/tmp/{j*1000//15+i//15}.png\")\n",
    "    \n",
    "    predictions = get_predictions(data_dir+\"/tmp\", learn, [])\n",
    "\n",
    "    overlay = Image.new('RGBA', img.size, (255, 255, 255, 0))\n",
    "    draw = ImageDraw.Draw(overlay)\n",
    "    draw_grid(draw, predictions)\n",
    "    out = Image.alpha_composite(img, overlay)\n",
    "    root.raw_img = img\n",
    "    root.photo = ImageTk.PhotoImage(out)\n",
    "    map_label.configure(image=root.photo)\n",
    "    \n",
    "def click(event):\n",
    "    cropped = root.raw_img.crop((event.x-15, event.y-15, event.x+15, event.y+15))\n",
    "    cropped.save(f\"./locator/data/cherry-pick/{event.x}-{event.y}-{root.image.split('/')[-1]}\")\n",
    "\n",
    "\n",
    "root = tk.Tk()\n",
    "\n",
    "map_label = tk.Label(root)\n",
    "map_label.bind(\"<Button-1>\", click)\n",
    "map_label.pack()\n",
    "draw_map()\n",
    "\n",
    "next_btn = tk.Button(root, text=\"Next\", command=next_img, height = 3, width = 30)\n",
    "next_btn.pack()\n",
    "\n",
    "root.mainloop()"
   ]
  },
  {
   "cell_type": "markdown",
   "metadata": {},
   "source": [
    "# Sort Bottom/Top Team Maps"
   ]
  },
  {
   "cell_type": "markdown",
   "metadata": {},
   "source": [
    "This helper allows a human to create a spreadshot of which games were recorded for a top team and which are for a bottom team. This will allow us to correct the fact that top is always red in the full map."
   ]
  },
  {
   "cell_type": "code",
   "execution_count": 4,
   "metadata": {},
   "outputs": [
    {
     "name": "stdout",
     "output_type": "stream",
     "text": [
      "ahq_dwg_1_worlds_oct_13_2019\n",
      "ahq_dwg_1_worlds_oct_20_2019\n",
      "ahq_ig_1_worlds_oct_12_2019\n",
      "ahq_ig_1_worlds_oct_20_2019\n",
      "ahq_tl_1_worlds_oct_20_2019\n",
      "c9_g2_1_worlds_oct_18_2019\n",
      "c9_grf_1_worlds_oct_15_2019\n",
      "c9_grf_1_worlds_oct_18_2019\n",
      "c9_hka_1_worlds_oct_13_2019\n",
      "c9_hka_1_worlds_oct_18_2019\n",
      "cg_fnc_1_worlds_oct_13_2019\n",
      "cg_fnc_2_worlds_oct_19_2019\n",
      "cg_mmm_worlds_2019\n",
      "cg_rng_1_worlds_oct_12_2019\n",
      "cg_rng_1_worlds_oct_19_2019\n",
      "cg_ryl_1_worlds_2019\n",
      "cg_ryl_2_worlds_2019\n",
      "cg_ryl_3_worlds_2019\n",
      "cg_skt_1_worlds_oct_15_2019\n",
      "cg_skt_1_worlds_oct_19_2019\n",
      "cg_uol_worlds_2019\n",
      "dfm_spy_worlds_2019\n",
      "dwg_fla_worlds_2019\n",
      "dwg_ig_1_worlds_oct_20_2019\n",
      "dwg_lk_2_worlds_2019\n",
      "dwg_lk_3_worlds_2019\n",
      "dwg_lk_4_worlds_2019\n",
      "dwg_lk_worlds_2019\n",
      "dwg_ryl_worlds_2019\n",
      "dwg_tl_1_worlds_oct_12_2019\n",
      "dwg_tl_1_worlds_oct_20_2019\n",
      "fla_ryl_2_worlds_2019\n",
      "fla_ryl_3_worlds_2019\n",
      "fla_ryl_worlds_2019\n",
      "fnc_rng_1_worlds_oct_13_2019\n",
      "fnc_rng_1_worlds_oct_19_2019\n",
      "fnc_skt_1_worlds_oct_12_2019\n",
      "fnc_skt_1_worlds_oct_19_2019\n",
      "fpx_gam_1_worlds_oct_15_2019\n",
      "fpx_gam_1_worlds_oct_17_2019\n",
      "fpx_jt_1_worlds_oct_12_2019\n",
      "fpx_jt_1_worlds_oct_17_2019\n",
      "fpx_spy_1_worlds_oct_17_2019\n",
      "g2_grf_1_worlds_oct_18_2019\n",
      "g2_grf_2_worlds_oct_18_2019\n",
      "g2_hka_1_worlds_oct_18_2019\n",
      "gam_jt_1_worlds_oct_17_2019\n",
      "gam_spy_1_worlds_oct_12_2019\n",
      "gam_spy_1_worlds_oct_17_2019\n",
      "grf_g2_1_worlds_oct_13_2019\n",
      "grf_hka_1_worlds_oct_18_2019\n",
      "hka_isg_1_2019\n",
      "hka_isg_2_2019\n",
      "hka_isg_3_2019\n",
      "hka_isg_4_2019\n",
      "hka_lk_2_worlds_2019\n",
      "hka_lk_worlds_2019\n",
      "hka_mg_worlds_2019\n",
      "ig_tl_1_worlds_oct_12_2019\n",
      "ig_tl_1_worlds_oct_20_2019\n",
      "isg_spy_worlds_2019\n",
      "jt_spy_1_worlds_oct_15_2019\n",
      "jt_spy_1_worlds_oct_17_2019\n",
      "lcs_2020_jan25_100_gg\n",
      "lcs_2020_jan25_c9_tl\n",
      "lcs_2020_jan25_clg_dig\n",
      "lcs_2020_jan25_fly_imt\n",
      "lcs_2020_jan26_dig_eg\n",
      "lec_2020_feb14_fnc_vit\n",
      "lec_2020_feb14_g2_msf\n",
      "lec_2020_feb14_og_mad\n",
      "lec_2020_feb14_rge_so4\n",
      "lec_2020_feb14_sk_xl\n",
      "lec_2020_feb15_fnc_mad\n",
      "lec_2020_feb15_g2_so4\n",
      "lec_2020_feb15_msf_vit\n",
      "lec_2020_feb15_og_xl\n",
      "lec_2020_feb15_rge_sk\n",
      "lec_2020_feb1_fnc_sk\n",
      "lec_2020_feb1_g2_og\n",
      "lec_2020_feb1_mad_so4\n",
      "lec_2020_feb1_msf_xl\n",
      "lec_2020_feb1_rge_vit\n",
      "lec_2020_feb21_fnc_rge\n",
      "lec_2020_feb21_g2_xl\n",
      "lec_2020_feb21_mad_msf\n",
      "lec_2020_feb21_og_sk\n",
      "lec_2020_feb21_so4_vit\n",
      "lec_2020_feb22_fnc_og\n",
      "lec_2020_feb22_g2_mad\n",
      "lec_2020_feb22_msf_rge\n",
      "lec_2020_feb22_sk_vit\n",
      "lec_2020_feb22_so4_xl\n",
      "lec_2020_feb28_fnc_msf\n",
      "lec_2020_feb28_g2_sk\n",
      "lec_2020_feb28_mad_vit\n",
      "lec_2020_feb28_og_so4\n",
      "lec_2020_feb28_rge_xl\n",
      "lec_2020_feb29_fnc_so4\n",
      "lec_2020_feb29_g2_vit\n",
      "lec_2020_feb29_mad_xl\n",
      "lec_2020_feb29_msf_sk\n",
      "lec_2020_feb29_og_rge\n",
      "lec_2020_feb7_fnc_xl\n",
      "lec_2020_feb7_g2_rge\n",
      "lec_2020_feb7_mad_sk\n",
      "lec_2020_feb7_msf_so4\n",
      "lec_2020_feb7_og_vit\n",
      "lec_2020_feb8_fnc_og\n",
      "lec_2020_feb8_mad_rge\n",
      "lec_2020_feb8_msf_og\n",
      "lec_2020_feb8_sacre_s04\n",
      "lec_2020_feb8_vit_xl\n",
      "lec_2020_fnc_msf\n",
      "lec_2020_fnc_og\n",
      "lec_2020_g2_sk\n",
      "lec_2020_g2_vit\n",
      "lec_2020_mad_vit\n",
      "lec_2020_mad_xl\n",
      "lec_2020_mar6_fnc_sk\n",
      "lec_2020_mar6_g2_og\n",
      "lec_2020_mar6_mad_so4\n",
      "lec_2020_mar6_rge_vit\n",
      "lec_2020_mar6_xl_msf\n",
      "lec_2020_mar7_fnc_g2\n",
      "lec_2020_mar7_mad_rge\n",
      "lec_2020_mar7_og_msf\n",
      "lec_2020_mar7_so4_sk\n",
      "lec_2020_mar7_vit_xl\n",
      "lec_2020_msf_reg\n",
      "lec_2020_msf_sk\n",
      "lec_2020_og_rge\n",
      "lec_2020_og_so4\n",
      "lec_2020_rge_xl\n",
      "lec_2020_so4_xl\n",
      "lec_2021_g2_mad\n",
      "lec_2021_vit_sk\n",
      "lk_mg_2_worlds_2019\n",
      "lk_mg_worlds_2019\n",
      "mmm_uol_worlds_2019\n",
      "rng_skt_1_worlds_oct_13_2019\n",
      "rng_skt_2_worlds_oct_19_2019\n",
      "spy_fpx_1_worlds_oct_17_2019\n",
      "spy_uol_2_2019\n",
      "spy_uol_3_2019\n",
      "spy_uol_4_2019\n",
      "spy_uol_5_2019\n",
      "spy_uol_6_2019\n",
      "team_location.csv\n"
     ]
    },
    {
     "name": "stderr",
     "output_type": "stream",
     "text": [
      "Exception in Tkinter callback\n",
      "Traceback (most recent call last):\n",
      "  File \"/home/isaac/anaconda3/envs/fastai/lib/python3.7/tkinter/__init__.py\", line 1705, in __call__\n",
      "    return self.func(*args)\n",
      "  File \"<ipython-input-4-06099a2b15fe>\", line 21, in top\n",
      "    draw_map()\n",
      "  File \"<ipython-input-4-06099a2b15fe>\", line 31, in draw_map\n",
      "    images = os.listdir(f\"./games/{games[root.game_index]}/team\")\n",
      "NotADirectoryError: [Errno 20] Not a directory: './games/team_location.csv/team'\n",
      "Exception in Tkinter callback\n",
      "Traceback (most recent call last):\n",
      "  File \"/home/isaac/anaconda3/envs/fastai/lib/python3.7/tkinter/__init__.py\", line 1705, in __call__\n",
      "    return self.func(*args)\n",
      "  File \"<ipython-input-4-06099a2b15fe>\", line 20, in top\n",
      "    game = games[root.game_index]\n",
      "IndexError: list index out of range\n"
     ]
    }
   ],
   "source": [
    "import os\n",
    "import tkinter as tk\n",
    "import csv\n",
    "import random\n",
    "from PIL import Image, ImageDraw, ImageTk\n",
    "import shutil\n",
    "\n",
    "games = os.listdir(\"./games\")\n",
    "games.sort()\n",
    "\n",
    "\n",
    "def next_img():\n",
    "    root.game_index += 1\n",
    "    game = games[root.game_index]\n",
    "    draw_map()\n",
    "    \n",
    "def top():\n",
    "    root.writer.writerow([games[root.game_index], 'top'])\n",
    "    root.game_index += 1\n",
    "    game = games[root.game_index]\n",
    "    draw_map()\n",
    "    \n",
    "def bottom():\n",
    "    root.writer.writerow([games[root.game_index], 'bottom'])\n",
    "    root.game_index += 1\n",
    "    game = games[root.game_index]\n",
    "    draw_map()\n",
    "\n",
    "def draw_map():\n",
    "    images = os.listdir(f\"./games/{games[root.game_index]}/team\")\n",
    "    images.sort()\n",
    "    img = Image.open(f\"./games/{games[root.game_index]}/team/{images[150]}\").convert('RGBA')\n",
    "    img2 = Image.open(f\"./games/{games[root.game_index]}/team/{images[300]}\").convert('RGBA')\n",
    "    root.photo = ImageTk.PhotoImage(img)\n",
    "    root.photo2 = ImageTk.PhotoImage(img2)\n",
    "    map_label.configure(image=root.photo)\n",
    "    map2_label.configure(image=root.photo2)\n",
    "\n",
    "root = tk.Tk()\n",
    "root.game_index = 0\n",
    "\n",
    "import csv\n",
    "with open('./games/team_location.csv', 'w', newline='') as csvfile:\n",
    "    writer = csv.writer(csvfile)\n",
    "    root.writer.writerow([\"game\", position])\n",
    "    root.game_index = 0\n",
    "\n",
    "    root.writer = writer \n",
    "    map_label = tk.Label(root)\n",
    "    map2_label = tk.Label(root)\n",
    "    map_label.pack()\n",
    "    map2_label.pack()\n",
    "    draw_map()\n",
    "\n",
    "    top_btn = tk.Button(root, text=\"Top\", command=top, height = 3, width = 30)\n",
    "    top_btn.pack()\n",
    "    bottom_btn = tk.Button(root, text=\"Bottom\", command=bottom, height = 3, width = 30)\n",
    "    bottom_btn.pack()\n",
    "\n",
    "    next_btn = tk.Button(root, text=\"Next\", command=next_img, height = 3, width = 30)\n",
    "    next_btn.pack()\n",
    "\n",
    "    root.mainloop()"
   ]
  },
  {
   "cell_type": "code",
   "execution_count": null,
   "metadata": {},
   "outputs": [],
   "source": []
  }
 ],
 "metadata": {
  "kernelspec": {
   "display_name": "Python 3",
   "language": "python",
   "name": "python3"
  },
  "language_info": {
   "codemirror_mode": {
    "name": "ipython",
    "version": 3
   },
   "file_extension": ".py",
   "mimetype": "text/x-python",
   "name": "python",
   "nbconvert_exporter": "python",
   "pygments_lexer": "ipython3",
   "version": "3.7.7"
  },
  "toc": {
   "base_numbering": 1,
   "nav_menu": {},
   "number_sections": true,
   "sideBar": true,
   "skip_h1_title": false,
   "title_cell": "Table of Contents",
   "title_sidebar": "Contents",
   "toc_cell": false,
   "toc_position": {
    "height": "calc(100% - 180px)",
    "left": "10px",
    "top": "150px",
    "width": "370.6px"
   },
   "toc_section_display": true,
   "toc_window_display": true
  }
 },
 "nbformat": 4,
 "nbformat_minor": 2
}
